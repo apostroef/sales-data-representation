{
 "cells": [
  {
   "cell_type": "code",
   "execution_count": null,
   "id": "b19645d2",
   "metadata": {},
   "outputs": [
    {
     "ename": "ModuleNotFoundError",
     "evalue": "No module named 'matplotlib'",
     "output_type": "error",
     "traceback": [
      "\u001b[1;31m---------------------------------------------------------------------------\u001b[0m",
      "\u001b[1;31mModuleNotFoundError\u001b[0m                       Traceback (most recent call last)",
      "Cell \u001b[1;32mIn[35], line 5\u001b[0m\n\u001b[0;32m      3\u001b[0m \u001b[38;5;28;01mimport\u001b[39;00m \u001b[38;5;21;01mnumpy\u001b[39;00m \u001b[38;5;28;01mas\u001b[39;00m \u001b[38;5;21;01mnp\u001b[39;00m\n\u001b[0;32m      4\u001b[0m \u001b[38;5;28;01mimport\u001b[39;00m \u001b[38;5;21;01mpandas\u001b[39;00m \u001b[38;5;28;01mas\u001b[39;00m \u001b[38;5;21;01mpd\u001b[39;00m\n\u001b[1;32m----> 5\u001b[0m \u001b[38;5;28;01mimport\u001b[39;00m \u001b[38;5;21;01mmatplotlib\u001b[39;00m\u001b[38;5;21;01m.\u001b[39;00m\u001b[38;5;21;01mpyplot\u001b[39;00m \u001b[38;5;28;01mas\u001b[39;00m \u001b[38;5;21;01mplt\u001b[39;00m\n\u001b[0;32m      6\u001b[0m \u001b[38;5;28;01mimport\u001b[39;00m \u001b[38;5;21;01mseaborn\u001b[39;00m \u001b[38;5;28;01mas\u001b[39;00m \u001b[38;5;21;01msns\u001b[39;00m\n\u001b[0;32m      7\u001b[0m \u001b[38;5;28;01mimport\u001b[39;00m \u001b[38;5;21;01mshutil\u001b[39;00m\n",
      "\u001b[1;31mModuleNotFoundError\u001b[0m: No module named 'matplotlib'"
     ]
    }
   ],
   "source": [
    "# Library settings\n",
    "import re\n",
    "import numpy as np\n",
    "import pandas as pd\n",
    "import matplotlib as plt\n",
    "import seaborn as sns\n",
    "import shutil\n",
    "\n",
    "pd.set_option(\"display.max_columns\", None)\n",
    "pd.set_option(\"display.max_rows\", None)"
   ]
  },
  {
   "cell_type": "code",
   "execution_count": null,
   "id": "a468b981",
   "metadata": {},
   "outputs": [],
   "source": [
    "# Pengolahan Data\n",
    "# 1 Editing\n",
    "df = pd.read_csv(\"Electronic-Sales.csv\")\n",
    "print(\"----------Isi dataset---------\")\n",
    "print(df.head())\n",
    "print(f\"\\n----------Dimensi dataset adalah: {df.shape}----------\")"
   ]
  },
  {
   "cell_type": "code",
   "execution_count": null,
   "id": "e86e2b9f",
   "metadata": {},
   "outputs": [],
   "source": [
    "print(\"--------Statistika Deskriptif Data Kuantitatif--------\")\n",
    "print(df.describe())"
   ]
  },
  {
   "cell_type": "code",
   "execution_count": null,
   "id": "a326dbc6",
   "metadata": {},
   "outputs": [],
   "source": [
    "print(\"\\n --------Cek Isi Data-------\")\n",
    "print(df.info())\n",
    "print(\"\\n ----------Cek Null----------\")\n",
    "print(df.isnull().sum())\n",
    "print(\"\\n\")\n",
    "print(\"Jumlah duplikasi: \", df.duplicated().sum())"
   ]
  },
  {
   "cell_type": "code",
   "execution_count": null,
   "id": "ed03a4bd",
   "metadata": {},
   "outputs": [],
   "source": [
    "def detect_outliers(df, column):\n",
    "    Q1 = df[column].quantile(0.25)\n",
    "    Q3 = df[column].quantile(0.75)\n",
    "    IQR = Q3 - Q1\n",
    "    lower_bound = Q1 - 1.5 * IQR\n",
    "    upper_bound = Q3 + 1.5 * IQR\n",
    "    outliers = df[(df[column] < lower_bound) | (df[column] > upper_bound)]\n",
    "    return outliers\n",
    "\n",
    "\n",
    "print(\"--- DETEKSI OUTLIER ---\")\n",
    "numeric_columns = df.select_dtypes(include=[np.number]).columns\n",
    "\n",
    "if len(numeric_columns) > 0:\n",
    "    for column in numeric_columns:\n",
    "        outliers = detect_outliers(df, column)\n",
    "        if not outliers.empty:\n",
    "            print(f\"\\nOutliers found in '{column}' column:\")\n",
    "            print(outliers)\n",
    "        else:\n",
    "            print(f\"\\nNo outliers found in '{column}' column.\")\n",
    "else:\n",
    "    print(\"\\nNo numeric columns found in the dataset.\")\n",
    "\n",
    "# %%\n",
    "# --- Visualize outliers using a boxplot for each numeric column ---\n",
    "print(\"\\n--- VISUALISASI OUTLIER MENGGUNAKAN BOXPLOT ---\")\n",
    "\n",
    "# Determine terminal width for centered text\n",
    "terminal_width = shutil.get_terminal_size().columns\n",
    "title_text = \"BOXPLOT VISUALIZATION\"\n",
    "print(title_text.center(terminal_width))\n",
    "\n",
    "if len(numeric_columns) > 0:\n",
    "    for column in numeric_columns:\n",
    "        plt.figure(figsize=(10, 5))\n",
    "        sns.boxplot(x=df[column])\n",
    "        plt.title(f\"Boxplot of {column}\", fontsize=16)\n",
    "        plt.xlabel(column, fontsize=12)\n",
    "        plt.grid(True, linestyle=\"--\", alpha=0.6)\n",
    "        plt.show()\n",
    "else:\n",
    "    print(\"No numeric columns to visualize.\")"
   ]
  }
 ],
 "metadata": {
  "kernelspec": {
   "display_name": "Python 3",
   "language": "python",
   "name": "python3"
  },
  "language_info": {
   "codemirror_mode": {
    "name": "ipython",
    "version": 3
   },
   "file_extension": ".py",
   "mimetype": "text/x-python",
   "name": "python",
   "nbconvert_exporter": "python",
   "pygments_lexer": "ipython3",
   "version": "3.12.7"
  }
 },
 "nbformat": 4,
 "nbformat_minor": 5
}
