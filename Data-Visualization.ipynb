{
 "cells": [
  {
   "cell_type": "code",
   "execution_count": 24,
   "id": "af089ec1",
   "metadata": {},
   "outputs": [
    {
     "data": {
      "text/html": [
       "<pre style=\"white-space:pre;overflow-x:auto;line-height:normal;font-family:Menlo,'DejaVu Sans Mono',consolas,'Courier New',monospace\">   Customer ID  Age  Gender Loyalty Member Product Type      SKU  Rating  \\\n",
       "<span style=\"color: #008080; text-decoration-color: #008080; font-weight: bold\">0</span>         <span style=\"color: #008080; text-decoration-color: #008080; font-weight: bold\">1000</span>   <span style=\"color: #008080; text-decoration-color: #008080; font-weight: bold\">53</span>    Male             No   Smartphone  SKU1004       <span style=\"color: #008080; text-decoration-color: #008080; font-weight: bold\">2</span>   \n",
       "<span style=\"color: #008080; text-decoration-color: #008080; font-weight: bold\">1</span>         <span style=\"color: #008080; text-decoration-color: #008080; font-weight: bold\">1000</span>   <span style=\"color: #008080; text-decoration-color: #008080; font-weight: bold\">53</span>    Male             No       Tablet  SKU1002       <span style=\"color: #008080; text-decoration-color: #008080; font-weight: bold\">3</span>   \n",
       "<span style=\"color: #008080; text-decoration-color: #008080; font-weight: bold\">2</span>         <span style=\"color: #008080; text-decoration-color: #008080; font-weight: bold\">1002</span>   <span style=\"color: #008080; text-decoration-color: #008080; font-weight: bold\">41</span>    Male             No       Laptop  SKU1005       <span style=\"color: #008080; text-decoration-color: #008080; font-weight: bold\">3</span>   \n",
       "<span style=\"color: #008080; text-decoration-color: #008080; font-weight: bold\">3</span>         <span style=\"color: #008080; text-decoration-color: #008080; font-weight: bold\">1002</span>   <span style=\"color: #008080; text-decoration-color: #008080; font-weight: bold\">41</span>    Male            Yes   Smartphone  SKU1004       <span style=\"color: #008080; text-decoration-color: #008080; font-weight: bold\">2</span>   \n",
       "<span style=\"color: #008080; text-decoration-color: #008080; font-weight: bold\">4</span>         <span style=\"color: #008080; text-decoration-color: #008080; font-weight: bold\">1003</span>   <span style=\"color: #008080; text-decoration-color: #008080; font-weight: bold\">75</span>    Male            Yes   Smartphone  SKU1001       <span style=\"color: #008080; text-decoration-color: #008080; font-weight: bold\">5</span>   \n",
       "<span style=\"color: #008080; text-decoration-color: #008080; font-weight: bold\">5</span>         <span style=\"color: #008080; text-decoration-color: #008080; font-weight: bold\">1004</span>   <span style=\"color: #008080; text-decoration-color: #008080; font-weight: bold\">41</span>  Female             No   Smartphone  SKU1001       <span style=\"color: #008080; text-decoration-color: #008080; font-weight: bold\">5</span>   \n",
       "<span style=\"color: #008080; text-decoration-color: #008080; font-weight: bold\">6</span>         <span style=\"color: #008080; text-decoration-color: #008080; font-weight: bold\">1005</span>   <span style=\"color: #008080; text-decoration-color: #008080; font-weight: bold\">25</span>  Female             No   Smartwatch  SKU1003       <span style=\"color: #008080; text-decoration-color: #008080; font-weight: bold\">3</span>   \n",
       "<span style=\"color: #008080; text-decoration-color: #008080; font-weight: bold\">7</span>         <span style=\"color: #008080; text-decoration-color: #008080; font-weight: bold\">1005</span>   <span style=\"color: #008080; text-decoration-color: #008080; font-weight: bold\">25</span>  Female             No       Laptop  SKU1005       <span style=\"color: #008080; text-decoration-color: #008080; font-weight: bold\">3</span>   \n",
       "<span style=\"color: #008080; text-decoration-color: #008080; font-weight: bold\">8</span>         <span style=\"color: #008080; text-decoration-color: #008080; font-weight: bold\">1006</span>   <span style=\"color: #008080; text-decoration-color: #008080; font-weight: bold\">24</span>    Male             No   Smartphone  SKU1004       <span style=\"color: #008080; text-decoration-color: #008080; font-weight: bold\">2</span>   \n",
       "<span style=\"color: #008080; text-decoration-color: #008080; font-weight: bold\">9</span>         <span style=\"color: #008080; text-decoration-color: #008080; font-weight: bold\">1006</span>   <span style=\"color: #008080; text-decoration-color: #008080; font-weight: bold\">24</span>    Male            Yes       Laptop  SKU1005       <span style=\"color: #008080; text-decoration-color: #008080; font-weight: bold\">3</span>   \n",
       "\n",
       "  Order Status Payment Method  Total Price  Unit Price  Quantity  \\\n",
       "<span style=\"color: #008080; text-decoration-color: #008080; font-weight: bold\">0</span>    Cancelled    Credit Card      <span style=\"color: #008080; text-decoration-color: #008080; font-weight: bold\">5538.33</span>      <span style=\"color: #008080; text-decoration-color: #008080; font-weight: bold\">791.19</span>         <span style=\"color: #008080; text-decoration-color: #008080; font-weight: bold\">7</span>   \n",
       "<span style=\"color: #008080; text-decoration-color: #008080; font-weight: bold\">1</span>    Completed         Paypal       <span style=\"color: #008080; text-decoration-color: #008080; font-weight: bold\">741.09</span>      <span style=\"color: #008080; text-decoration-color: #008080; font-weight: bold\">247.03</span>         <span style=\"color: #008080; text-decoration-color: #008080; font-weight: bold\">3</span>   \n",
       "<span style=\"color: #008080; text-decoration-color: #008080; font-weight: bold\">2</span>    Completed    Credit Card      <span style=\"color: #008080; text-decoration-color: #008080; font-weight: bold\">1855.84</span>      <span style=\"color: #008080; text-decoration-color: #008080; font-weight: bold\">463.96</span>         <span style=\"color: #008080; text-decoration-color: #008080; font-weight: bold\">4</span>   \n",
       "<span style=\"color: #008080; text-decoration-color: #008080; font-weight: bold\">3</span>    Completed           Cash      <span style=\"color: #008080; text-decoration-color: #008080; font-weight: bold\">3164.76</span>      <span style=\"color: #008080; text-decoration-color: #008080; font-weight: bold\">791.19</span>         <span style=\"color: #008080; text-decoration-color: #008080; font-weight: bold\">4</span>   \n",
       "<span style=\"color: #008080; text-decoration-color: #008080; font-weight: bold\">4</span>    Completed           Cash        <span style=\"color: #008080; text-decoration-color: #008080; font-weight: bold\">41.50</span>       <span style=\"color: #008080; text-decoration-color: #008080; font-weight: bold\">20.75</span>         <span style=\"color: #008080; text-decoration-color: #008080; font-weight: bold\">2</span>   \n",
       "<span style=\"color: #008080; text-decoration-color: #008080; font-weight: bold\">5</span>    Completed    Credit Card        <span style=\"color: #008080; text-decoration-color: #008080; font-weight: bold\">83.00</span>       <span style=\"color: #008080; text-decoration-color: #008080; font-weight: bold\">20.75</span>         <span style=\"color: #008080; text-decoration-color: #008080; font-weight: bold\">4</span>   \n",
       "<span style=\"color: #008080; text-decoration-color: #008080; font-weight: bold\">6</span>    Completed         Paypal      <span style=\"color: #008080; text-decoration-color: #008080; font-weight: bold\">7603.47</span>      <span style=\"color: #008080; text-decoration-color: #008080; font-weight: bold\">844.83</span>         <span style=\"color: #008080; text-decoration-color: #008080; font-weight: bold\">9</span>   \n",
       "<span style=\"color: #008080; text-decoration-color: #008080; font-weight: bold\">7</span>    Completed     Debit Card      <span style=\"color: #008080; text-decoration-color: #008080; font-weight: bold\">4175.64</span>      <span style=\"color: #008080; text-decoration-color: #008080; font-weight: bold\">463.96</span>         <span style=\"color: #008080; text-decoration-color: #008080; font-weight: bold\">9</span>   \n",
       "<span style=\"color: #008080; text-decoration-color: #008080; font-weight: bold\">8</span>    Cancelled     Debit Card      <span style=\"color: #008080; text-decoration-color: #008080; font-weight: bold\">5538.33</span>      <span style=\"color: #008080; text-decoration-color: #008080; font-weight: bold\">791.19</span>         <span style=\"color: #008080; text-decoration-color: #008080; font-weight: bold\">7</span>   \n",
       "<span style=\"color: #008080; text-decoration-color: #008080; font-weight: bold\">9</span>    Completed           Cash      <span style=\"color: #008080; text-decoration-color: #008080; font-weight: bold\">4175.64</span>      <span style=\"color: #008080; text-decoration-color: #008080; font-weight: bold\">463.96</span>         <span style=\"color: #008080; text-decoration-color: #008080; font-weight: bold\">9</span>   \n",
       "\n",
       "  Purchase Date Shipping Type                    Add-ons Purchased  \\\n",
       "<span style=\"color: #008080; text-decoration-color: #008080; font-weight: bold\">0</span>    <span style=\"color: #008080; text-decoration-color: #008080; font-weight: bold\">2024</span>-<span style=\"color: #008080; text-decoration-color: #008080; font-weight: bold\">03</span>-<span style=\"color: #008080; text-decoration-color: #008080; font-weight: bold\">20</span>      Standard        Accessory,Accessory,Accessory   \n",
       "<span style=\"color: #008080; text-decoration-color: #008080; font-weight: bold\">1</span>    <span style=\"color: #008080; text-decoration-color: #008080; font-weight: bold\">2024</span>-<span style=\"color: #008080; text-decoration-color: #008080; font-weight: bold\">04</span>-<span style=\"color: #008080; text-decoration-color: #008080; font-weight: bold\">20</span>     Overnight                         Impulse Item   \n",
       "<span style=\"color: #008080; text-decoration-color: #008080; font-weight: bold\">2</span>    <span style=\"color: #008080; text-decoration-color: #008080; font-weight: bold\">2023</span>-<span style=\"color: #008080; text-decoration-color: #008080; font-weight: bold\">10</span>-<span style=\"color: #008080; text-decoration-color: #008080; font-weight: bold\">17</span>       Express                                  NaN   \n",
       "<span style=\"color: #008080; text-decoration-color: #008080; font-weight: bold\">3</span>    <span style=\"color: #008080; text-decoration-color: #008080; font-weight: bold\">2024</span>-<span style=\"color: #008080; text-decoration-color: #008080; font-weight: bold\">08</span>-<span style=\"color: #008080; text-decoration-color: #008080; font-weight: bold\">09</span>     Overnight            Impulse Item,Impulse Item   \n",
       "<span style=\"color: #008080; text-decoration-color: #008080; font-weight: bold\">4</span>    <span style=\"color: #008080; text-decoration-color: #008080; font-weight: bold\">2024</span>-<span style=\"color: #008080; text-decoration-color: #008080; font-weight: bold\">05</span>-<span style=\"color: #008080; text-decoration-color: #008080; font-weight: bold\">21</span>       Express                            Accessory   \n",
       "<span style=\"color: #008080; text-decoration-color: #008080; font-weight: bold\">5</span>    <span style=\"color: #008080; text-decoration-color: #008080; font-weight: bold\">2024</span>-<span style=\"color: #008080; text-decoration-color: #008080; font-weight: bold\">05</span>-<span style=\"color: #008080; text-decoration-color: #008080; font-weight: bold\">26</span>      Standard               Impulse Item,Accessory   \n",
       "<span style=\"color: #008080; text-decoration-color: #008080; font-weight: bold\">6</span>    <span style=\"color: #008080; text-decoration-color: #008080; font-weight: bold\">2024</span>-<span style=\"color: #008080; text-decoration-color: #008080; font-weight: bold\">01</span>-<span style=\"color: #008080; text-decoration-color: #008080; font-weight: bold\">30</span>     Overnight                                  NaN   \n",
       "<span style=\"color: #008080; text-decoration-color: #008080; font-weight: bold\">7</span>    <span style=\"color: #008080; text-decoration-color: #008080; font-weight: bold\">2024</span>-<span style=\"color: #008080; text-decoration-color: #008080; font-weight: bold\">06</span>-<span style=\"color: #008080; text-decoration-color: #008080; font-weight: bold\">24</span>     Overnight  Extended Warranty,Extended Warranty   \n",
       "<span style=\"color: #008080; text-decoration-color: #008080; font-weight: bold\">8</span>    <span style=\"color: #008080; text-decoration-color: #008080; font-weight: bold\">2023</span>-<span style=\"color: #008080; text-decoration-color: #008080; font-weight: bold\">10</span>-<span style=\"color: #008080; text-decoration-color: #008080; font-weight: bold\">03</span>      Standard                         Impulse Item   \n",
       "<span style=\"color: #008080; text-decoration-color: #008080; font-weight: bold\">9</span>    <span style=\"color: #008080; text-decoration-color: #008080; font-weight: bold\">2024</span>-<span style=\"color: #008080; text-decoration-color: #008080; font-weight: bold\">01</span>-<span style=\"color: #008080; text-decoration-color: #008080; font-weight: bold\">01</span>       Express                                  NaN   \n",
       "\n",
       "   Add-on Total            Age_Group         Spending_Category  \\\n",
       "<span style=\"color: #008080; text-decoration-color: #008080; font-weight: bold\">0</span>         <span style=\"color: #008080; text-decoration-color: #008080; font-weight: bold\">40.21</span>   <span style=\"color: #008080; text-decoration-color: #008080; font-weight: bold\">45</span>-<span style=\"color: #008080; text-decoration-color: #008080; font-weight: bold\">59</span> <span style=\"font-weight: bold\">(</span>Pre Senior<span style=\"font-weight: bold\">)</span>   High Spender <span style=\"font-weight: bold\">(</span>$5k-$10k<span style=\"font-weight: bold\">)</span>   \n",
       "<span style=\"color: #008080; text-decoration-color: #008080; font-weight: bold\">1</span>         <span style=\"color: #008080; text-decoration-color: #008080; font-weight: bold\">26.09</span>   <span style=\"color: #008080; text-decoration-color: #008080; font-weight: bold\">45</span>-<span style=\"color: #008080; text-decoration-color: #008080; font-weight: bold\">59</span> <span style=\"font-weight: bold\">(</span>Pre Senior<span style=\"font-weight: bold\">)</span>  Medium Spender <span style=\"font-weight: bold\">(</span><span style=\"color: #008080; text-decoration-color: #008080; font-weight: bold\">100</span>-$5k<span style=\"font-weight: bold\">)</span>   \n",
       "<span style=\"color: #008080; text-decoration-color: #008080; font-weight: bold\">2</span>          <span style=\"color: #008080; text-decoration-color: #008080; font-weight: bold\">0.00</span>   <span style=\"color: #008080; text-decoration-color: #008080; font-weight: bold\">31</span>-<span style=\"color: #008080; text-decoration-color: #008080; font-weight: bold\">44</span> <span style=\"font-weight: bold\">(</span>Middle Age<span style=\"font-weight: bold\">)</span>  Medium Spender <span style=\"font-weight: bold\">(</span><span style=\"color: #008080; text-decoration-color: #008080; font-weight: bold\">100</span>-$5k<span style=\"font-weight: bold\">)</span>   \n",
       "<span style=\"color: #008080; text-decoration-color: #008080; font-weight: bold\">3</span>         <span style=\"color: #008080; text-decoration-color: #008080; font-weight: bold\">60.16</span>   <span style=\"color: #008080; text-decoration-color: #008080; font-weight: bold\">31</span>-<span style=\"color: #008080; text-decoration-color: #008080; font-weight: bold\">44</span> <span style=\"font-weight: bold\">(</span>Middle Age<span style=\"font-weight: bold\">)</span>  Medium Spender <span style=\"font-weight: bold\">(</span><span style=\"color: #008080; text-decoration-color: #008080; font-weight: bold\">100</span>-$5k<span style=\"font-weight: bold\">)</span>   \n",
       "<span style=\"color: #008080; text-decoration-color: #008080; font-weight: bold\">4</span>         <span style=\"color: #008080; text-decoration-color: #008080; font-weight: bold\">35.56</span>         <span style=\"color: #008080; text-decoration-color: #008080; font-weight: bold\">60</span>+ <span style=\"font-weight: bold\">(</span>Senior<span style=\"font-weight: bold\">)</span>      Low Spender <span style=\"font-weight: bold\">(</span><span style=\"color: #008080; text-decoration-color: #008080; font-weight: bold\">0</span>-$<span style=\"color: #008080; text-decoration-color: #008080; font-weight: bold\">500</span><span style=\"font-weight: bold\">)</span>   \n",
       "<span style=\"color: #008080; text-decoration-color: #008080; font-weight: bold\">5</span>         <span style=\"color: #008080; text-decoration-color: #008080; font-weight: bold\">65.78</span>   <span style=\"color: #008080; text-decoration-color: #008080; font-weight: bold\">31</span>-<span style=\"color: #008080; text-decoration-color: #008080; font-weight: bold\">44</span> <span style=\"font-weight: bold\">(</span>Middle Age<span style=\"font-weight: bold\">)</span>      Low Spender <span style=\"font-weight: bold\">(</span><span style=\"color: #008080; text-decoration-color: #008080; font-weight: bold\">0</span>-$<span style=\"color: #008080; text-decoration-color: #008080; font-weight: bold\">500</span><span style=\"font-weight: bold\">)</span>   \n",
       "<span style=\"color: #008080; text-decoration-color: #008080; font-weight: bold\">6</span>          <span style=\"color: #008080; text-decoration-color: #008080; font-weight: bold\">0.00</span>  <span style=\"color: #008080; text-decoration-color: #008080; font-weight: bold\">18</span>-<span style=\"color: #008080; text-decoration-color: #008080; font-weight: bold\">30</span> <span style=\"font-weight: bold\">(</span>Young Adult<span style=\"font-weight: bold\">)</span>   High Spender <span style=\"font-weight: bold\">(</span>$5k-$10k<span style=\"font-weight: bold\">)</span>   \n",
       "<span style=\"color: #008080; text-decoration-color: #008080; font-weight: bold\">7</span>         <span style=\"color: #008080; text-decoration-color: #008080; font-weight: bold\">75.33</span>  <span style=\"color: #008080; text-decoration-color: #008080; font-weight: bold\">18</span>-<span style=\"color: #008080; text-decoration-color: #008080; font-weight: bold\">30</span> <span style=\"font-weight: bold\">(</span>Young Adult<span style=\"font-weight: bold\">)</span>  Medium Spender <span style=\"font-weight: bold\">(</span><span style=\"color: #008080; text-decoration-color: #008080; font-weight: bold\">100</span>-$5k<span style=\"font-weight: bold\">)</span>   \n",
       "<span style=\"color: #008080; text-decoration-color: #008080; font-weight: bold\">8</span>         <span style=\"color: #008080; text-decoration-color: #008080; font-weight: bold\">43.05</span>  <span style=\"color: #008080; text-decoration-color: #008080; font-weight: bold\">18</span>-<span style=\"color: #008080; text-decoration-color: #008080; font-weight: bold\">30</span> <span style=\"font-weight: bold\">(</span>Young Adult<span style=\"font-weight: bold\">)</span>   High Spender <span style=\"font-weight: bold\">(</span>$5k-$10k<span style=\"font-weight: bold\">)</span>   \n",
       "<span style=\"color: #008080; text-decoration-color: #008080; font-weight: bold\">9</span>          <span style=\"color: #008080; text-decoration-color: #008080; font-weight: bold\">0.00</span>  <span style=\"color: #008080; text-decoration-color: #008080; font-weight: bold\">18</span>-<span style=\"color: #008080; text-decoration-color: #008080; font-weight: bold\">30</span> <span style=\"font-weight: bold\">(</span>Young Adult<span style=\"font-weight: bold\">)</span>  Medium Spender <span style=\"font-weight: bold\">(</span><span style=\"color: #008080; text-decoration-color: #008080; font-weight: bold\">100</span>-$5k<span style=\"font-weight: bold\">)</span>   \n",
       "\n",
       "         Item_Price_Category           Addons_Spending_Category  \n",
       "<span style=\"color: #008080; text-decoration-color: #008080; font-weight: bold\">0</span>    Premium Item <span style=\"font-weight: bold\">(</span>$<span style=\"color: #008080; text-decoration-color: #008080; font-weight: bold\">500</span>-$1k<span style=\"font-weight: bold\">)</span>        Low Add-ons Spender <span style=\"font-weight: bold\">(</span><span style=\"color: #008080; text-decoration-color: #008080; font-weight: bold\">0</span>-$<span style=\"color: #008080; text-decoration-color: #008080; font-weight: bold\">50</span><span style=\"font-weight: bold\">)</span>  \n",
       "<span style=\"color: #008080; text-decoration-color: #008080; font-weight: bold\">1</span>  Standard Item <span style=\"font-weight: bold\">(</span>$<span style=\"color: #008080; text-decoration-color: #008080; font-weight: bold\">100</span>-$<span style=\"color: #008080; text-decoration-color: #008080; font-weight: bold\">500</span><span style=\"font-weight: bold\">)</span>        Low Add-ons Spender <span style=\"font-weight: bold\">(</span><span style=\"color: #008080; text-decoration-color: #008080; font-weight: bold\">0</span>-$<span style=\"color: #008080; text-decoration-color: #008080; font-weight: bold\">50</span><span style=\"font-weight: bold\">)</span>  \n",
       "<span style=\"color: #008080; text-decoration-color: #008080; font-weight: bold\">2</span>  Standard Item <span style=\"font-weight: bold\">(</span>$<span style=\"color: #008080; text-decoration-color: #008080; font-weight: bold\">100</span>-$<span style=\"color: #008080; text-decoration-color: #008080; font-weight: bold\">500</span><span style=\"font-weight: bold\">)</span>        Low Add-ons Spender <span style=\"font-weight: bold\">(</span><span style=\"color: #008080; text-decoration-color: #008080; font-weight: bold\">0</span>-$<span style=\"color: #008080; text-decoration-color: #008080; font-weight: bold\">50</span><span style=\"font-weight: bold\">)</span>  \n",
       "<span style=\"color: #008080; text-decoration-color: #008080; font-weight: bold\">3</span>    Premium Item <span style=\"font-weight: bold\">(</span>$<span style=\"color: #008080; text-decoration-color: #008080; font-weight: bold\">500</span>-$1k<span style=\"font-weight: bold\">)</span>  Medium Add-ons Spender <span style=\"font-weight: bold\">(</span>$<span style=\"color: #008080; text-decoration-color: #008080; font-weight: bold\">51</span>-$<span style=\"color: #008080; text-decoration-color: #008080; font-weight: bold\">100</span><span style=\"font-weight: bold\">)</span>  \n",
       "<span style=\"color: #008080; text-decoration-color: #008080; font-weight: bold\">4</span>       Budget Item <span style=\"font-weight: bold\">(</span><span style=\"color: #008080; text-decoration-color: #008080; font-weight: bold\">0</span>-$<span style=\"color: #008080; text-decoration-color: #008080; font-weight: bold\">100</span><span style=\"font-weight: bold\">)</span>        Low Add-ons Spender <span style=\"font-weight: bold\">(</span><span style=\"color: #008080; text-decoration-color: #008080; font-weight: bold\">0</span>-$<span style=\"color: #008080; text-decoration-color: #008080; font-weight: bold\">50</span><span style=\"font-weight: bold\">)</span>  \n",
       "<span style=\"color: #008080; text-decoration-color: #008080; font-weight: bold\">5</span>       Budget Item <span style=\"font-weight: bold\">(</span><span style=\"color: #008080; text-decoration-color: #008080; font-weight: bold\">0</span>-$<span style=\"color: #008080; text-decoration-color: #008080; font-weight: bold\">100</span><span style=\"font-weight: bold\">)</span>  Medium Add-ons Spender <span style=\"font-weight: bold\">(</span>$<span style=\"color: #008080; text-decoration-color: #008080; font-weight: bold\">51</span>-$<span style=\"color: #008080; text-decoration-color: #008080; font-weight: bold\">100</span><span style=\"font-weight: bold\">)</span>  \n",
       "<span style=\"color: #008080; text-decoration-color: #008080; font-weight: bold\">6</span>    Premium Item <span style=\"font-weight: bold\">(</span>$<span style=\"color: #008080; text-decoration-color: #008080; font-weight: bold\">500</span>-$1k<span style=\"font-weight: bold\">)</span>        Low Add-ons Spender <span style=\"font-weight: bold\">(</span><span style=\"color: #008080; text-decoration-color: #008080; font-weight: bold\">0</span>-$<span style=\"color: #008080; text-decoration-color: #008080; font-weight: bold\">50</span><span style=\"font-weight: bold\">)</span>  \n",
       "<span style=\"color: #008080; text-decoration-color: #008080; font-weight: bold\">7</span>  Standard Item <span style=\"font-weight: bold\">(</span>$<span style=\"color: #008080; text-decoration-color: #008080; font-weight: bold\">100</span>-$<span style=\"color: #008080; text-decoration-color: #008080; font-weight: bold\">500</span><span style=\"font-weight: bold\">)</span>  Medium Add-ons Spender <span style=\"font-weight: bold\">(</span>$<span style=\"color: #008080; text-decoration-color: #008080; font-weight: bold\">51</span>-$<span style=\"color: #008080; text-decoration-color: #008080; font-weight: bold\">100</span><span style=\"font-weight: bold\">)</span>  \n",
       "<span style=\"color: #008080; text-decoration-color: #008080; font-weight: bold\">8</span>    Premium Item <span style=\"font-weight: bold\">(</span>$<span style=\"color: #008080; text-decoration-color: #008080; font-weight: bold\">500</span>-$1k<span style=\"font-weight: bold\">)</span>        Low Add-ons Spender <span style=\"font-weight: bold\">(</span><span style=\"color: #008080; text-decoration-color: #008080; font-weight: bold\">0</span>-$<span style=\"color: #008080; text-decoration-color: #008080; font-weight: bold\">50</span><span style=\"font-weight: bold\">)</span>  \n",
       "<span style=\"color: #008080; text-decoration-color: #008080; font-weight: bold\">9</span>  Standard Item <span style=\"font-weight: bold\">(</span>$<span style=\"color: #008080; text-decoration-color: #008080; font-weight: bold\">100</span>-$<span style=\"color: #008080; text-decoration-color: #008080; font-weight: bold\">500</span><span style=\"font-weight: bold\">)</span>        Low Add-ons Spender <span style=\"font-weight: bold\">(</span><span style=\"color: #008080; text-decoration-color: #008080; font-weight: bold\">0</span>-$<span style=\"color: #008080; text-decoration-color: #008080; font-weight: bold\">50</span><span style=\"font-weight: bold\">)</span>  \n",
       "</pre>\n"
      ],
      "text/plain": [
       "   Customer ID  Age  Gender Loyalty Member Product Type      SKU  Rating  \\\n",
       "\u001b[1;36m0\u001b[0m         \u001b[1;36m1000\u001b[0m   \u001b[1;36m53\u001b[0m    Male             No   Smartphone  SKU1004       \u001b[1;36m2\u001b[0m   \n",
       "\u001b[1;36m1\u001b[0m         \u001b[1;36m1000\u001b[0m   \u001b[1;36m53\u001b[0m    Male             No       Tablet  SKU1002       \u001b[1;36m3\u001b[0m   \n",
       "\u001b[1;36m2\u001b[0m         \u001b[1;36m1002\u001b[0m   \u001b[1;36m41\u001b[0m    Male             No       Laptop  SKU1005       \u001b[1;36m3\u001b[0m   \n",
       "\u001b[1;36m3\u001b[0m         \u001b[1;36m1002\u001b[0m   \u001b[1;36m41\u001b[0m    Male            Yes   Smartphone  SKU1004       \u001b[1;36m2\u001b[0m   \n",
       "\u001b[1;36m4\u001b[0m         \u001b[1;36m1003\u001b[0m   \u001b[1;36m75\u001b[0m    Male            Yes   Smartphone  SKU1001       \u001b[1;36m5\u001b[0m   \n",
       "\u001b[1;36m5\u001b[0m         \u001b[1;36m1004\u001b[0m   \u001b[1;36m41\u001b[0m  Female             No   Smartphone  SKU1001       \u001b[1;36m5\u001b[0m   \n",
       "\u001b[1;36m6\u001b[0m         \u001b[1;36m1005\u001b[0m   \u001b[1;36m25\u001b[0m  Female             No   Smartwatch  SKU1003       \u001b[1;36m3\u001b[0m   \n",
       "\u001b[1;36m7\u001b[0m         \u001b[1;36m1005\u001b[0m   \u001b[1;36m25\u001b[0m  Female             No       Laptop  SKU1005       \u001b[1;36m3\u001b[0m   \n",
       "\u001b[1;36m8\u001b[0m         \u001b[1;36m1006\u001b[0m   \u001b[1;36m24\u001b[0m    Male             No   Smartphone  SKU1004       \u001b[1;36m2\u001b[0m   \n",
       "\u001b[1;36m9\u001b[0m         \u001b[1;36m1006\u001b[0m   \u001b[1;36m24\u001b[0m    Male            Yes       Laptop  SKU1005       \u001b[1;36m3\u001b[0m   \n",
       "\n",
       "  Order Status Payment Method  Total Price  Unit Price  Quantity  \\\n",
       "\u001b[1;36m0\u001b[0m    Cancelled    Credit Card      \u001b[1;36m5538.33\u001b[0m      \u001b[1;36m791.19\u001b[0m         \u001b[1;36m7\u001b[0m   \n",
       "\u001b[1;36m1\u001b[0m    Completed         Paypal       \u001b[1;36m741.09\u001b[0m      \u001b[1;36m247.03\u001b[0m         \u001b[1;36m3\u001b[0m   \n",
       "\u001b[1;36m2\u001b[0m    Completed    Credit Card      \u001b[1;36m1855.84\u001b[0m      \u001b[1;36m463.96\u001b[0m         \u001b[1;36m4\u001b[0m   \n",
       "\u001b[1;36m3\u001b[0m    Completed           Cash      \u001b[1;36m3164.76\u001b[0m      \u001b[1;36m791.19\u001b[0m         \u001b[1;36m4\u001b[0m   \n",
       "\u001b[1;36m4\u001b[0m    Completed           Cash        \u001b[1;36m41.50\u001b[0m       \u001b[1;36m20.75\u001b[0m         \u001b[1;36m2\u001b[0m   \n",
       "\u001b[1;36m5\u001b[0m    Completed    Credit Card        \u001b[1;36m83.00\u001b[0m       \u001b[1;36m20.75\u001b[0m         \u001b[1;36m4\u001b[0m   \n",
       "\u001b[1;36m6\u001b[0m    Completed         Paypal      \u001b[1;36m7603.47\u001b[0m      \u001b[1;36m844.83\u001b[0m         \u001b[1;36m9\u001b[0m   \n",
       "\u001b[1;36m7\u001b[0m    Completed     Debit Card      \u001b[1;36m4175.64\u001b[0m      \u001b[1;36m463.96\u001b[0m         \u001b[1;36m9\u001b[0m   \n",
       "\u001b[1;36m8\u001b[0m    Cancelled     Debit Card      \u001b[1;36m5538.33\u001b[0m      \u001b[1;36m791.19\u001b[0m         \u001b[1;36m7\u001b[0m   \n",
       "\u001b[1;36m9\u001b[0m    Completed           Cash      \u001b[1;36m4175.64\u001b[0m      \u001b[1;36m463.96\u001b[0m         \u001b[1;36m9\u001b[0m   \n",
       "\n",
       "  Purchase Date Shipping Type                    Add-ons Purchased  \\\n",
       "\u001b[1;36m0\u001b[0m    \u001b[1;36m2024\u001b[0m-\u001b[1;36m03\u001b[0m-\u001b[1;36m20\u001b[0m      Standard        Accessory,Accessory,Accessory   \n",
       "\u001b[1;36m1\u001b[0m    \u001b[1;36m2024\u001b[0m-\u001b[1;36m04\u001b[0m-\u001b[1;36m20\u001b[0m     Overnight                         Impulse Item   \n",
       "\u001b[1;36m2\u001b[0m    \u001b[1;36m2023\u001b[0m-\u001b[1;36m10\u001b[0m-\u001b[1;36m17\u001b[0m       Express                                  NaN   \n",
       "\u001b[1;36m3\u001b[0m    \u001b[1;36m2024\u001b[0m-\u001b[1;36m08\u001b[0m-\u001b[1;36m09\u001b[0m     Overnight            Impulse Item,Impulse Item   \n",
       "\u001b[1;36m4\u001b[0m    \u001b[1;36m2024\u001b[0m-\u001b[1;36m05\u001b[0m-\u001b[1;36m21\u001b[0m       Express                            Accessory   \n",
       "\u001b[1;36m5\u001b[0m    \u001b[1;36m2024\u001b[0m-\u001b[1;36m05\u001b[0m-\u001b[1;36m26\u001b[0m      Standard               Impulse Item,Accessory   \n",
       "\u001b[1;36m6\u001b[0m    \u001b[1;36m2024\u001b[0m-\u001b[1;36m01\u001b[0m-\u001b[1;36m30\u001b[0m     Overnight                                  NaN   \n",
       "\u001b[1;36m7\u001b[0m    \u001b[1;36m2024\u001b[0m-\u001b[1;36m06\u001b[0m-\u001b[1;36m24\u001b[0m     Overnight  Extended Warranty,Extended Warranty   \n",
       "\u001b[1;36m8\u001b[0m    \u001b[1;36m2023\u001b[0m-\u001b[1;36m10\u001b[0m-\u001b[1;36m03\u001b[0m      Standard                         Impulse Item   \n",
       "\u001b[1;36m9\u001b[0m    \u001b[1;36m2024\u001b[0m-\u001b[1;36m01\u001b[0m-\u001b[1;36m01\u001b[0m       Express                                  NaN   \n",
       "\n",
       "   Add-on Total            Age_Group         Spending_Category  \\\n",
       "\u001b[1;36m0\u001b[0m         \u001b[1;36m40.21\u001b[0m   \u001b[1;36m45\u001b[0m-\u001b[1;36m59\u001b[0m \u001b[1m(\u001b[0mPre Senior\u001b[1m)\u001b[0m   High Spender \u001b[1m(\u001b[0m$5k-$10k\u001b[1m)\u001b[0m   \n",
       "\u001b[1;36m1\u001b[0m         \u001b[1;36m26.09\u001b[0m   \u001b[1;36m45\u001b[0m-\u001b[1;36m59\u001b[0m \u001b[1m(\u001b[0mPre Senior\u001b[1m)\u001b[0m  Medium Spender \u001b[1m(\u001b[0m\u001b[1;36m100\u001b[0m-$5k\u001b[1m)\u001b[0m   \n",
       "\u001b[1;36m2\u001b[0m          \u001b[1;36m0.00\u001b[0m   \u001b[1;36m31\u001b[0m-\u001b[1;36m44\u001b[0m \u001b[1m(\u001b[0mMiddle Age\u001b[1m)\u001b[0m  Medium Spender \u001b[1m(\u001b[0m\u001b[1;36m100\u001b[0m-$5k\u001b[1m)\u001b[0m   \n",
       "\u001b[1;36m3\u001b[0m         \u001b[1;36m60.16\u001b[0m   \u001b[1;36m31\u001b[0m-\u001b[1;36m44\u001b[0m \u001b[1m(\u001b[0mMiddle Age\u001b[1m)\u001b[0m  Medium Spender \u001b[1m(\u001b[0m\u001b[1;36m100\u001b[0m-$5k\u001b[1m)\u001b[0m   \n",
       "\u001b[1;36m4\u001b[0m         \u001b[1;36m35.56\u001b[0m         \u001b[1;36m60\u001b[0m+ \u001b[1m(\u001b[0mSenior\u001b[1m)\u001b[0m      Low Spender \u001b[1m(\u001b[0m\u001b[1;36m0\u001b[0m-$\u001b[1;36m500\u001b[0m\u001b[1m)\u001b[0m   \n",
       "\u001b[1;36m5\u001b[0m         \u001b[1;36m65.78\u001b[0m   \u001b[1;36m31\u001b[0m-\u001b[1;36m44\u001b[0m \u001b[1m(\u001b[0mMiddle Age\u001b[1m)\u001b[0m      Low Spender \u001b[1m(\u001b[0m\u001b[1;36m0\u001b[0m-$\u001b[1;36m500\u001b[0m\u001b[1m)\u001b[0m   \n",
       "\u001b[1;36m6\u001b[0m          \u001b[1;36m0.00\u001b[0m  \u001b[1;36m18\u001b[0m-\u001b[1;36m30\u001b[0m \u001b[1m(\u001b[0mYoung Adult\u001b[1m)\u001b[0m   High Spender \u001b[1m(\u001b[0m$5k-$10k\u001b[1m)\u001b[0m   \n",
       "\u001b[1;36m7\u001b[0m         \u001b[1;36m75.33\u001b[0m  \u001b[1;36m18\u001b[0m-\u001b[1;36m30\u001b[0m \u001b[1m(\u001b[0mYoung Adult\u001b[1m)\u001b[0m  Medium Spender \u001b[1m(\u001b[0m\u001b[1;36m100\u001b[0m-$5k\u001b[1m)\u001b[0m   \n",
       "\u001b[1;36m8\u001b[0m         \u001b[1;36m43.05\u001b[0m  \u001b[1;36m18\u001b[0m-\u001b[1;36m30\u001b[0m \u001b[1m(\u001b[0mYoung Adult\u001b[1m)\u001b[0m   High Spender \u001b[1m(\u001b[0m$5k-$10k\u001b[1m)\u001b[0m   \n",
       "\u001b[1;36m9\u001b[0m          \u001b[1;36m0.00\u001b[0m  \u001b[1;36m18\u001b[0m-\u001b[1;36m30\u001b[0m \u001b[1m(\u001b[0mYoung Adult\u001b[1m)\u001b[0m  Medium Spender \u001b[1m(\u001b[0m\u001b[1;36m100\u001b[0m-$5k\u001b[1m)\u001b[0m   \n",
       "\n",
       "         Item_Price_Category           Addons_Spending_Category  \n",
       "\u001b[1;36m0\u001b[0m    Premium Item \u001b[1m(\u001b[0m$\u001b[1;36m500\u001b[0m-$1k\u001b[1m)\u001b[0m        Low Add-ons Spender \u001b[1m(\u001b[0m\u001b[1;36m0\u001b[0m-$\u001b[1;36m50\u001b[0m\u001b[1m)\u001b[0m  \n",
       "\u001b[1;36m1\u001b[0m  Standard Item \u001b[1m(\u001b[0m$\u001b[1;36m100\u001b[0m-$\u001b[1;36m500\u001b[0m\u001b[1m)\u001b[0m        Low Add-ons Spender \u001b[1m(\u001b[0m\u001b[1;36m0\u001b[0m-$\u001b[1;36m50\u001b[0m\u001b[1m)\u001b[0m  \n",
       "\u001b[1;36m2\u001b[0m  Standard Item \u001b[1m(\u001b[0m$\u001b[1;36m100\u001b[0m-$\u001b[1;36m500\u001b[0m\u001b[1m)\u001b[0m        Low Add-ons Spender \u001b[1m(\u001b[0m\u001b[1;36m0\u001b[0m-$\u001b[1;36m50\u001b[0m\u001b[1m)\u001b[0m  \n",
       "\u001b[1;36m3\u001b[0m    Premium Item \u001b[1m(\u001b[0m$\u001b[1;36m500\u001b[0m-$1k\u001b[1m)\u001b[0m  Medium Add-ons Spender \u001b[1m(\u001b[0m$\u001b[1;36m51\u001b[0m-$\u001b[1;36m100\u001b[0m\u001b[1m)\u001b[0m  \n",
       "\u001b[1;36m4\u001b[0m       Budget Item \u001b[1m(\u001b[0m\u001b[1;36m0\u001b[0m-$\u001b[1;36m100\u001b[0m\u001b[1m)\u001b[0m        Low Add-ons Spender \u001b[1m(\u001b[0m\u001b[1;36m0\u001b[0m-$\u001b[1;36m50\u001b[0m\u001b[1m)\u001b[0m  \n",
       "\u001b[1;36m5\u001b[0m       Budget Item \u001b[1m(\u001b[0m\u001b[1;36m0\u001b[0m-$\u001b[1;36m100\u001b[0m\u001b[1m)\u001b[0m  Medium Add-ons Spender \u001b[1m(\u001b[0m$\u001b[1;36m51\u001b[0m-$\u001b[1;36m100\u001b[0m\u001b[1m)\u001b[0m  \n",
       "\u001b[1;36m6\u001b[0m    Premium Item \u001b[1m(\u001b[0m$\u001b[1;36m500\u001b[0m-$1k\u001b[1m)\u001b[0m        Low Add-ons Spender \u001b[1m(\u001b[0m\u001b[1;36m0\u001b[0m-$\u001b[1;36m50\u001b[0m\u001b[1m)\u001b[0m  \n",
       "\u001b[1;36m7\u001b[0m  Standard Item \u001b[1m(\u001b[0m$\u001b[1;36m100\u001b[0m-$\u001b[1;36m500\u001b[0m\u001b[1m)\u001b[0m  Medium Add-ons Spender \u001b[1m(\u001b[0m$\u001b[1;36m51\u001b[0m-$\u001b[1;36m100\u001b[0m\u001b[1m)\u001b[0m  \n",
       "\u001b[1;36m8\u001b[0m    Premium Item \u001b[1m(\u001b[0m$\u001b[1;36m500\u001b[0m-$1k\u001b[1m)\u001b[0m        Low Add-ons Spender \u001b[1m(\u001b[0m\u001b[1;36m0\u001b[0m-$\u001b[1;36m50\u001b[0m\u001b[1m)\u001b[0m  \n",
       "\u001b[1;36m9\u001b[0m  Standard Item \u001b[1m(\u001b[0m$\u001b[1;36m100\u001b[0m-$\u001b[1;36m500\u001b[0m\u001b[1m)\u001b[0m        Low Add-ons Spender \u001b[1m(\u001b[0m\u001b[1;36m0\u001b[0m-$\u001b[1;36m50\u001b[0m\u001b[1m)\u001b[0m  \n"
      ]
     },
     "metadata": {},
     "output_type": "display_data"
    }
   ],
   "source": [
    "import re\n",
    "import numpy as np\n",
    "import pandas as pd\n",
    "import shutil\n",
    "import matplotlib.pyplot as plt\n",
    "import seaborn as sns\n",
    "from rich import print\n",
    "from rich.table import Table\n",
    "from rich.console import Console\n",
    "\n",
    "pd.set_option(\"display.max_columns\", None)\n",
    "pd.set_option(\"display.max_rows\", None)\n",
    "terminal_width = shutil.get_terminal_size().columns\n",
    "df = pd.read_csv(\"labeled_customer_data.csv\")\n",
    "print(df.head(10))"
   ]
  },
  {
   "cell_type": "code",
   "execution_count": null,
   "id": "5cad2199",
   "metadata": {},
   "outputs": [
    {
     "data": {
      "text/html": [
       "<pre style=\"white-space:pre;overflow-x:auto;line-height:normal;font-family:Menlo,'DejaVu Sans Mono',consolas,'Courier New',monospace\"><span style=\"color: #808000; text-decoration-color: #808000; font-weight: bold\">                                      Tabulasi Utama Berdasarkan Product Type                                      </span>\n",
       "┏━━━━━━━━━━━━━┳━━━━━━━━━━━━━━┳━━━━━━━━━━━━━━━┳━━━━━━━━━━━━━━━━━┳━━━━━━━━━━┳━━━━━━━━━━━━━━━━━━━━┳━━━━━━━━━━━━━━━━━━┓\n",
       "┃<span style=\"font-weight: bold\"> Product Ty… </span>┃<span style=\"font-weight: bold\"> Total_Reven… </span>┃<span style=\"font-weight: bold\"> Average_Rati… </span>┃<span style=\"font-weight: bold\"> Average_Quanti… </span>┃<span style=\"font-weight: bold\"> Buyer_A… </span>┃<span style=\"font-weight: bold\"> Average_Addon_Tot… </span>┃<span style=\"font-weight: bold\"> Transaction_Cou… </span>┃\n",
       "┡━━━━━━━━━━━━━╇━━━━━━━━━━━━━━╇━━━━━━━━━━━━━━━╇━━━━━━━━━━━━━━━━━╇━━━━━━━━━━╇━━━━━━━━━━━━━━━━━━━━╇━━━━━━━━━━━━━━━━━━┩\n",
       "│<span style=\"color: #c0c0c0; text-decoration-color: #c0c0c0; font-weight: bold\"> Headphones  </span>│<span style=\"color: #c0c0c0; text-decoration-color: #c0c0c0; font-weight: bold\">   $4,041k    </span>│<span style=\"color: #c0c0c0; text-decoration-color: #c0c0c0; font-weight: bold\">     2.99      </span>│<span style=\"color: #c0c0c0; text-decoration-color: #c0c0c0; font-weight: bold\">      5.56       </span>│<span style=\"color: #c0c0c0; text-decoration-color: #c0c0c0; font-weight: bold\">   48.2   </span>│<span style=\"color: #c0c0c0; text-decoration-color: #c0c0c0; font-weight: bold\">       $82.64       </span>│<span style=\"color: #c0c0c0; text-decoration-color: #c0c0c0; font-weight: bold\">       2011       </span>│\n",
       "├─────────────┼──────────────┼───────────────┼─────────────────┼──────────┼────────────────────┼──────────────────┤\n",
       "│<span style=\"color: #c0c0c0; text-decoration-color: #c0c0c0; font-weight: bold\">   Laptop    </span>│<span style=\"color: #c0c0c0; text-decoration-color: #c0c0c0; font-weight: bold\">   $12,296k   </span>│<span style=\"color: #c0c0c0; text-decoration-color: #c0c0c0; font-weight: bold\">     2.98      </span>│<span style=\"color: #c0c0c0; text-decoration-color: #c0c0c0; font-weight: bold\">      5.43       </span>│<span style=\"color: #c0c0c0; text-decoration-color: #c0c0c0; font-weight: bold\">   48.8   </span>│<span style=\"color: #c0c0c0; text-decoration-color: #c0c0c0; font-weight: bold\">       $62.93       </span>│<span style=\"color: #c0c0c0; text-decoration-color: #c0c0c0; font-weight: bold\">       3973       </span>│\n",
       "├─────────────┼──────────────┼───────────────┼─────────────────┼──────────┼────────────────────┼──────────────────┤\n",
       "│<span style=\"color: #c0c0c0; text-decoration-color: #c0c0c0; font-weight: bold\"> Smartphone  </span>│<span style=\"color: #c0c0c0; text-decoration-color: #c0c0c0; font-weight: bold\">   $21,517k   </span>│<span style=\"color: #c0c0c0; text-decoration-color: #c0c0c0; font-weight: bold\">     3.32      </span>│<span style=\"color: #c0c0c0; text-decoration-color: #c0c0c0; font-weight: bold\">      5.46       </span>│<span style=\"color: #c0c0c0; text-decoration-color: #c0c0c0; font-weight: bold\">   49.1   </span>│<span style=\"color: #c0c0c0; text-decoration-color: #c0c0c0; font-weight: bold\">       $55.37       </span>│<span style=\"color: #c0c0c0; text-decoration-color: #c0c0c0; font-weight: bold\">       5978       </span>│\n",
       "├─────────────┼──────────────┼───────────────┼─────────────────┼──────────┼────────────────────┼──────────────────┤\n",
       "│<span style=\"color: #c0c0c0; text-decoration-color: #c0c0c0; font-weight: bold\"> Smartwatch  </span>│<span style=\"color: #c0c0c0; text-decoration-color: #c0c0c0; font-weight: bold\">   $14,036k   </span>│<span style=\"color: #c0c0c0; text-decoration-color: #c0c0c0; font-weight: bold\">     2.99      </span>│<span style=\"color: #c0c0c0; text-decoration-color: #c0c0c0; font-weight: bold\">       5.5       </span>│<span style=\"color: #c0c0c0; text-decoration-color: #c0c0c0; font-weight: bold\">   49.3   </span>│<span style=\"color: #c0c0c0; text-decoration-color: #c0c0c0; font-weight: bold\">       $61.37       </span>│<span style=\"color: #c0c0c0; text-decoration-color: #c0c0c0; font-weight: bold\">       3934       </span>│\n",
       "├─────────────┼──────────────┼───────────────┼─────────────────┼──────────┼────────────────────┼──────────────────┤\n",
       "│<span style=\"color: #c0c0c0; text-decoration-color: #c0c0c0; font-weight: bold\">   Tablet    </span>│<span style=\"color: #c0c0c0; text-decoration-color: #c0c0c0; font-weight: bold\">   $11,712k   </span>│<span style=\"color: #c0c0c0; text-decoration-color: #c0c0c0; font-weight: bold\">     3.02      </span>│<span style=\"color: #c0c0c0; text-decoration-color: #c0c0c0; font-weight: bold\">      5.52       </span>│<span style=\"color: #c0c0c0; text-decoration-color: #c0c0c0; font-weight: bold\">   49.1   </span>│<span style=\"color: #c0c0c0; text-decoration-color: #c0c0c0; font-weight: bold\">       $62.44       </span>│<span style=\"color: #c0c0c0; text-decoration-color: #c0c0c0; font-weight: bold\">       4104       </span>│\n",
       "└─────────────┴──────────────┴───────────────┴─────────────────┴──────────┴────────────────────┴──────────────────┘\n",
       "</pre>\n"
      ],
      "text/plain": [
       "\u001b[1;33m                                      Tabulasi Utama Berdasarkan Product Type                                      \u001b[0m\n",
       "┏━━━━━━━━━━━━━┳━━━━━━━━━━━━━━┳━━━━━━━━━━━━━━━┳━━━━━━━━━━━━━━━━━┳━━━━━━━━━━┳━━━━━━━━━━━━━━━━━━━━┳━━━━━━━━━━━━━━━━━━┓\n",
       "┃\u001b[1m \u001b[0m\u001b[1mProduct Ty…\u001b[0m\u001b[1m \u001b[0m┃\u001b[1m \u001b[0m\u001b[1mTotal_Reven…\u001b[0m\u001b[1m \u001b[0m┃\u001b[1m \u001b[0m\u001b[1mAverage_Rati…\u001b[0m\u001b[1m \u001b[0m┃\u001b[1m \u001b[0m\u001b[1mAverage_Quanti…\u001b[0m\u001b[1m \u001b[0m┃\u001b[1m \u001b[0m\u001b[1mBuyer_A…\u001b[0m\u001b[1m \u001b[0m┃\u001b[1m \u001b[0m\u001b[1mAverage_Addon_Tot…\u001b[0m\u001b[1m \u001b[0m┃\u001b[1m \u001b[0m\u001b[1mTransaction_Cou…\u001b[0m\u001b[1m \u001b[0m┃\n",
       "┡━━━━━━━━━━━━━╇━━━━━━━━━━━━━━╇━━━━━━━━━━━━━━━╇━━━━━━━━━━━━━━━━━╇━━━━━━━━━━╇━━━━━━━━━━━━━━━━━━━━╇━━━━━━━━━━━━━━━━━━┩\n",
       "│\u001b[1;37m \u001b[0m\u001b[1;37mHeadphones \u001b[0m\u001b[1;37m \u001b[0m│\u001b[1;37m \u001b[0m\u001b[1;37m  $4,041k   \u001b[0m\u001b[1;37m \u001b[0m│\u001b[1;37m \u001b[0m\u001b[1;37m    2.99     \u001b[0m\u001b[1;37m \u001b[0m│\u001b[1;37m \u001b[0m\u001b[1;37m     5.56      \u001b[0m\u001b[1;37m \u001b[0m│\u001b[1;37m \u001b[0m\u001b[1;37m  48.2  \u001b[0m\u001b[1;37m \u001b[0m│\u001b[1;37m \u001b[0m\u001b[1;37m      $82.64      \u001b[0m\u001b[1;37m \u001b[0m│\u001b[1;37m \u001b[0m\u001b[1;37m      2011      \u001b[0m\u001b[1;37m \u001b[0m│\n",
       "├─────────────┼──────────────┼───────────────┼─────────────────┼──────────┼────────────────────┼──────────────────┤\n",
       "│\u001b[1;37m \u001b[0m\u001b[1;37m  Laptop   \u001b[0m\u001b[1;37m \u001b[0m│\u001b[1;37m \u001b[0m\u001b[1;37m  $12,296k  \u001b[0m\u001b[1;37m \u001b[0m│\u001b[1;37m \u001b[0m\u001b[1;37m    2.98     \u001b[0m\u001b[1;37m \u001b[0m│\u001b[1;37m \u001b[0m\u001b[1;37m     5.43      \u001b[0m\u001b[1;37m \u001b[0m│\u001b[1;37m \u001b[0m\u001b[1;37m  48.8  \u001b[0m\u001b[1;37m \u001b[0m│\u001b[1;37m \u001b[0m\u001b[1;37m      $62.93      \u001b[0m\u001b[1;37m \u001b[0m│\u001b[1;37m \u001b[0m\u001b[1;37m      3973      \u001b[0m\u001b[1;37m \u001b[0m│\n",
       "├─────────────┼──────────────┼───────────────┼─────────────────┼──────────┼────────────────────┼──────────────────┤\n",
       "│\u001b[1;37m \u001b[0m\u001b[1;37mSmartphone \u001b[0m\u001b[1;37m \u001b[0m│\u001b[1;37m \u001b[0m\u001b[1;37m  $21,517k  \u001b[0m\u001b[1;37m \u001b[0m│\u001b[1;37m \u001b[0m\u001b[1;37m    3.32     \u001b[0m\u001b[1;37m \u001b[0m│\u001b[1;37m \u001b[0m\u001b[1;37m     5.46      \u001b[0m\u001b[1;37m \u001b[0m│\u001b[1;37m \u001b[0m\u001b[1;37m  49.1  \u001b[0m\u001b[1;37m \u001b[0m│\u001b[1;37m \u001b[0m\u001b[1;37m      $55.37      \u001b[0m\u001b[1;37m \u001b[0m│\u001b[1;37m \u001b[0m\u001b[1;37m      5978      \u001b[0m\u001b[1;37m \u001b[0m│\n",
       "├─────────────┼──────────────┼───────────────┼─────────────────┼──────────┼────────────────────┼──────────────────┤\n",
       "│\u001b[1;37m \u001b[0m\u001b[1;37mSmartwatch \u001b[0m\u001b[1;37m \u001b[0m│\u001b[1;37m \u001b[0m\u001b[1;37m  $14,036k  \u001b[0m\u001b[1;37m \u001b[0m│\u001b[1;37m \u001b[0m\u001b[1;37m    2.99     \u001b[0m\u001b[1;37m \u001b[0m│\u001b[1;37m \u001b[0m\u001b[1;37m      5.5      \u001b[0m\u001b[1;37m \u001b[0m│\u001b[1;37m \u001b[0m\u001b[1;37m  49.3  \u001b[0m\u001b[1;37m \u001b[0m│\u001b[1;37m \u001b[0m\u001b[1;37m      $61.37      \u001b[0m\u001b[1;37m \u001b[0m│\u001b[1;37m \u001b[0m\u001b[1;37m      3934      \u001b[0m\u001b[1;37m \u001b[0m│\n",
       "├─────────────┼──────────────┼───────────────┼─────────────────┼──────────┼────────────────────┼──────────────────┤\n",
       "│\u001b[1;37m \u001b[0m\u001b[1;37m  Tablet   \u001b[0m\u001b[1;37m \u001b[0m│\u001b[1;37m \u001b[0m\u001b[1;37m  $11,712k  \u001b[0m\u001b[1;37m \u001b[0m│\u001b[1;37m \u001b[0m\u001b[1;37m    3.02     \u001b[0m\u001b[1;37m \u001b[0m│\u001b[1;37m \u001b[0m\u001b[1;37m     5.52      \u001b[0m\u001b[1;37m \u001b[0m│\u001b[1;37m \u001b[0m\u001b[1;37m  49.1  \u001b[0m\u001b[1;37m \u001b[0m│\u001b[1;37m \u001b[0m\u001b[1;37m      $62.44      \u001b[0m\u001b[1;37m \u001b[0m│\u001b[1;37m \u001b[0m\u001b[1;37m      4104      \u001b[0m\u001b[1;37m \u001b[0m│\n",
       "└─────────────┴──────────────┴───────────────┴─────────────────┴──────────┴────────────────────┴──────────────────┘\n"
      ]
     },
     "metadata": {},
     "output_type": "display_data"
    },
    {
     "data": {
      "text/html": [
       "<pre style=\"white-space:pre;overflow-x:auto;line-height:normal;font-family:Menlo,'DejaVu Sans Mono',consolas,'Courier New',monospace\">\n",
       "Distribusi Frekuensi Product Type terhadap Age Group\n",
       "</pre>\n"
      ],
      "text/plain": [
       "\n",
       "Distribusi Frekuensi Product Type terhadap Age Group\n"
      ]
     },
     "metadata": {},
     "output_type": "display_data"
    },
    {
     "data": {
      "text/html": [
       "<pre style=\"white-space:pre;overflow-x:auto;line-height:normal;font-family:Menlo,'DejaVu Sans Mono',consolas,'Courier New',monospace\">Age_Group     <span style=\"color: #008080; text-decoration-color: #008080; font-weight: bold\">18</span>-<span style=\"color: #008080; text-decoration-color: #008080; font-weight: bold\">30</span> <span style=\"font-weight: bold\">(</span>Young Adult<span style=\"font-weight: bold\">)</span>  <span style=\"color: #008080; text-decoration-color: #008080; font-weight: bold\">31</span>-<span style=\"color: #008080; text-decoration-color: #008080; font-weight: bold\">44</span> <span style=\"font-weight: bold\">(</span>Middle Age<span style=\"font-weight: bold\">)</span>  <span style=\"color: #008080; text-decoration-color: #008080; font-weight: bold\">45</span>-<span style=\"color: #008080; text-decoration-color: #008080; font-weight: bold\">59</span> <span style=\"font-weight: bold\">(</span>Pre Senior<span style=\"font-weight: bold\">)</span>  \\\n",
       "Product Type                                                                \n",
       "Headphones                    <span style=\"color: #008080; text-decoration-color: #008080; font-weight: bold\">440</span>                 <span style=\"color: #008080; text-decoration-color: #008080; font-weight: bold\">462</span>                 <span style=\"color: #008080; text-decoration-color: #008080; font-weight: bold\">469</span>   \n",
       "Laptop                        <span style=\"color: #008080; text-decoration-color: #008080; font-weight: bold\">811</span>                 <span style=\"color: #008080; text-decoration-color: #008080; font-weight: bold\">916</span>                 <span style=\"color: #008080; text-decoration-color: #008080; font-weight: bold\">971</span>   \n",
       "Smartphone                   <span style=\"color: #008080; text-decoration-color: #008080; font-weight: bold\">1176</span>                <span style=\"color: #008080; text-decoration-color: #008080; font-weight: bold\">1355</span>                <span style=\"color: #008080; text-decoration-color: #008080; font-weight: bold\">1464</span>   \n",
       "Smartwatch                    <span style=\"color: #008080; text-decoration-color: #008080; font-weight: bold\">797</span>                 <span style=\"color: #008080; text-decoration-color: #008080; font-weight: bold\">888</span>                 <span style=\"color: #008080; text-decoration-color: #008080; font-weight: bold\">899</span>   \n",
       "Tablet                        <span style=\"color: #008080; text-decoration-color: #008080; font-weight: bold\">845</span>                 <span style=\"color: #008080; text-decoration-color: #008080; font-weight: bold\">924</span>                 <span style=\"color: #008080; text-decoration-color: #008080; font-weight: bold\">939</span>   \n",
       "\n",
       "Age_Group     <span style=\"color: #008080; text-decoration-color: #008080; font-weight: bold\">60</span>+ <span style=\"font-weight: bold\">(</span>Senior<span style=\"font-weight: bold\">)</span>  \n",
       "Product Type                \n",
       "Headphones             <span style=\"color: #008080; text-decoration-color: #008080; font-weight: bold\">640</span>  \n",
       "Laptop                <span style=\"color: #008080; text-decoration-color: #008080; font-weight: bold\">1275</span>  \n",
       "Smartphone            <span style=\"color: #008080; text-decoration-color: #008080; font-weight: bold\">1983</span>  \n",
       "Smartwatch            <span style=\"color: #008080; text-decoration-color: #008080; font-weight: bold\">1350</span>  \n",
       "Tablet                <span style=\"color: #008080; text-decoration-color: #008080; font-weight: bold\">1396</span>  \n",
       "</pre>\n"
      ],
      "text/plain": [
       "Age_Group     \u001b[1;36m18\u001b[0m-\u001b[1;36m30\u001b[0m \u001b[1m(\u001b[0mYoung Adult\u001b[1m)\u001b[0m  \u001b[1;36m31\u001b[0m-\u001b[1;36m44\u001b[0m \u001b[1m(\u001b[0mMiddle Age\u001b[1m)\u001b[0m  \u001b[1;36m45\u001b[0m-\u001b[1;36m59\u001b[0m \u001b[1m(\u001b[0mPre Senior\u001b[1m)\u001b[0m  \\\n",
       "Product Type                                                                \n",
       "Headphones                    \u001b[1;36m440\u001b[0m                 \u001b[1;36m462\u001b[0m                 \u001b[1;36m469\u001b[0m   \n",
       "Laptop                        \u001b[1;36m811\u001b[0m                 \u001b[1;36m916\u001b[0m                 \u001b[1;36m971\u001b[0m   \n",
       "Smartphone                   \u001b[1;36m1176\u001b[0m                \u001b[1;36m1355\u001b[0m                \u001b[1;36m1464\u001b[0m   \n",
       "Smartwatch                    \u001b[1;36m797\u001b[0m                 \u001b[1;36m888\u001b[0m                 \u001b[1;36m899\u001b[0m   \n",
       "Tablet                        \u001b[1;36m845\u001b[0m                 \u001b[1;36m924\u001b[0m                 \u001b[1;36m939\u001b[0m   \n",
       "\n",
       "Age_Group     \u001b[1;36m60\u001b[0m+ \u001b[1m(\u001b[0mSenior\u001b[1m)\u001b[0m  \n",
       "Product Type                \n",
       "Headphones             \u001b[1;36m640\u001b[0m  \n",
       "Laptop                \u001b[1;36m1275\u001b[0m  \n",
       "Smartphone            \u001b[1;36m1983\u001b[0m  \n",
       "Smartwatch            \u001b[1;36m1350\u001b[0m  \n",
       "Tablet                \u001b[1;36m1396\u001b[0m  \n"
      ]
     },
     "metadata": {},
     "output_type": "display_data"
    },
    {
     "data": {
      "text/html": [
       "<pre style=\"white-space:pre;overflow-x:auto;line-height:normal;font-family:Menlo,'DejaVu Sans Mono',consolas,'Courier New',monospace\">\n",
       "Distribusi Frekuensi Gender terhadap Payment Method\n",
       "</pre>\n"
      ],
      "text/plain": [
       "\n",
       "Distribusi Frekuensi Gender terhadap Payment Method\n"
      ]
     },
     "metadata": {},
     "output_type": "display_data"
    },
    {
     "data": {
      "text/html": [
       "<pre style=\"white-space:pre;overflow-x:auto;line-height:normal;font-family:Menlo,'DejaVu Sans Mono',consolas,'Courier New',monospace\">Payment Method       Bank Transfer  Cash  Credit Card  Debit Card  PayPal  \\\n",
       "Age_Group                                                                   \n",
       "<span style=\"color: #008080; text-decoration-color: #008080; font-weight: bold\">18</span>-<span style=\"color: #008080; text-decoration-color: #008080; font-weight: bold\">30</span> <span style=\"font-weight: bold\">(</span>Young Adult<span style=\"font-weight: bold\">)</span>            <span style=\"color: #008080; text-decoration-color: #008080; font-weight: bold\">676</span>   <span style=\"color: #008080; text-decoration-color: #008080; font-weight: bold\">483</span>         <span style=\"color: #008080; text-decoration-color: #008080; font-weight: bold\">1219</span>         <span style=\"color: #008080; text-decoration-color: #008080; font-weight: bold\">498</span>     <span style=\"color: #008080; text-decoration-color: #008080; font-weight: bold\">689</span>   \n",
       "<span style=\"color: #008080; text-decoration-color: #008080; font-weight: bold\">31</span>-<span style=\"color: #008080; text-decoration-color: #008080; font-weight: bold\">44</span> <span style=\"font-weight: bold\">(</span>Middle Age<span style=\"font-weight: bold\">)</span>             <span style=\"color: #008080; text-decoration-color: #008080; font-weight: bold\">776</span>   <span style=\"color: #008080; text-decoration-color: #008080; font-weight: bold\">561</span>         <span style=\"color: #008080; text-decoration-color: #008080; font-weight: bold\">1280</span>         <span style=\"color: #008080; text-decoration-color: #008080; font-weight: bold\">601</span>     <span style=\"color: #008080; text-decoration-color: #008080; font-weight: bold\">780</span>   \n",
       "<span style=\"color: #008080; text-decoration-color: #008080; font-weight: bold\">45</span>-<span style=\"color: #008080; text-decoration-color: #008080; font-weight: bold\">59</span> <span style=\"font-weight: bold\">(</span>Pre Senior<span style=\"font-weight: bold\">)</span>             <span style=\"color: #008080; text-decoration-color: #008080; font-weight: bold\">820</span>   <span style=\"color: #008080; text-decoration-color: #008080; font-weight: bold\">602</span>         <span style=\"color: #008080; text-decoration-color: #008080; font-weight: bold\">1398</span>         <span style=\"color: #008080; text-decoration-color: #008080; font-weight: bold\">556</span>     <span style=\"color: #008080; text-decoration-color: #008080; font-weight: bold\">757</span>   \n",
       "<span style=\"color: #008080; text-decoration-color: #008080; font-weight: bold\">60</span>+ <span style=\"font-weight: bold\">(</span>Senior<span style=\"font-weight: bold\">)</span>                  <span style=\"color: #008080; text-decoration-color: #008080; font-weight: bold\">1099</span>   <span style=\"color: #008080; text-decoration-color: #008080; font-weight: bold\">846</span>         <span style=\"color: #008080; text-decoration-color: #008080; font-weight: bold\">1971</span>         <span style=\"color: #008080; text-decoration-color: #008080; font-weight: bold\">816</span>    <span style=\"color: #008080; text-decoration-color: #008080; font-weight: bold\">1058</span>   \n",
       "\n",
       "Payment Method       Paypal  \n",
       "Age_Group                    \n",
       "<span style=\"color: #008080; text-decoration-color: #008080; font-weight: bold\">18</span>-<span style=\"color: #008080; text-decoration-color: #008080; font-weight: bold\">30</span> <span style=\"font-weight: bold\">(</span>Young Adult<span style=\"font-weight: bold\">)</span>     <span style=\"color: #008080; text-decoration-color: #008080; font-weight: bold\">504</span>  \n",
       "<span style=\"color: #008080; text-decoration-color: #008080; font-weight: bold\">31</span>-<span style=\"color: #008080; text-decoration-color: #008080; font-weight: bold\">44</span> <span style=\"font-weight: bold\">(</span>Middle Age<span style=\"font-weight: bold\">)</span>      <span style=\"color: #008080; text-decoration-color: #008080; font-weight: bold\">547</span>  \n",
       "<span style=\"color: #008080; text-decoration-color: #008080; font-weight: bold\">45</span>-<span style=\"color: #008080; text-decoration-color: #008080; font-weight: bold\">59</span> <span style=\"font-weight: bold\">(</span>Pre Senior<span style=\"font-weight: bold\">)</span>      <span style=\"color: #008080; text-decoration-color: #008080; font-weight: bold\">609</span>  \n",
       "<span style=\"color: #008080; text-decoration-color: #008080; font-weight: bold\">60</span>+ <span style=\"font-weight: bold\">(</span>Senior<span style=\"font-weight: bold\">)</span>            <span style=\"color: #008080; text-decoration-color: #008080; font-weight: bold\">854</span>  \n",
       "</pre>\n"
      ],
      "text/plain": [
       "Payment Method       Bank Transfer  Cash  Credit Card  Debit Card  PayPal  \\\n",
       "Age_Group                                                                   \n",
       "\u001b[1;36m18\u001b[0m-\u001b[1;36m30\u001b[0m \u001b[1m(\u001b[0mYoung Adult\u001b[1m)\u001b[0m            \u001b[1;36m676\u001b[0m   \u001b[1;36m483\u001b[0m         \u001b[1;36m1219\u001b[0m         \u001b[1;36m498\u001b[0m     \u001b[1;36m689\u001b[0m   \n",
       "\u001b[1;36m31\u001b[0m-\u001b[1;36m44\u001b[0m \u001b[1m(\u001b[0mMiddle Age\u001b[1m)\u001b[0m             \u001b[1;36m776\u001b[0m   \u001b[1;36m561\u001b[0m         \u001b[1;36m1280\u001b[0m         \u001b[1;36m601\u001b[0m     \u001b[1;36m780\u001b[0m   \n",
       "\u001b[1;36m45\u001b[0m-\u001b[1;36m59\u001b[0m \u001b[1m(\u001b[0mPre Senior\u001b[1m)\u001b[0m             \u001b[1;36m820\u001b[0m   \u001b[1;36m602\u001b[0m         \u001b[1;36m1398\u001b[0m         \u001b[1;36m556\u001b[0m     \u001b[1;36m757\u001b[0m   \n",
       "\u001b[1;36m60\u001b[0m+ \u001b[1m(\u001b[0mSenior\u001b[1m)\u001b[0m                  \u001b[1;36m1099\u001b[0m   \u001b[1;36m846\u001b[0m         \u001b[1;36m1971\u001b[0m         \u001b[1;36m816\u001b[0m    \u001b[1;36m1058\u001b[0m   \n",
       "\n",
       "Payment Method       Paypal  \n",
       "Age_Group                    \n",
       "\u001b[1;36m18\u001b[0m-\u001b[1;36m30\u001b[0m \u001b[1m(\u001b[0mYoung Adult\u001b[1m)\u001b[0m     \u001b[1;36m504\u001b[0m  \n",
       "\u001b[1;36m31\u001b[0m-\u001b[1;36m44\u001b[0m \u001b[1m(\u001b[0mMiddle Age\u001b[1m)\u001b[0m      \u001b[1;36m547\u001b[0m  \n",
       "\u001b[1;36m45\u001b[0m-\u001b[1;36m59\u001b[0m \u001b[1m(\u001b[0mPre Senior\u001b[1m)\u001b[0m      \u001b[1;36m609\u001b[0m  \n",
       "\u001b[1;36m60\u001b[0m+ \u001b[1m(\u001b[0mSenior\u001b[1m)\u001b[0m            \u001b[1;36m854\u001b[0m  \n"
      ]
     },
     "metadata": {},
     "output_type": "display_data"
    },
    {
     "data": {
      "text/html": [
       "<pre style=\"white-space:pre;overflow-x:auto;line-height:normal;font-family:Menlo,'DejaVu Sans Mono',consolas,'Courier New',monospace\">Distribusi Frekuensi Shipping Type untuk Female Young Adults:\n",
       "</pre>\n"
      ],
      "text/plain": [
       "Distribusi Frekuensi Shipping Type untuk Female Young Adults:\n"
      ]
     },
     "metadata": {},
     "output_type": "display_data"
    },
    {
     "data": {
      "text/html": [
       "<pre style=\"white-space:pre;overflow-x:auto;line-height:normal;font-family:Menlo,'DejaVu Sans Mono',consolas,'Courier New',monospace\">Product Type         Headphones  Laptop  Smartphone  Smartwatch  Tablet\n",
       "Age_Group                                                              \n",
       "<span style=\"color: #008080; text-decoration-color: #008080; font-weight: bold\">18</span>-<span style=\"color: #008080; text-decoration-color: #008080; font-weight: bold\">30</span> <span style=\"font-weight: bold\">(</span>Young Adult<span style=\"font-weight: bold\">)</span>         <span style=\"color: #008080; text-decoration-color: #008080; font-weight: bold\">207</span>     <span style=\"color: #008080; text-decoration-color: #008080; font-weight: bold\">420</span>         <span style=\"color: #008080; text-decoration-color: #008080; font-weight: bold\">606</span>         <span style=\"color: #008080; text-decoration-color: #008080; font-weight: bold\">400</span>     <span style=\"color: #008080; text-decoration-color: #008080; font-weight: bold\">413</span>\n",
       "<span style=\"color: #008080; text-decoration-color: #008080; font-weight: bold\">31</span>-<span style=\"color: #008080; text-decoration-color: #008080; font-weight: bold\">44</span> <span style=\"font-weight: bold\">(</span>Middle Age<span style=\"font-weight: bold\">)</span>          <span style=\"color: #008080; text-decoration-color: #008080; font-weight: bold\">211</span>     <span style=\"color: #008080; text-decoration-color: #008080; font-weight: bold\">444</span>         <span style=\"color: #008080; text-decoration-color: #008080; font-weight: bold\">708</span>         <span style=\"color: #008080; text-decoration-color: #008080; font-weight: bold\">441</span>     <span style=\"color: #008080; text-decoration-color: #008080; font-weight: bold\">468</span>\n",
       "<span style=\"color: #008080; text-decoration-color: #008080; font-weight: bold\">45</span>-<span style=\"color: #008080; text-decoration-color: #008080; font-weight: bold\">59</span> <span style=\"font-weight: bold\">(</span>Pre Senior<span style=\"font-weight: bold\">)</span>          <span style=\"color: #008080; text-decoration-color: #008080; font-weight: bold\">241</span>     <span style=\"color: #008080; text-decoration-color: #008080; font-weight: bold\">469</span>         <span style=\"color: #008080; text-decoration-color: #008080; font-weight: bold\">685</span>         <span style=\"color: #008080; text-decoration-color: #008080; font-weight: bold\">416</span>     <span style=\"color: #008080; text-decoration-color: #008080; font-weight: bold\">461</span>\n",
       "<span style=\"color: #008080; text-decoration-color: #008080; font-weight: bold\">60</span>+ <span style=\"font-weight: bold\">(</span>Senior<span style=\"font-weight: bold\">)</span>                <span style=\"color: #008080; text-decoration-color: #008080; font-weight: bold\">308</span>     <span style=\"color: #008080; text-decoration-color: #008080; font-weight: bold\">638</span>         <span style=\"color: #008080; text-decoration-color: #008080; font-weight: bold\">981</span>         <span style=\"color: #008080; text-decoration-color: #008080; font-weight: bold\">644</span>     <span style=\"color: #008080; text-decoration-color: #008080; font-weight: bold\">674</span>\n",
       "</pre>\n"
      ],
      "text/plain": [
       "Product Type         Headphones  Laptop  Smartphone  Smartwatch  Tablet\n",
       "Age_Group                                                              \n",
       "\u001b[1;36m18\u001b[0m-\u001b[1;36m30\u001b[0m \u001b[1m(\u001b[0mYoung Adult\u001b[1m)\u001b[0m         \u001b[1;36m207\u001b[0m     \u001b[1;36m420\u001b[0m         \u001b[1;36m606\u001b[0m         \u001b[1;36m400\u001b[0m     \u001b[1;36m413\u001b[0m\n",
       "\u001b[1;36m31\u001b[0m-\u001b[1;36m44\u001b[0m \u001b[1m(\u001b[0mMiddle Age\u001b[1m)\u001b[0m          \u001b[1;36m211\u001b[0m     \u001b[1;36m444\u001b[0m         \u001b[1;36m708\u001b[0m         \u001b[1;36m441\u001b[0m     \u001b[1;36m468\u001b[0m\n",
       "\u001b[1;36m45\u001b[0m-\u001b[1;36m59\u001b[0m \u001b[1m(\u001b[0mPre Senior\u001b[1m)\u001b[0m          \u001b[1;36m241\u001b[0m     \u001b[1;36m469\u001b[0m         \u001b[1;36m685\u001b[0m         \u001b[1;36m416\u001b[0m     \u001b[1;36m461\u001b[0m\n",
       "\u001b[1;36m60\u001b[0m+ \u001b[1m(\u001b[0mSenior\u001b[1m)\u001b[0m                \u001b[1;36m308\u001b[0m     \u001b[1;36m638\u001b[0m         \u001b[1;36m981\u001b[0m         \u001b[1;36m644\u001b[0m     \u001b[1;36m674\u001b[0m\n"
      ]
     },
     "metadata": {},
     "output_type": "display_data"
    },
    {
     "data": {
      "text/html": [
       "<pre style=\"white-space:pre;overflow-x:auto;line-height:normal;font-family:Menlo,'DejaVu Sans Mono',consolas,'Courier New',monospace\">Product Type         Headphones  Laptop  Smartphone  Smartwatch  Tablet\n",
       "Age_Group                                                              \n",
       "<span style=\"color: #008080; text-decoration-color: #008080; font-weight: bold\">18</span>-<span style=\"color: #008080; text-decoration-color: #008080; font-weight: bold\">30</span> <span style=\"font-weight: bold\">(</span>Young Adult<span style=\"font-weight: bold\">)</span>         <span style=\"color: #008080; text-decoration-color: #008080; font-weight: bold\">233</span>     <span style=\"color: #008080; text-decoration-color: #008080; font-weight: bold\">390</span>         <span style=\"color: #008080; text-decoration-color: #008080; font-weight: bold\">570</span>         <span style=\"color: #008080; text-decoration-color: #008080; font-weight: bold\">397</span>     <span style=\"color: #008080; text-decoration-color: #008080; font-weight: bold\">432</span>\n",
       "<span style=\"color: #008080; text-decoration-color: #008080; font-weight: bold\">31</span>-<span style=\"color: #008080; text-decoration-color: #008080; font-weight: bold\">44</span> <span style=\"font-weight: bold\">(</span>Middle Age<span style=\"font-weight: bold\">)</span>          <span style=\"color: #008080; text-decoration-color: #008080; font-weight: bold\">251</span>     <span style=\"color: #008080; text-decoration-color: #008080; font-weight: bold\">472</span>         <span style=\"color: #008080; text-decoration-color: #008080; font-weight: bold\">647</span>         <span style=\"color: #008080; text-decoration-color: #008080; font-weight: bold\">447</span>     <span style=\"color: #008080; text-decoration-color: #008080; font-weight: bold\">456</span>\n",
       "<span style=\"color: #008080; text-decoration-color: #008080; font-weight: bold\">45</span>-<span style=\"color: #008080; text-decoration-color: #008080; font-weight: bold\">59</span> <span style=\"font-weight: bold\">(</span>Pre Senior<span style=\"font-weight: bold\">)</span>          <span style=\"color: #008080; text-decoration-color: #008080; font-weight: bold\">228</span>     <span style=\"color: #008080; text-decoration-color: #008080; font-weight: bold\">502</span>         <span style=\"color: #008080; text-decoration-color: #008080; font-weight: bold\">779</span>         <span style=\"color: #008080; text-decoration-color: #008080; font-weight: bold\">483</span>     <span style=\"color: #008080; text-decoration-color: #008080; font-weight: bold\">478</span>\n",
       "<span style=\"color: #008080; text-decoration-color: #008080; font-weight: bold\">60</span>+ <span style=\"font-weight: bold\">(</span>Senior<span style=\"font-weight: bold\">)</span>                <span style=\"color: #008080; text-decoration-color: #008080; font-weight: bold\">332</span>     <span style=\"color: #008080; text-decoration-color: #008080; font-weight: bold\">637</span>        <span style=\"color: #008080; text-decoration-color: #008080; font-weight: bold\">1002</span>         <span style=\"color: #008080; text-decoration-color: #008080; font-weight: bold\">706</span>     <span style=\"color: #008080; text-decoration-color: #008080; font-weight: bold\">722</span>\n",
       "</pre>\n"
      ],
      "text/plain": [
       "Product Type         Headphones  Laptop  Smartphone  Smartwatch  Tablet\n",
       "Age_Group                                                              \n",
       "\u001b[1;36m18\u001b[0m-\u001b[1;36m30\u001b[0m \u001b[1m(\u001b[0mYoung Adult\u001b[1m)\u001b[0m         \u001b[1;36m233\u001b[0m     \u001b[1;36m390\u001b[0m         \u001b[1;36m570\u001b[0m         \u001b[1;36m397\u001b[0m     \u001b[1;36m432\u001b[0m\n",
       "\u001b[1;36m31\u001b[0m-\u001b[1;36m44\u001b[0m \u001b[1m(\u001b[0mMiddle Age\u001b[1m)\u001b[0m          \u001b[1;36m251\u001b[0m     \u001b[1;36m472\u001b[0m         \u001b[1;36m647\u001b[0m         \u001b[1;36m447\u001b[0m     \u001b[1;36m456\u001b[0m\n",
       "\u001b[1;36m45\u001b[0m-\u001b[1;36m59\u001b[0m \u001b[1m(\u001b[0mPre Senior\u001b[1m)\u001b[0m          \u001b[1;36m228\u001b[0m     \u001b[1;36m502\u001b[0m         \u001b[1;36m779\u001b[0m         \u001b[1;36m483\u001b[0m     \u001b[1;36m478\u001b[0m\n",
       "\u001b[1;36m60\u001b[0m+ \u001b[1m(\u001b[0mSenior\u001b[1m)\u001b[0m                \u001b[1;36m332\u001b[0m     \u001b[1;36m637\u001b[0m        \u001b[1;36m1002\u001b[0m         \u001b[1;36m706\u001b[0m     \u001b[1;36m722\u001b[0m\n"
      ]
     },
     "metadata": {},
     "output_type": "display_data"
    }
   ],
   "source": [
    "# Tabulating Data\n",
    "# 1. Tabel Tabulasi Product Type\n",
    "summary_df = (\n",
    "    df.groupby(\"Product Type\")\n",
    "    .agg(\n",
    "        Total_Revenue=(\"Total Price\", \"sum\"),\n",
    "        Average_Rating=(\"Rating\", \"mean\"),\n",
    "        Average_Quantity=(\"Quantity\", \"mean\"),\n",
    "        Buyer_Age=(\"Age\", \"mean\"),\n",
    "        Average_Addon_Total=(\"Add-on Total\", \"mean\"),\n",
    "        Transaction_Count=(\"Product Type\", \"count\"),\n",
    "    )\n",
    "    .reset_index()\n",
    ")\n",
    "\n",
    "# Formatting\n",
    "summary_df[\"Total_Revenue\"] = summary_df[\"Total_Revenue\"].apply(\n",
    "    lambda x: f\"${x/1000:,.0f}k\"\n",
    ")\n",
    "summary_df[\"Average_Rating\"] = summary_df[\"Average_Rating\"].round(2)\n",
    "summary_df[\"Average_Quantity\"] = summary_df[\"Average_Quantity\"].round(2)\n",
    "summary_df[\"Buyer_Age\"] = summary_df[\"Buyer_Age\"].round(1)\n",
    "summary_df[\"Average_Addon_Total\"] = summary_df[\"Average_Addon_Total\"].apply(\n",
    "    lambda x: f\"${x:.2f}\"\n",
    ")\n",
    "\n",
    "table = Table(\n",
    "    title=\"Tabulasi Utama Berdasarkan Product Type\",\n",
    "    title_style=\"bold yellow\",\n",
    "    show_lines=True,\n",
    ")\n",
    "for column in summary_df.columns:\n",
    "    table.add_column(column, style=\"white bold\", justify=\"center\", no_wrap=True)\n",
    "for _, row in summary_df.iterrows():\n",
    "    table.add_row(*[str(item) for item in row])\n",
    "console = Console()\n",
    "console.print(table)\n",
    "\n",
    "# 2. Tabel Distribusi Frekuensi Product Type terhadap Age Group\n",
    "age_product_table = pd.crosstab(df[\"Product Type\"], df[\"Age_Group\"])\n",
    "print(\"\\nDistribusi Frekuensi Product Type terhadap Age Group\")\n",
    "print(age_product_table)\n",
    "\n",
    "# 3. Tabel Distribusi Frekuensi Product Type terhadap Shipping Type\n",
    "shipping_product_table = pd.crosstab(df[\"Age_Group\"], df[\"Payment Method\"])\n",
    "print(\"\\nDistribusi Frekuensi Gender terhadap Payment Method\")\n",
    "print(shipping_product_table)\n",
    "\n",
    "# 4. Tabel Distribusi Frekuensi Product Type terhadap Kelompok Umur Perempuan dan Laki-laki\n",
    "filtered_female_df = df[(df[\"Gender\"] == \"Female\") & (df[\"Age_Group\"])]\n",
    "filtered_male_df = df[(df[\"Gender\"] == \"Male\") & (df[\"Age_Group\"])]\n",
    "female_shipping = pd.crosstab(\n",
    "    index=filtered_female_df[\"Age_Group\"], columns=filtered_female_df[\"Product Type\"]\n",
    ")\n",
    "male_product = pd.crosstab(\n",
    "    index=filtered_male_df[\"Age_Group\"], columns=filtered_male_df[\"Product Type\"]\n",
    ")\n",
    "print(\"Distribusi Frekuensi Product Type untuk Kelompok Usia Perempuan:\")\n",
    "print(female_shipping)\n",
    "print(\"Distribusi Frekuensi Product Type untuk Kelompok Usia Laki-laki:\")\n",
    "print(male_product)"
   ]
  }
 ],
 "metadata": {
  "kernelspec": {
   "display_name": "Python 3",
   "language": "python",
   "name": "python3"
  },
  "language_info": {
   "codemirror_mode": {
    "name": "ipython",
    "version": 3
   },
   "file_extension": ".py",
   "mimetype": "text/x-python",
   "name": "python",
   "nbconvert_exporter": "python",
   "pygments_lexer": "ipython3",
   "version": "3.13.2"
  }
 },
 "nbformat": 4,
 "nbformat_minor": 5
}
