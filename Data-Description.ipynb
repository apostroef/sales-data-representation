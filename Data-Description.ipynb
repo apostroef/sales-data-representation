{
 "cells": [
  {
   "cell_type": "code",
   "execution_count": null,
   "id": "206df1c4",
   "metadata": {},
   "outputs": [
    {
     "data": {
      "text/html": [
       "<pre style=\"white-space:pre;overflow-x:auto;line-height:normal;font-family:Menlo,'DejaVu Sans Mono',consolas,'Courier New',monospace\"><span style=\"color: #808000; text-decoration-color: #808000; font-weight: bold\">                                Tabel Statistik Deskriptif Data Numerik                                </span>\n",
       "┏━━━━━━━━━━━━┳━━━━━━━━━━━━━┳━━━━━━━━━━┳━━━━━━━━━━┳━━━━━━━━━━━━━┳━━━━━━━━━━━━┳━━━━━━━━━━┳━━━━━━━━━━━━━━┓\n",
       "┃<span style=\"font-weight: bold\"> Statistics </span>┃<span style=\"font-weight: bold\"> Customer ID </span>┃<span style=\"font-weight: bold\">   Age    </span>┃<span style=\"font-weight: bold\">  Rating  </span>┃<span style=\"font-weight: bold\"> Total Price </span>┃<span style=\"font-weight: bold\"> Unit Price </span>┃<span style=\"font-weight: bold\"> Quantity </span>┃<span style=\"font-weight: bold\"> Add-on Total </span>┃\n",
       "┡━━━━━━━━━━━━╇━━━━━━━━━━━━━╇━━━━━━━━━━╇━━━━━━━━━━╇━━━━━━━━━━━━━╇━━━━━━━━━━━━╇━━━━━━━━━━╇━━━━━━━━━━━━━━┩\n",
       "│<span style=\"color: #808000; text-decoration-color: #808000; font-weight: bold\"> count      </span>│<span style=\"color: #c0c0c0; text-decoration-color: #c0c0c0; font-weight: bold\">  20000.00   </span>│<span style=\"color: #c0c0c0; text-decoration-color: #c0c0c0; font-weight: bold\"> 20000.00 </span>│<span style=\"color: #c0c0c0; text-decoration-color: #c0c0c0; font-weight: bold\"> 20000.00 </span>│<span style=\"color: #c0c0c0; text-decoration-color: #c0c0c0; font-weight: bold\">  20000.00   </span>│<span style=\"color: #c0c0c0; text-decoration-color: #c0c0c0; font-weight: bold\">  20000.00  </span>│<span style=\"color: #c0c0c0; text-decoration-color: #c0c0c0; font-weight: bold\"> 20000.00 </span>│<span style=\"color: #c0c0c0; text-decoration-color: #c0c0c0; font-weight: bold\">   20000.00   </span>│\n",
       "├────────────┼─────────────┼──────────┼──────────┼─────────────┼────────────┼──────────┼──────────────┤\n",
       "│<span style=\"color: #808000; text-decoration-color: #808000; font-weight: bold\"> mean       </span>│<span style=\"color: #c0c0c0; text-decoration-color: #c0c0c0; font-weight: bold\">  10483.53   </span>│<span style=\"color: #c0c0c0; text-decoration-color: #c0c0c0; font-weight: bold\">  48.99   </span>│<span style=\"color: #c0c0c0; text-decoration-color: #c0c0c0; font-weight: bold\">   3.09   </span>│<span style=\"color: #c0c0c0; text-decoration-color: #c0c0c0; font-weight: bold\">   3180.13   </span>│<span style=\"color: #c0c0c0; text-decoration-color: #c0c0c0; font-weight: bold\">   578.63   </span>│<span style=\"color: #c0c0c0; text-decoration-color: #c0c0c0; font-weight: bold\">   5.49   </span>│<span style=\"color: #c0c0c0; text-decoration-color: #c0c0c0; font-weight: bold\">    62.24     </span>│\n",
       "├────────────┼─────────────┼──────────┼──────────┼─────────────┼────────────┼──────────┼──────────────┤\n",
       "│<span style=\"color: #808000; text-decoration-color: #808000; font-weight: bold\"> std        </span>│<span style=\"color: #c0c0c0; text-decoration-color: #c0c0c0; font-weight: bold\">   5631.73   </span>│<span style=\"color: #c0c0c0; text-decoration-color: #c0c0c0; font-weight: bold\">  18.04   </span>│<span style=\"color: #c0c0c0; text-decoration-color: #c0c0c0; font-weight: bold\">   1.22   </span>│<span style=\"color: #c0c0c0; text-decoration-color: #c0c0c0; font-weight: bold\">   2544.98   </span>│<span style=\"color: #c0c0c0; text-decoration-color: #c0c0c0; font-weight: bold\">   312.27   </span>│<span style=\"color: #c0c0c0; text-decoration-color: #c0c0c0; font-weight: bold\">   2.87   </span>│<span style=\"color: #c0c0c0; text-decoration-color: #c0c0c0; font-weight: bold\">    58.06     </span>│\n",
       "├────────────┼─────────────┼──────────┼──────────┼─────────────┼────────────┼──────────┼──────────────┤\n",
       "│<span style=\"color: #808000; text-decoration-color: #808000; font-weight: bold\"> min        </span>│<span style=\"color: #c0c0c0; text-decoration-color: #c0c0c0; font-weight: bold\">   1000.00   </span>│<span style=\"color: #c0c0c0; text-decoration-color: #c0c0c0; font-weight: bold\">  18.00   </span>│<span style=\"color: #c0c0c0; text-decoration-color: #c0c0c0; font-weight: bold\">   1.00   </span>│<span style=\"color: #c0c0c0; text-decoration-color: #c0c0c0; font-weight: bold\">    20.75    </span>│<span style=\"color: #c0c0c0; text-decoration-color: #c0c0c0; font-weight: bold\">   20.75    </span>│<span style=\"color: #c0c0c0; text-decoration-color: #c0c0c0; font-weight: bold\">   1.00   </span>│<span style=\"color: #c0c0c0; text-decoration-color: #c0c0c0; font-weight: bold\">     0.00     </span>│\n",
       "├────────────┼─────────────┼──────────┼──────────┼─────────────┼────────────┼──────────┼──────────────┤\n",
       "│<span style=\"color: #808000; text-decoration-color: #808000; font-weight: bold\"> 25%        </span>│<span style=\"color: #c0c0c0; text-decoration-color: #c0c0c0; font-weight: bold\">   5478.00   </span>│<span style=\"color: #c0c0c0; text-decoration-color: #c0c0c0; font-weight: bold\">  33.00   </span>│<span style=\"color: #c0c0c0; text-decoration-color: #c0c0c0; font-weight: bold\">   2.00   </span>│<span style=\"color: #c0c0c0; text-decoration-color: #c0c0c0; font-weight: bold\">   1139.68   </span>│<span style=\"color: #c0c0c0; text-decoration-color: #c0c0c0; font-weight: bold\">   361.18   </span>│<span style=\"color: #c0c0c0; text-decoration-color: #c0c0c0; font-weight: bold\">   3.00   </span>│<span style=\"color: #c0c0c0; text-decoration-color: #c0c0c0; font-weight: bold\">     7.62     </span>│\n",
       "├────────────┼─────────────┼──────────┼──────────┼─────────────┼────────────┼──────────┼──────────────┤\n",
       "│<span style=\"color: #808000; text-decoration-color: #808000; font-weight: bold\"> 50%        </span>│<span style=\"color: #c0c0c0; text-decoration-color: #c0c0c0; font-weight: bold\">  10499.50   </span>│<span style=\"color: #c0c0c0; text-decoration-color: #c0c0c0; font-weight: bold\">  49.00   </span>│<span style=\"color: #c0c0c0; text-decoration-color: #c0c0c0; font-weight: bold\">   3.00   </span>│<span style=\"color: #c0c0c0; text-decoration-color: #c0c0c0; font-weight: bold\">   2534.49   </span>│<span style=\"color: #c0c0c0; text-decoration-color: #c0c0c0; font-weight: bold\">   463.96   </span>│<span style=\"color: #c0c0c0; text-decoration-color: #c0c0c0; font-weight: bold\">   5.00   </span>│<span style=\"color: #c0c0c0; text-decoration-color: #c0c0c0; font-weight: bold\">    51.70     </span>│\n",
       "├────────────┼─────────────┼──────────┼──────────┼─────────────┼────────────┼──────────┼──────────────┤\n",
       "│<span style=\"color: #808000; text-decoration-color: #808000; font-weight: bold\"> 75%        </span>│<span style=\"color: #c0c0c0; text-decoration-color: #c0c0c0; font-weight: bold\">  15504.00   </span>│<span style=\"color: #c0c0c0; text-decoration-color: #c0c0c0; font-weight: bold\">  65.00   </span>│<span style=\"color: #c0c0c0; text-decoration-color: #c0c0c0; font-weight: bold\">   4.00   </span>│<span style=\"color: #c0c0c0; text-decoration-color: #c0c0c0; font-weight: bold\">   4639.60   </span>│<span style=\"color: #c0c0c0; text-decoration-color: #c0c0c0; font-weight: bold\">   791.19   </span>│<span style=\"color: #c0c0c0; text-decoration-color: #c0c0c0; font-weight: bold\">   8.00   </span>│<span style=\"color: #c0c0c0; text-decoration-color: #c0c0c0; font-weight: bold\">    93.84     </span>│\n",
       "├────────────┼─────────────┼──────────┼──────────┼─────────────┼────────────┼──────────┼──────────────┤\n",
       "│<span style=\"color: #808000; text-decoration-color: #808000; font-weight: bold\"> max        </span>│<span style=\"color: #c0c0c0; text-decoration-color: #c0c0c0; font-weight: bold\">  19998.00   </span>│<span style=\"color: #c0c0c0; text-decoration-color: #c0c0c0; font-weight: bold\">  80.00   </span>│<span style=\"color: #c0c0c0; text-decoration-color: #c0c0c0; font-weight: bold\">   5.00   </span>│<span style=\"color: #c0c0c0; text-decoration-color: #c0c0c0; font-weight: bold\">  11396.80   </span>│<span style=\"color: #c0c0c0; text-decoration-color: #c0c0c0; font-weight: bold\">  1139.68   </span>│<span style=\"color: #c0c0c0; text-decoration-color: #c0c0c0; font-weight: bold\">  10.00   </span>│<span style=\"color: #c0c0c0; text-decoration-color: #c0c0c0; font-weight: bold\">    292.77    </span>│\n",
       "└────────────┴─────────────┴──────────┴──────────┴─────────────┴────────────┴──────────┴──────────────┘\n",
       "</pre>\n"
      ],
      "text/plain": [
       "\u001b[1;33m                                Tabel Statistik Deskriptif Data Numerik                                \u001b[0m\n",
       "┏━━━━━━━━━━━━┳━━━━━━━━━━━━━┳━━━━━━━━━━┳━━━━━━━━━━┳━━━━━━━━━━━━━┳━━━━━━━━━━━━┳━━━━━━━━━━┳━━━━━━━━━━━━━━┓\n",
       "┃\u001b[1m \u001b[0m\u001b[1mStatistics\u001b[0m\u001b[1m \u001b[0m┃\u001b[1m \u001b[0m\u001b[1mCustomer ID\u001b[0m\u001b[1m \u001b[0m┃\u001b[1m \u001b[0m\u001b[1m  Age   \u001b[0m\u001b[1m \u001b[0m┃\u001b[1m \u001b[0m\u001b[1m Rating \u001b[0m\u001b[1m \u001b[0m┃\u001b[1m \u001b[0m\u001b[1mTotal Price\u001b[0m\u001b[1m \u001b[0m┃\u001b[1m \u001b[0m\u001b[1mUnit Price\u001b[0m\u001b[1m \u001b[0m┃\u001b[1m \u001b[0m\u001b[1mQuantity\u001b[0m\u001b[1m \u001b[0m┃\u001b[1m \u001b[0m\u001b[1mAdd-on Total\u001b[0m\u001b[1m \u001b[0m┃\n",
       "┡━━━━━━━━━━━━╇━━━━━━━━━━━━━╇━━━━━━━━━━╇━━━━━━━━━━╇━━━━━━━━━━━━━╇━━━━━━━━━━━━╇━━━━━━━━━━╇━━━━━━━━━━━━━━┩\n",
       "│\u001b[1;33m \u001b[0m\u001b[1;33mcount     \u001b[0m\u001b[1;33m \u001b[0m│\u001b[1;37m \u001b[0m\u001b[1;37m 20000.00  \u001b[0m\u001b[1;37m \u001b[0m│\u001b[1;37m \u001b[0m\u001b[1;37m20000.00\u001b[0m\u001b[1;37m \u001b[0m│\u001b[1;37m \u001b[0m\u001b[1;37m20000.00\u001b[0m\u001b[1;37m \u001b[0m│\u001b[1;37m \u001b[0m\u001b[1;37m 20000.00  \u001b[0m\u001b[1;37m \u001b[0m│\u001b[1;37m \u001b[0m\u001b[1;37m 20000.00 \u001b[0m\u001b[1;37m \u001b[0m│\u001b[1;37m \u001b[0m\u001b[1;37m20000.00\u001b[0m\u001b[1;37m \u001b[0m│\u001b[1;37m \u001b[0m\u001b[1;37m  20000.00  \u001b[0m\u001b[1;37m \u001b[0m│\n",
       "├────────────┼─────────────┼──────────┼──────────┼─────────────┼────────────┼──────────┼──────────────┤\n",
       "│\u001b[1;33m \u001b[0m\u001b[1;33mmean      \u001b[0m\u001b[1;33m \u001b[0m│\u001b[1;37m \u001b[0m\u001b[1;37m 10483.53  \u001b[0m\u001b[1;37m \u001b[0m│\u001b[1;37m \u001b[0m\u001b[1;37m 48.99  \u001b[0m\u001b[1;37m \u001b[0m│\u001b[1;37m \u001b[0m\u001b[1;37m  3.09  \u001b[0m\u001b[1;37m \u001b[0m│\u001b[1;37m \u001b[0m\u001b[1;37m  3180.13  \u001b[0m\u001b[1;37m \u001b[0m│\u001b[1;37m \u001b[0m\u001b[1;37m  578.63  \u001b[0m\u001b[1;37m \u001b[0m│\u001b[1;37m \u001b[0m\u001b[1;37m  5.49  \u001b[0m\u001b[1;37m \u001b[0m│\u001b[1;37m \u001b[0m\u001b[1;37m   62.24    \u001b[0m\u001b[1;37m \u001b[0m│\n",
       "├────────────┼─────────────┼──────────┼──────────┼─────────────┼────────────┼──────────┼──────────────┤\n",
       "│\u001b[1;33m \u001b[0m\u001b[1;33mstd       \u001b[0m\u001b[1;33m \u001b[0m│\u001b[1;37m \u001b[0m\u001b[1;37m  5631.73  \u001b[0m\u001b[1;37m \u001b[0m│\u001b[1;37m \u001b[0m\u001b[1;37m 18.04  \u001b[0m\u001b[1;37m \u001b[0m│\u001b[1;37m \u001b[0m\u001b[1;37m  1.22  \u001b[0m\u001b[1;37m \u001b[0m│\u001b[1;37m \u001b[0m\u001b[1;37m  2544.98  \u001b[0m\u001b[1;37m \u001b[0m│\u001b[1;37m \u001b[0m\u001b[1;37m  312.27  \u001b[0m\u001b[1;37m \u001b[0m│\u001b[1;37m \u001b[0m\u001b[1;37m  2.87  \u001b[0m\u001b[1;37m \u001b[0m│\u001b[1;37m \u001b[0m\u001b[1;37m   58.06    \u001b[0m\u001b[1;37m \u001b[0m│\n",
       "├────────────┼─────────────┼──────────┼──────────┼─────────────┼────────────┼──────────┼──────────────┤\n",
       "│\u001b[1;33m \u001b[0m\u001b[1;33mmin       \u001b[0m\u001b[1;33m \u001b[0m│\u001b[1;37m \u001b[0m\u001b[1;37m  1000.00  \u001b[0m\u001b[1;37m \u001b[0m│\u001b[1;37m \u001b[0m\u001b[1;37m 18.00  \u001b[0m\u001b[1;37m \u001b[0m│\u001b[1;37m \u001b[0m\u001b[1;37m  1.00  \u001b[0m\u001b[1;37m \u001b[0m│\u001b[1;37m \u001b[0m\u001b[1;37m   20.75   \u001b[0m\u001b[1;37m \u001b[0m│\u001b[1;37m \u001b[0m\u001b[1;37m  20.75   \u001b[0m\u001b[1;37m \u001b[0m│\u001b[1;37m \u001b[0m\u001b[1;37m  1.00  \u001b[0m\u001b[1;37m \u001b[0m│\u001b[1;37m \u001b[0m\u001b[1;37m    0.00    \u001b[0m\u001b[1;37m \u001b[0m│\n",
       "├────────────┼─────────────┼──────────┼──────────┼─────────────┼────────────┼──────────┼──────────────┤\n",
       "│\u001b[1;33m \u001b[0m\u001b[1;33m25%       \u001b[0m\u001b[1;33m \u001b[0m│\u001b[1;37m \u001b[0m\u001b[1;37m  5478.00  \u001b[0m\u001b[1;37m \u001b[0m│\u001b[1;37m \u001b[0m\u001b[1;37m 33.00  \u001b[0m\u001b[1;37m \u001b[0m│\u001b[1;37m \u001b[0m\u001b[1;37m  2.00  \u001b[0m\u001b[1;37m \u001b[0m│\u001b[1;37m \u001b[0m\u001b[1;37m  1139.68  \u001b[0m\u001b[1;37m \u001b[0m│\u001b[1;37m \u001b[0m\u001b[1;37m  361.18  \u001b[0m\u001b[1;37m \u001b[0m│\u001b[1;37m \u001b[0m\u001b[1;37m  3.00  \u001b[0m\u001b[1;37m \u001b[0m│\u001b[1;37m \u001b[0m\u001b[1;37m    7.62    \u001b[0m\u001b[1;37m \u001b[0m│\n",
       "├────────────┼─────────────┼──────────┼──────────┼─────────────┼────────────┼──────────┼──────────────┤\n",
       "│\u001b[1;33m \u001b[0m\u001b[1;33m50%       \u001b[0m\u001b[1;33m \u001b[0m│\u001b[1;37m \u001b[0m\u001b[1;37m 10499.50  \u001b[0m\u001b[1;37m \u001b[0m│\u001b[1;37m \u001b[0m\u001b[1;37m 49.00  \u001b[0m\u001b[1;37m \u001b[0m│\u001b[1;37m \u001b[0m\u001b[1;37m  3.00  \u001b[0m\u001b[1;37m \u001b[0m│\u001b[1;37m \u001b[0m\u001b[1;37m  2534.49  \u001b[0m\u001b[1;37m \u001b[0m│\u001b[1;37m \u001b[0m\u001b[1;37m  463.96  \u001b[0m\u001b[1;37m \u001b[0m│\u001b[1;37m \u001b[0m\u001b[1;37m  5.00  \u001b[0m\u001b[1;37m \u001b[0m│\u001b[1;37m \u001b[0m\u001b[1;37m   51.70    \u001b[0m\u001b[1;37m \u001b[0m│\n",
       "├────────────┼─────────────┼──────────┼──────────┼─────────────┼────────────┼──────────┼──────────────┤\n",
       "│\u001b[1;33m \u001b[0m\u001b[1;33m75%       \u001b[0m\u001b[1;33m \u001b[0m│\u001b[1;37m \u001b[0m\u001b[1;37m 15504.00  \u001b[0m\u001b[1;37m \u001b[0m│\u001b[1;37m \u001b[0m\u001b[1;37m 65.00  \u001b[0m\u001b[1;37m \u001b[0m│\u001b[1;37m \u001b[0m\u001b[1;37m  4.00  \u001b[0m\u001b[1;37m \u001b[0m│\u001b[1;37m \u001b[0m\u001b[1;37m  4639.60  \u001b[0m\u001b[1;37m \u001b[0m│\u001b[1;37m \u001b[0m\u001b[1;37m  791.19  \u001b[0m\u001b[1;37m \u001b[0m│\u001b[1;37m \u001b[0m\u001b[1;37m  8.00  \u001b[0m\u001b[1;37m \u001b[0m│\u001b[1;37m \u001b[0m\u001b[1;37m   93.84    \u001b[0m\u001b[1;37m \u001b[0m│\n",
       "├────────────┼─────────────┼──────────┼──────────┼─────────────┼────────────┼──────────┼──────────────┤\n",
       "│\u001b[1;33m \u001b[0m\u001b[1;33mmax       \u001b[0m\u001b[1;33m \u001b[0m│\u001b[1;37m \u001b[0m\u001b[1;37m 19998.00  \u001b[0m\u001b[1;37m \u001b[0m│\u001b[1;37m \u001b[0m\u001b[1;37m 80.00  \u001b[0m\u001b[1;37m \u001b[0m│\u001b[1;37m \u001b[0m\u001b[1;37m  5.00  \u001b[0m\u001b[1;37m \u001b[0m│\u001b[1;37m \u001b[0m\u001b[1;37m 11396.80  \u001b[0m\u001b[1;37m \u001b[0m│\u001b[1;37m \u001b[0m\u001b[1;37m 1139.68  \u001b[0m\u001b[1;37m \u001b[0m│\u001b[1;37m \u001b[0m\u001b[1;37m 10.00  \u001b[0m\u001b[1;37m \u001b[0m│\u001b[1;37m \u001b[0m\u001b[1;37m   292.77   \u001b[0m\u001b[1;37m \u001b[0m│\n",
       "└────────────┴─────────────┴──────────┴──────────┴─────────────┴────────────┴──────────┴──────────────┘\n"
      ]
     },
     "metadata": {},
     "output_type": "display_data"
    }
   ],
   "source": [
    "import re\n",
    "import numpy as np\n",
    "import pandas as pd\n",
    "import shutil\n",
    "import matplotlib.pyplot as plt\n",
    "import seaborn as sns\n",
    "from rich import print\n",
    "from rich.table import Table\n",
    "from rich.console import Console\n",
    "\n",
    "pd.set_option(\"display.max_columns\", None)\n",
    "pd.set_option(\"display.max_rows\", None)\n",
    "terminal_width = shutil.get_terminal_size().columns\n",
    "df = pd.read_csv(\"labeled_customer_data.csv\")\n",
    "\n",
    "numeric_columns = df.select_dtypes(include=[np.number]).columns\n",
    "categorical_columns = df.select_dtypes(include=[\"string\", \"object\"]).columns\n",
    "\n",
    "descriptive_stats = df[numeric_columns].describe()\n",
    "\n",
    "console = Console()\n",
    "descriptive_table = Table(\n",
    "    title=\"Tabel Statistik Deskriptif Data Numerik\",\n",
    "    title_style=\"bold yellow\",\n",
    "    show_lines=True,\n",
    ")\n",
    "descriptive_table.add_column(\"Statistics\", style=\"yellow bold\", justify=\"left\")\n",
    "for col in descriptive_stats.columns:\n",
    "    descriptive_table.add_column(col, style=\"white bold\", justify=\"center\")\n",
    "for idx, row in descriptive_stats.iterrows():\n",
    "    row_data = [idx] + [f\"{item:.2f}\" for item in row]\n",
    "    descriptive_table.add_row(*row_data)\n",
    "\n",
    "console.print(descriptive_table)"
   ]
  },
  {
   "cell_type": "code",
   "execution_count": null,
   "id": "2c586efd",
   "metadata": {},
   "outputs": [
    {
     "data": {
      "text/html": [
       "<pre style=\"white-space:pre;overflow-x:auto;line-height:normal;font-family:Menlo,'DejaVu Sans Mono',consolas,'Courier New',monospace\"><span style=\"color: #00ff00; text-decoration-color: #00ff00\">────────────────────── </span><span style=\"color: #808000; text-decoration-color: #808000; font-weight: bold\">Deskripsi Data berdasarkan Median</span><span style=\"color: #00ff00; text-decoration-color: #00ff00\"> ───────────────────────</span>\n",
       "</pre>\n"
      ],
      "text/plain": [
       "\u001b[92m────────────────────── \u001b[0m\u001b[1;33mDeskripsi Data berdasarkan Median\u001b[0m\u001b[92m ───────────────────────\u001b[0m\n"
      ]
     },
     "metadata": {},
     "output_type": "display_data"
    },
    {
     "data": {
      "text/html": [
       "<pre style=\"white-space:pre;overflow-x:auto;line-height:normal;font-family:Menlo,'DejaVu Sans Mono',consolas,'Courier New',monospace\"><span style=\"color: #00ff00; text-decoration-color: #00ff00\">─────────────────────── </span><span style=\"color: #808000; text-decoration-color: #808000; font-weight: bold\">Deskripsi Data berdasarkan Mean</span><span style=\"color: #00ff00; text-decoration-color: #00ff00\"> ────────────────────────</span>\n",
       "</pre>\n"
      ],
      "text/plain": [
       "\u001b[92m─────────────────────── \u001b[0m\u001b[1;33mDeskripsi Data berdasarkan Mean\u001b[0m\u001b[92m ────────────────────────\u001b[0m\n"
      ]
     },
     "metadata": {},
     "output_type": "display_data"
    }
   ],
   "source": [
    "Console(width=terminal_width).rule(\"[bold yellow]Deskripsi Data berdasarkan Median\")\n",
    "\n",
    "Console(width=terminal_width).rule(\"[bold yellow]Deskripsi Data berdasarkan Mean\")\n",
    "\n",
    "Console(width=terminal_width).rule(\n",
    "    \"[bold yellow]Deskripsi Data berdasarkan Standar Deviasi\"\n",
    ")"
   ]
  }
 ],
 "metadata": {
  "kernelspec": {
   "display_name": "Python 3",
   "language": "python",
   "name": "python3"
  },
  "language_info": {
   "codemirror_mode": {
    "name": "ipython",
    "version": 3
   },
   "file_extension": ".py",
   "mimetype": "text/x-python",
   "name": "python",
   "nbconvert_exporter": "python",
   "pygments_lexer": "ipython3",
   "version": "3.13.2"
  }
 },
 "nbformat": 4,
 "nbformat_minor": 5
}
