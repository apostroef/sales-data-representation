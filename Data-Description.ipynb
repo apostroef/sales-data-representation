{
 "cells": [
  {
   "cell_type": "code",
   "execution_count": null,
   "id": "206df1c4",
   "metadata": {},
   "outputs": [],
   "source": [
    "import re\n",
    "import numpy as np\n",
    "import pandas as pd\n",
    "import shutil\n",
    "import matplotlib.pyplot as plt\n",
    "import seaborn as sns\n",
    "from rich import print\n",
    "from rich.table import Table\n",
    "from rich.console import Console\n",
    "\n",
    "pd.set_option(\"display.max_columns\", None)\n",
    "pd.set_option(\"display.max_rows\", None)\n",
    "terminal_width = shutil.get_terminal_size().columns\n",
    "df = pd.read_csv(\"labeled_customer_data.csv\")\n",
    "\n",
    "numeric_columns = df.select_dtypes(include=[np.number]).columns\n",
    "numeric_noID = [col for col in numeric_columns if col != \"Customer ID\"]\n",
    "categorical_columns = df.select_dtypes(include=[\"string\", \"object\"]).columns"
   ]
  },
  {
   "cell_type": "markdown",
   "id": "1da4d3c8",
   "metadata": {},
   "source": [
    "# **Statistika Deskriptif**\n",
    "\n",
    "Menunjukkan analisis kuantitatif populasi pada:\n",
    "\n",
    "<li>Usia</li>\n",
    "<li>Gender</li>\n",
    "<li>Total Price</li>\n",
    "<li>Unit Price</li>\n",
    "<li>Add-On Total</li>\n",
    "<li>Rating</li>\n"
   ]
  },
  {
   "cell_type": "code",
   "execution_count": null,
   "id": "2faf400b",
   "metadata": {},
   "outputs": [],
   "source": [
    "descriptive_stats = df[numeric_noID].describe()\n",
    "\n",
    "console = Console()\n",
    "descriptive_table = Table(\n",
    "    title=\"Tabel Statistik Deskriptif Data Numerik\",\n",
    "    title_style=\"bold yellow\",\n",
    "    show_lines=True,\n",
    ")\n",
    "descriptive_table.add_column(\"Statistics\", style=\"yellow bold\", justify=\"left\")\n",
    "for col in descriptive_stats.columns:\n",
    "    descriptive_table.add_column(col, style=\"white bold\", justify=\"center\")\n",
    "for idx, row in descriptive_stats.iterrows():\n",
    "    row_data = [idx] + [f\"{item:.2f}\" for item in row]\n",
    "    descriptive_table.add_row(*row_data)\n",
    "\n",
    "console.print(descriptive_table)"
   ]
  },
  {
   "cell_type": "markdown",
   "id": "5e77989f",
   "metadata": {},
   "source": [
    "# **Analisis Deskriptif Data Kuantitatif**\n"
   ]
  },
  {
   "cell_type": "code",
   "execution_count": null,
   "id": "2c586efd",
   "metadata": {},
   "outputs": [],
   "source": [
    "Console(width=terminal_width).rule(\n",
    "    \"[bold yellow]Deskripsi Data Kuantitatif berdasarkan Mean, Median, Standar Deviasi\"\n",
    ")\n",
    "\n",
    "for col in numeric_noID:\n",
    "    Console(width=terminal_width).rule(f\"[bold yellow]Analisis Data {col}\")\n",
    "    data_mean = df[col].mean()\n",
    "    data_median = df[col].median()\n",
    "    data_std = df[col].std()\n",
    "    # Berikan deskripsi berdasarkan hasil\n",
    "    if data_mean > data_median:\n",
    "        print(\n",
    "            f\"Rata-rata ({data_mean:.2f}) lebih besar dari median ({data_median:.2f}).\"\n",
    "        )\n",
    "        print(\n",
    "            \"Distribusi data mungkin miring ke kanan (right-skewed), seringkali karena adanya outlier / nilai besar.\"\n",
    "        )\n",
    "    elif data_mean < data_median:\n",
    "        print(\n",
    "            f\"Rata-rata ({data_mean:.2f}) lebih kecil dari median ({data_median:.2f}).\"\n",
    "        )\n",
    "        print(\"Distribusi data mungkin miring ke kiri (left-skewed).\")\n",
    "    else:\n",
    "        print(f\"Rata-rata dan median hampir sama ({data_mean:.2f}).\")\n",
    "        print(\"Distribusi data cenderung simetris.\")\n",
    "\n",
    "    if data_std > 100:\n",
    "        print(\n",
    "            f\"Standar deviasi besar ({data_std:.2f}) → variasi data tinggi, sebaran luas.\"\n",
    "        )\n",
    "    else:\n",
    "        print(\n",
    "            f\"Standar deviasi kecil ({data_std:.2f}) → data cenderung berkelompok di sekitar rata-rata.\"\n",
    "        )"
   ]
  },
  {
   "cell_type": "code",
   "execution_count": 28,
   "id": "822e07a7",
   "metadata": {},
   "outputs": [
    {
     "data": {
      "text/html": [
       "<pre style=\"white-space:pre;overflow-x:auto;line-height:normal;font-family:Menlo,'DejaVu Sans Mono',consolas,'Courier New',monospace\"><span style=\"color: #00ff00; text-decoration-color: #00ff00\">───────────────────────────── </span><span style=\"color: #808000; text-decoration-color: #808000; font-weight: bold\">Analisis Data Gender</span><span style=\"color: #00ff00; text-decoration-color: #00ff00\"> ─────────────────────────────</span>\n",
       "</pre>\n"
      ],
      "text/plain": [
       "\u001b[92m───────────────────────────── \u001b[0m\u001b[1;33mAnalisis Data Gender\u001b[0m\u001b[92m ─────────────────────────────\u001b[0m\n"
      ]
     },
     "metadata": {},
     "output_type": "display_data"
    },
    {
     "data": {
      "text/html": [
       "<pre style=\"white-space:pre;overflow-x:auto;line-height:normal;font-family:Menlo,'DejaVu Sans Mono',consolas,'Courier New',monospace\">Male: <span style=\"color: #008080; text-decoration-color: #008080; font-weight: bold\">10164</span> data <span style=\"font-weight: bold\">(</span><span style=\"color: #008080; text-decoration-color: #008080; font-weight: bold\">50.82</span>%<span style=\"font-weight: bold\">)</span>\n",
       "</pre>\n"
      ],
      "text/plain": [
       "Male: \u001b[1;36m10164\u001b[0m data \u001b[1m(\u001b[0m\u001b[1;36m50.82\u001b[0m%\u001b[1m)\u001b[0m\n"
      ]
     },
     "metadata": {},
     "output_type": "display_data"
    },
    {
     "data": {
      "text/html": [
       "<pre style=\"white-space:pre;overflow-x:auto;line-height:normal;font-family:Menlo,'DejaVu Sans Mono',consolas,'Courier New',monospace\">Female: <span style=\"color: #008080; text-decoration-color: #008080; font-weight: bold\">9836</span> data <span style=\"font-weight: bold\">(</span><span style=\"color: #008080; text-decoration-color: #008080; font-weight: bold\">49.18</span>%<span style=\"font-weight: bold\">)</span>\n",
       "</pre>\n"
      ],
      "text/plain": [
       "Female: \u001b[1;36m9836\u001b[0m data \u001b[1m(\u001b[0m\u001b[1;36m49.18\u001b[0m%\u001b[1m)\u001b[0m\n"
      ]
     },
     "metadata": {},
     "output_type": "display_data"
    },
    {
     "data": {
      "text/html": [
       "<pre style=\"white-space:pre;overflow-x:auto;line-height:normal;font-family:Menlo,'DejaVu Sans Mono',consolas,'Courier New',monospace\">Kategori <span style=\"color: #008000; text-decoration-color: #008000\">'Male'</span> cukup dominan <span style=\"font-weight: bold\">(</span><span style=\"color: #008080; text-decoration-color: #008080; font-weight: bold\">50.82</span>%<span style=\"font-weight: bold\">)</span>.\n",
       "</pre>\n"
      ],
      "text/plain": [
       "Kategori \u001b[32m'Male'\u001b[0m cukup dominan \u001b[1m(\u001b[0m\u001b[1;36m50.82\u001b[0m%\u001b[1m)\u001b[0m.\n"
      ]
     },
     "metadata": {},
     "output_type": "display_data"
    },
    {
     "data": {
      "text/html": [
       "<pre style=\"white-space:pre;overflow-x:auto;line-height:normal;font-family:Menlo,'DejaVu Sans Mono',consolas,'Courier New',monospace\"><span style=\"color: #00ff00; text-decoration-color: #00ff00\">───────────────────────── </span><span style=\"color: #808000; text-decoration-color: #808000; font-weight: bold\">Analisis Data Loyalty Member</span><span style=\"color: #00ff00; text-decoration-color: #00ff00\"> ─────────────────────────</span>\n",
       "</pre>\n"
      ],
      "text/plain": [
       "\u001b[92m───────────────────────── \u001b[0m\u001b[1;33mAnalisis Data Loyalty Member\u001b[0m\u001b[92m ─────────────────────────\u001b[0m\n"
      ]
     },
     "metadata": {},
     "output_type": "display_data"
    },
    {
     "data": {
      "text/html": [
       "<pre style=\"white-space:pre;overflow-x:auto;line-height:normal;font-family:Menlo,'DejaVu Sans Mono',consolas,'Courier New',monospace\">No: <span style=\"color: #008080; text-decoration-color: #008080; font-weight: bold\">15657</span> data <span style=\"font-weight: bold\">(</span><span style=\"color: #008080; text-decoration-color: #008080; font-weight: bold\">78.29</span>%<span style=\"font-weight: bold\">)</span>\n",
       "</pre>\n"
      ],
      "text/plain": [
       "No: \u001b[1;36m15657\u001b[0m data \u001b[1m(\u001b[0m\u001b[1;36m78.29\u001b[0m%\u001b[1m)\u001b[0m\n"
      ]
     },
     "metadata": {},
     "output_type": "display_data"
    },
    {
     "data": {
      "text/html": [
       "<pre style=\"white-space:pre;overflow-x:auto;line-height:normal;font-family:Menlo,'DejaVu Sans Mono',consolas,'Courier New',monospace\">Yes: <span style=\"color: #008080; text-decoration-color: #008080; font-weight: bold\">4343</span> data <span style=\"font-weight: bold\">(</span><span style=\"color: #008080; text-decoration-color: #008080; font-weight: bold\">21.72</span>%<span style=\"font-weight: bold\">)</span>\n",
       "</pre>\n"
      ],
      "text/plain": [
       "Yes: \u001b[1;36m4343\u001b[0m data \u001b[1m(\u001b[0m\u001b[1;36m21.72\u001b[0m%\u001b[1m)\u001b[0m\n"
      ]
     },
     "metadata": {},
     "output_type": "display_data"
    },
    {
     "data": {
      "text/html": [
       "<pre style=\"white-space:pre;overflow-x:auto;line-height:normal;font-family:Menlo,'DejaVu Sans Mono',consolas,'Courier New',monospace\">Kategori <span style=\"color: #008000; text-decoration-color: #008000\">'No'</span> sangat dominan <span style=\"font-weight: bold\">(</span><span style=\"color: #008080; text-decoration-color: #008080; font-weight: bold\">78.29</span>%<span style=\"font-weight: bold\">)</span>.\n",
       "</pre>\n"
      ],
      "text/plain": [
       "Kategori \u001b[32m'No'\u001b[0m sangat dominan \u001b[1m(\u001b[0m\u001b[1;36m78.29\u001b[0m%\u001b[1m)\u001b[0m.\n"
      ]
     },
     "metadata": {},
     "output_type": "display_data"
    },
    {
     "data": {
      "text/html": [
       "<pre style=\"white-space:pre;overflow-x:auto;line-height:normal;font-family:Menlo,'DejaVu Sans Mono',consolas,'Courier New',monospace\"><span style=\"color: #00ff00; text-decoration-color: #00ff00\">────────────────────────── </span><span style=\"color: #808000; text-decoration-color: #808000; font-weight: bold\">Analisis Data Product Type</span><span style=\"color: #00ff00; text-decoration-color: #00ff00\"> ──────────────────────────</span>\n",
       "</pre>\n"
      ],
      "text/plain": [
       "\u001b[92m────────────────────────── \u001b[0m\u001b[1;33mAnalisis Data Product Type\u001b[0m\u001b[92m ──────────────────────────\u001b[0m\n"
      ]
     },
     "metadata": {},
     "output_type": "display_data"
    },
    {
     "data": {
      "text/html": [
       "<pre style=\"white-space:pre;overflow-x:auto;line-height:normal;font-family:Menlo,'DejaVu Sans Mono',consolas,'Courier New',monospace\">Smartphone: <span style=\"color: #008080; text-decoration-color: #008080; font-weight: bold\">5978</span> data <span style=\"font-weight: bold\">(</span><span style=\"color: #008080; text-decoration-color: #008080; font-weight: bold\">29.89</span>%<span style=\"font-weight: bold\">)</span>\n",
       "</pre>\n"
      ],
      "text/plain": [
       "Smartphone: \u001b[1;36m5978\u001b[0m data \u001b[1m(\u001b[0m\u001b[1;36m29.89\u001b[0m%\u001b[1m)\u001b[0m\n"
      ]
     },
     "metadata": {},
     "output_type": "display_data"
    },
    {
     "data": {
      "text/html": [
       "<pre style=\"white-space:pre;overflow-x:auto;line-height:normal;font-family:Menlo,'DejaVu Sans Mono',consolas,'Courier New',monospace\">Tablet: <span style=\"color: #008080; text-decoration-color: #008080; font-weight: bold\">4104</span> data <span style=\"font-weight: bold\">(</span><span style=\"color: #008080; text-decoration-color: #008080; font-weight: bold\">20.52</span>%<span style=\"font-weight: bold\">)</span>\n",
       "</pre>\n"
      ],
      "text/plain": [
       "Tablet: \u001b[1;36m4104\u001b[0m data \u001b[1m(\u001b[0m\u001b[1;36m20.52\u001b[0m%\u001b[1m)\u001b[0m\n"
      ]
     },
     "metadata": {},
     "output_type": "display_data"
    },
    {
     "data": {
      "text/html": [
       "<pre style=\"white-space:pre;overflow-x:auto;line-height:normal;font-family:Menlo,'DejaVu Sans Mono',consolas,'Courier New',monospace\">Laptop: <span style=\"color: #008080; text-decoration-color: #008080; font-weight: bold\">3973</span> data <span style=\"font-weight: bold\">(</span><span style=\"color: #008080; text-decoration-color: #008080; font-weight: bold\">19.86</span>%<span style=\"font-weight: bold\">)</span>\n",
       "</pre>\n"
      ],
      "text/plain": [
       "Laptop: \u001b[1;36m3973\u001b[0m data \u001b[1m(\u001b[0m\u001b[1;36m19.86\u001b[0m%\u001b[1m)\u001b[0m\n"
      ]
     },
     "metadata": {},
     "output_type": "display_data"
    },
    {
     "data": {
      "text/html": [
       "<pre style=\"white-space:pre;overflow-x:auto;line-height:normal;font-family:Menlo,'DejaVu Sans Mono',consolas,'Courier New',monospace\">Smartwatch: <span style=\"color: #008080; text-decoration-color: #008080; font-weight: bold\">3934</span> data <span style=\"font-weight: bold\">(</span><span style=\"color: #008080; text-decoration-color: #008080; font-weight: bold\">19.67</span>%<span style=\"font-weight: bold\">)</span>\n",
       "</pre>\n"
      ],
      "text/plain": [
       "Smartwatch: \u001b[1;36m3934\u001b[0m data \u001b[1m(\u001b[0m\u001b[1;36m19.67\u001b[0m%\u001b[1m)\u001b[0m\n"
      ]
     },
     "metadata": {},
     "output_type": "display_data"
    },
    {
     "data": {
      "text/html": [
       "<pre style=\"white-space:pre;overflow-x:auto;line-height:normal;font-family:Menlo,'DejaVu Sans Mono',consolas,'Courier New',monospace\">Headphones: <span style=\"color: #008080; text-decoration-color: #008080; font-weight: bold\">2011</span> data <span style=\"font-weight: bold\">(</span><span style=\"color: #008080; text-decoration-color: #008080; font-weight: bold\">10.06</span>%<span style=\"font-weight: bold\">)</span>\n",
       "</pre>\n"
      ],
      "text/plain": [
       "Headphones: \u001b[1;36m2011\u001b[0m data \u001b[1m(\u001b[0m\u001b[1;36m10.06\u001b[0m%\u001b[1m)\u001b[0m\n"
      ]
     },
     "metadata": {},
     "output_type": "display_data"
    },
    {
     "data": {
      "text/html": [
       "<pre style=\"white-space:pre;overflow-x:auto;line-height:normal;font-family:Menlo,'DejaVu Sans Mono',consolas,'Courier New',monospace\">Distribusi kategori relatif merata, tidak ada yang terlalu dominan.\n",
       "</pre>\n"
      ],
      "text/plain": [
       "Distribusi kategori relatif merata, tidak ada yang terlalu dominan.\n"
      ]
     },
     "metadata": {},
     "output_type": "display_data"
    },
    {
     "data": {
      "text/html": [
       "<pre style=\"white-space:pre;overflow-x:auto;line-height:normal;font-family:Menlo,'DejaVu Sans Mono',consolas,'Courier New',monospace\"><span style=\"color: #00ff00; text-decoration-color: #00ff00\">────────────────────────── </span><span style=\"color: #808000; text-decoration-color: #808000; font-weight: bold\">Analisis Data Order Status</span><span style=\"color: #00ff00; text-decoration-color: #00ff00\"> ──────────────────────────</span>\n",
       "</pre>\n"
      ],
      "text/plain": [
       "\u001b[92m────────────────────────── \u001b[0m\u001b[1;33mAnalisis Data Order Status\u001b[0m\u001b[92m ──────────────────────────\u001b[0m\n"
      ]
     },
     "metadata": {},
     "output_type": "display_data"
    },
    {
     "data": {
      "text/html": [
       "<pre style=\"white-space:pre;overflow-x:auto;line-height:normal;font-family:Menlo,'DejaVu Sans Mono',consolas,'Courier New',monospace\">Completed: <span style=\"color: #008080; text-decoration-color: #008080; font-weight: bold\">13432</span> data <span style=\"font-weight: bold\">(</span><span style=\"color: #008080; text-decoration-color: #008080; font-weight: bold\">67.16</span>%<span style=\"font-weight: bold\">)</span>\n",
       "</pre>\n"
      ],
      "text/plain": [
       "Completed: \u001b[1;36m13432\u001b[0m data \u001b[1m(\u001b[0m\u001b[1;36m67.16\u001b[0m%\u001b[1m)\u001b[0m\n"
      ]
     },
     "metadata": {},
     "output_type": "display_data"
    },
    {
     "data": {
      "text/html": [
       "<pre style=\"white-space:pre;overflow-x:auto;line-height:normal;font-family:Menlo,'DejaVu Sans Mono',consolas,'Courier New',monospace\">Cancelled: <span style=\"color: #008080; text-decoration-color: #008080; font-weight: bold\">6568</span> data <span style=\"font-weight: bold\">(</span><span style=\"color: #008080; text-decoration-color: #008080; font-weight: bold\">32.84</span>%<span style=\"font-weight: bold\">)</span>\n",
       "</pre>\n"
      ],
      "text/plain": [
       "Cancelled: \u001b[1;36m6568\u001b[0m data \u001b[1m(\u001b[0m\u001b[1;36m32.84\u001b[0m%\u001b[1m)\u001b[0m\n"
      ]
     },
     "metadata": {},
     "output_type": "display_data"
    },
    {
     "data": {
      "text/html": [
       "<pre style=\"white-space:pre;overflow-x:auto;line-height:normal;font-family:Menlo,'DejaVu Sans Mono',consolas,'Courier New',monospace\">Kategori <span style=\"color: #008000; text-decoration-color: #008000\">'Completed'</span> cukup dominan <span style=\"font-weight: bold\">(</span><span style=\"color: #008080; text-decoration-color: #008080; font-weight: bold\">67.16</span>%<span style=\"font-weight: bold\">)</span>.\n",
       "</pre>\n"
      ],
      "text/plain": [
       "Kategori \u001b[32m'Completed'\u001b[0m cukup dominan \u001b[1m(\u001b[0m\u001b[1;36m67.16\u001b[0m%\u001b[1m)\u001b[0m.\n"
      ]
     },
     "metadata": {},
     "output_type": "display_data"
    },
    {
     "data": {
      "text/html": [
       "<pre style=\"white-space:pre;overflow-x:auto;line-height:normal;font-family:Menlo,'DejaVu Sans Mono',consolas,'Courier New',monospace\"><span style=\"color: #00ff00; text-decoration-color: #00ff00\">───────────────────────── </span><span style=\"color: #808000; text-decoration-color: #808000; font-weight: bold\">Analisis Data Payment Method</span><span style=\"color: #00ff00; text-decoration-color: #00ff00\"> ─────────────────────────</span>\n",
       "</pre>\n"
      ],
      "text/plain": [
       "\u001b[92m───────────────────────── \u001b[0m\u001b[1;33mAnalisis Data Payment Method\u001b[0m\u001b[92m ─────────────────────────\u001b[0m\n"
      ]
     },
     "metadata": {},
     "output_type": "display_data"
    },
    {
     "data": {
      "text/html": [
       "<pre style=\"white-space:pre;overflow-x:auto;line-height:normal;font-family:Menlo,'DejaVu Sans Mono',consolas,'Courier New',monospace\">Credit Card: <span style=\"color: #008080; text-decoration-color: #008080; font-weight: bold\">5868</span> data <span style=\"font-weight: bold\">(</span><span style=\"color: #008080; text-decoration-color: #008080; font-weight: bold\">29.34</span>%<span style=\"font-weight: bold\">)</span>\n",
       "</pre>\n"
      ],
      "text/plain": [
       "Credit Card: \u001b[1;36m5868\u001b[0m data \u001b[1m(\u001b[0m\u001b[1;36m29.34\u001b[0m%\u001b[1m)\u001b[0m\n"
      ]
     },
     "metadata": {},
     "output_type": "display_data"
    },
    {
     "data": {
      "text/html": [
       "<pre style=\"white-space:pre;overflow-x:auto;line-height:normal;font-family:Menlo,'DejaVu Sans Mono',consolas,'Courier New',monospace\">Bank Transfer: <span style=\"color: #008080; text-decoration-color: #008080; font-weight: bold\">3371</span> data <span style=\"font-weight: bold\">(</span><span style=\"color: #008080; text-decoration-color: #008080; font-weight: bold\">16.86</span>%<span style=\"font-weight: bold\">)</span>\n",
       "</pre>\n"
      ],
      "text/plain": [
       "Bank Transfer: \u001b[1;36m3371\u001b[0m data \u001b[1m(\u001b[0m\u001b[1;36m16.86\u001b[0m%\u001b[1m)\u001b[0m\n"
      ]
     },
     "metadata": {},
     "output_type": "display_data"
    },
    {
     "data": {
      "text/html": [
       "<pre style=\"white-space:pre;overflow-x:auto;line-height:normal;font-family:Menlo,'DejaVu Sans Mono',consolas,'Courier New',monospace\">PayPal: <span style=\"color: #008080; text-decoration-color: #008080; font-weight: bold\">3284</span> data <span style=\"font-weight: bold\">(</span><span style=\"color: #008080; text-decoration-color: #008080; font-weight: bold\">16.42</span>%<span style=\"font-weight: bold\">)</span>\n",
       "</pre>\n"
      ],
      "text/plain": [
       "PayPal: \u001b[1;36m3284\u001b[0m data \u001b[1m(\u001b[0m\u001b[1;36m16.42\u001b[0m%\u001b[1m)\u001b[0m\n"
      ]
     },
     "metadata": {},
     "output_type": "display_data"
    },
    {
     "data": {
      "text/html": [
       "<pre style=\"white-space:pre;overflow-x:auto;line-height:normal;font-family:Menlo,'DejaVu Sans Mono',consolas,'Courier New',monospace\">Paypal: <span style=\"color: #008080; text-decoration-color: #008080; font-weight: bold\">2514</span> data <span style=\"font-weight: bold\">(</span><span style=\"color: #008080; text-decoration-color: #008080; font-weight: bold\">12.57</span>%<span style=\"font-weight: bold\">)</span>\n",
       "</pre>\n"
      ],
      "text/plain": [
       "Paypal: \u001b[1;36m2514\u001b[0m data \u001b[1m(\u001b[0m\u001b[1;36m12.57\u001b[0m%\u001b[1m)\u001b[0m\n"
      ]
     },
     "metadata": {},
     "output_type": "display_data"
    },
    {
     "data": {
      "text/html": [
       "<pre style=\"white-space:pre;overflow-x:auto;line-height:normal;font-family:Menlo,'DejaVu Sans Mono',consolas,'Courier New',monospace\">Cash: <span style=\"color: #008080; text-decoration-color: #008080; font-weight: bold\">2492</span> data <span style=\"font-weight: bold\">(</span><span style=\"color: #008080; text-decoration-color: #008080; font-weight: bold\">12.46</span>%<span style=\"font-weight: bold\">)</span>\n",
       "</pre>\n"
      ],
      "text/plain": [
       "Cash: \u001b[1;36m2492\u001b[0m data \u001b[1m(\u001b[0m\u001b[1;36m12.46\u001b[0m%\u001b[1m)\u001b[0m\n"
      ]
     },
     "metadata": {},
     "output_type": "display_data"
    },
    {
     "data": {
      "text/html": [
       "<pre style=\"white-space:pre;overflow-x:auto;line-height:normal;font-family:Menlo,'DejaVu Sans Mono',consolas,'Courier New',monospace\">Debit Card: <span style=\"color: #008080; text-decoration-color: #008080; font-weight: bold\">2471</span> data <span style=\"font-weight: bold\">(</span><span style=\"color: #008080; text-decoration-color: #008080; font-weight: bold\">12.35</span>%<span style=\"font-weight: bold\">)</span>\n",
       "</pre>\n"
      ],
      "text/plain": [
       "Debit Card: \u001b[1;36m2471\u001b[0m data \u001b[1m(\u001b[0m\u001b[1;36m12.35\u001b[0m%\u001b[1m)\u001b[0m\n"
      ]
     },
     "metadata": {},
     "output_type": "display_data"
    },
    {
     "data": {
      "text/html": [
       "<pre style=\"white-space:pre;overflow-x:auto;line-height:normal;font-family:Menlo,'DejaVu Sans Mono',consolas,'Courier New',monospace\">Distribusi kategori relatif merata, tidak ada yang terlalu dominan.\n",
       "</pre>\n"
      ],
      "text/plain": [
       "Distribusi kategori relatif merata, tidak ada yang terlalu dominan.\n"
      ]
     },
     "metadata": {},
     "output_type": "display_data"
    },
    {
     "data": {
      "text/html": [
       "<pre style=\"white-space:pre;overflow-x:auto;line-height:normal;font-family:Menlo,'DejaVu Sans Mono',consolas,'Courier New',monospace\"><span style=\"color: #00ff00; text-decoration-color: #00ff00\">───────────────────────── </span><span style=\"color: #808000; text-decoration-color: #808000; font-weight: bold\">Analisis Data Shipping Type</span><span style=\"color: #00ff00; text-decoration-color: #00ff00\"> ──────────────────────────</span>\n",
       "</pre>\n"
      ],
      "text/plain": [
       "\u001b[92m───────────────────────── \u001b[0m\u001b[1;33mAnalisis Data Shipping Type\u001b[0m\u001b[92m ──────────────────────────\u001b[0m\n"
      ]
     },
     "metadata": {},
     "output_type": "display_data"
    },
    {
     "data": {
      "text/html": [
       "<pre style=\"white-space:pre;overflow-x:auto;line-height:normal;font-family:Menlo,'DejaVu Sans Mono',consolas,'Courier New',monospace\">Standard: <span style=\"color: #008080; text-decoration-color: #008080; font-weight: bold\">6725</span> data <span style=\"font-weight: bold\">(</span><span style=\"color: #008080; text-decoration-color: #008080; font-weight: bold\">33.62</span>%<span style=\"font-weight: bold\">)</span>\n",
       "</pre>\n"
      ],
      "text/plain": [
       "Standard: \u001b[1;36m6725\u001b[0m data \u001b[1m(\u001b[0m\u001b[1;36m33.62\u001b[0m%\u001b[1m)\u001b[0m\n"
      ]
     },
     "metadata": {},
     "output_type": "display_data"
    },
    {
     "data": {
      "text/html": [
       "<pre style=\"white-space:pre;overflow-x:auto;line-height:normal;font-family:Menlo,'DejaVu Sans Mono',consolas,'Courier New',monospace\">Express: <span style=\"color: #008080; text-decoration-color: #008080; font-weight: bold\">3366</span> data <span style=\"font-weight: bold\">(</span><span style=\"color: #008080; text-decoration-color: #008080; font-weight: bold\">16.83</span>%<span style=\"font-weight: bold\">)</span>\n",
       "</pre>\n"
      ],
      "text/plain": [
       "Express: \u001b[1;36m3366\u001b[0m data \u001b[1m(\u001b[0m\u001b[1;36m16.83\u001b[0m%\u001b[1m)\u001b[0m\n"
      ]
     },
     "metadata": {},
     "output_type": "display_data"
    },
    {
     "data": {
      "text/html": [
       "<pre style=\"white-space:pre;overflow-x:auto;line-height:normal;font-family:Menlo,'DejaVu Sans Mono',consolas,'Courier New',monospace\">Overnight: <span style=\"color: #008080; text-decoration-color: #008080; font-weight: bold\">3357</span> data <span style=\"font-weight: bold\">(</span><span style=\"color: #008080; text-decoration-color: #008080; font-weight: bold\">16.78</span>%<span style=\"font-weight: bold\">)</span>\n",
       "</pre>\n"
      ],
      "text/plain": [
       "Overnight: \u001b[1;36m3357\u001b[0m data \u001b[1m(\u001b[0m\u001b[1;36m16.78\u001b[0m%\u001b[1m)\u001b[0m\n"
      ]
     },
     "metadata": {},
     "output_type": "display_data"
    },
    {
     "data": {
      "text/html": [
       "<pre style=\"white-space:pre;overflow-x:auto;line-height:normal;font-family:Menlo,'DejaVu Sans Mono',consolas,'Courier New',monospace\">Same Day: <span style=\"color: #008080; text-decoration-color: #008080; font-weight: bold\">3280</span> data <span style=\"font-weight: bold\">(</span><span style=\"color: #008080; text-decoration-color: #008080; font-weight: bold\">16.4</span>%<span style=\"font-weight: bold\">)</span>\n",
       "</pre>\n"
      ],
      "text/plain": [
       "Same Day: \u001b[1;36m3280\u001b[0m data \u001b[1m(\u001b[0m\u001b[1;36m16.4\u001b[0m%\u001b[1m)\u001b[0m\n"
      ]
     },
     "metadata": {},
     "output_type": "display_data"
    },
    {
     "data": {
      "text/html": [
       "<pre style=\"white-space:pre;overflow-x:auto;line-height:normal;font-family:Menlo,'DejaVu Sans Mono',consolas,'Courier New',monospace\">Expedited: <span style=\"color: #008080; text-decoration-color: #008080; font-weight: bold\">3272</span> data <span style=\"font-weight: bold\">(</span><span style=\"color: #008080; text-decoration-color: #008080; font-weight: bold\">16.36</span>%<span style=\"font-weight: bold\">)</span>\n",
       "</pre>\n"
      ],
      "text/plain": [
       "Expedited: \u001b[1;36m3272\u001b[0m data \u001b[1m(\u001b[0m\u001b[1;36m16.36\u001b[0m%\u001b[1m)\u001b[0m\n"
      ]
     },
     "metadata": {},
     "output_type": "display_data"
    },
    {
     "data": {
      "text/html": [
       "<pre style=\"white-space:pre;overflow-x:auto;line-height:normal;font-family:Menlo,'DejaVu Sans Mono',consolas,'Courier New',monospace\">Distribusi kategori relatif merata, tidak ada yang terlalu dominan.\n",
       "</pre>\n"
      ],
      "text/plain": [
       "Distribusi kategori relatif merata, tidak ada yang terlalu dominan.\n"
      ]
     },
     "metadata": {},
     "output_type": "display_data"
    },
    {
     "data": {
      "text/html": [
       "<pre style=\"white-space:pre;overflow-x:auto;line-height:normal;font-family:Menlo,'DejaVu Sans Mono',consolas,'Courier New',monospace\"><span style=\"color: #00ff00; text-decoration-color: #00ff00\">─────────────────────────── </span><span style=\"color: #808000; text-decoration-color: #808000; font-weight: bold\">Analisis Data Age_Group</span><span style=\"color: #00ff00; text-decoration-color: #00ff00\"> ────────────────────────────</span>\n",
       "</pre>\n"
      ],
      "text/plain": [
       "\u001b[92m─────────────────────────── \u001b[0m\u001b[1;33mAnalisis Data Age_Group\u001b[0m\u001b[92m ────────────────────────────\u001b[0m\n"
      ]
     },
     "metadata": {},
     "output_type": "display_data"
    },
    {
     "data": {
      "text/html": [
       "<pre style=\"white-space:pre;overflow-x:auto;line-height:normal;font-family:Menlo,'DejaVu Sans Mono',consolas,'Courier New',monospace\"><span style=\"color: #008080; text-decoration-color: #008080; font-weight: bold\">60</span>+ <span style=\"font-weight: bold\">(</span>Senior<span style=\"font-weight: bold\">)</span>: <span style=\"color: #008080; text-decoration-color: #008080; font-weight: bold\">6644</span> data <span style=\"font-weight: bold\">(</span><span style=\"color: #008080; text-decoration-color: #008080; font-weight: bold\">33.22</span>%<span style=\"font-weight: bold\">)</span>\n",
       "</pre>\n"
      ],
      "text/plain": [
       "\u001b[1;36m60\u001b[0m+ \u001b[1m(\u001b[0mSenior\u001b[1m)\u001b[0m: \u001b[1;36m6644\u001b[0m data \u001b[1m(\u001b[0m\u001b[1;36m33.22\u001b[0m%\u001b[1m)\u001b[0m\n"
      ]
     },
     "metadata": {},
     "output_type": "display_data"
    },
    {
     "data": {
      "text/html": [
       "<pre style=\"white-space:pre;overflow-x:auto;line-height:normal;font-family:Menlo,'DejaVu Sans Mono',consolas,'Courier New',monospace\"><span style=\"color: #008080; text-decoration-color: #008080; font-weight: bold\">45</span>-<span style=\"color: #008080; text-decoration-color: #008080; font-weight: bold\">59</span> <span style=\"font-weight: bold\">(</span>Pre Senior<span style=\"font-weight: bold\">)</span>: <span style=\"color: #008080; text-decoration-color: #008080; font-weight: bold\">4742</span> data <span style=\"font-weight: bold\">(</span><span style=\"color: #008080; text-decoration-color: #008080; font-weight: bold\">23.71</span>%<span style=\"font-weight: bold\">)</span>\n",
       "</pre>\n"
      ],
      "text/plain": [
       "\u001b[1;36m45\u001b[0m-\u001b[1;36m59\u001b[0m \u001b[1m(\u001b[0mPre Senior\u001b[1m)\u001b[0m: \u001b[1;36m4742\u001b[0m data \u001b[1m(\u001b[0m\u001b[1;36m23.71\u001b[0m%\u001b[1m)\u001b[0m\n"
      ]
     },
     "metadata": {},
     "output_type": "display_data"
    },
    {
     "data": {
      "text/html": [
       "<pre style=\"white-space:pre;overflow-x:auto;line-height:normal;font-family:Menlo,'DejaVu Sans Mono',consolas,'Courier New',monospace\"><span style=\"color: #008080; text-decoration-color: #008080; font-weight: bold\">31</span>-<span style=\"color: #008080; text-decoration-color: #008080; font-weight: bold\">44</span> <span style=\"font-weight: bold\">(</span>Middle Age<span style=\"font-weight: bold\">)</span>: <span style=\"color: #008080; text-decoration-color: #008080; font-weight: bold\">4545</span> data <span style=\"font-weight: bold\">(</span><span style=\"color: #008080; text-decoration-color: #008080; font-weight: bold\">22.72</span>%<span style=\"font-weight: bold\">)</span>\n",
       "</pre>\n"
      ],
      "text/plain": [
       "\u001b[1;36m31\u001b[0m-\u001b[1;36m44\u001b[0m \u001b[1m(\u001b[0mMiddle Age\u001b[1m)\u001b[0m: \u001b[1;36m4545\u001b[0m data \u001b[1m(\u001b[0m\u001b[1;36m22.72\u001b[0m%\u001b[1m)\u001b[0m\n"
      ]
     },
     "metadata": {},
     "output_type": "display_data"
    },
    {
     "data": {
      "text/html": [
       "<pre style=\"white-space:pre;overflow-x:auto;line-height:normal;font-family:Menlo,'DejaVu Sans Mono',consolas,'Courier New',monospace\"><span style=\"color: #008080; text-decoration-color: #008080; font-weight: bold\">18</span>-<span style=\"color: #008080; text-decoration-color: #008080; font-weight: bold\">30</span> <span style=\"font-weight: bold\">(</span>Young Adult<span style=\"font-weight: bold\">)</span>: <span style=\"color: #008080; text-decoration-color: #008080; font-weight: bold\">4069</span> data <span style=\"font-weight: bold\">(</span><span style=\"color: #008080; text-decoration-color: #008080; font-weight: bold\">20.34</span>%<span style=\"font-weight: bold\">)</span>\n",
       "</pre>\n"
      ],
      "text/plain": [
       "\u001b[1;36m18\u001b[0m-\u001b[1;36m30\u001b[0m \u001b[1m(\u001b[0mYoung Adult\u001b[1m)\u001b[0m: \u001b[1;36m4069\u001b[0m data \u001b[1m(\u001b[0m\u001b[1;36m20.34\u001b[0m%\u001b[1m)\u001b[0m\n"
      ]
     },
     "metadata": {},
     "output_type": "display_data"
    },
    {
     "data": {
      "text/html": [
       "<pre style=\"white-space:pre;overflow-x:auto;line-height:normal;font-family:Menlo,'DejaVu Sans Mono',consolas,'Courier New',monospace\">Distribusi kategori relatif merata, tidak ada yang terlalu dominan.\n",
       "</pre>\n"
      ],
      "text/plain": [
       "Distribusi kategori relatif merata, tidak ada yang terlalu dominan.\n"
      ]
     },
     "metadata": {},
     "output_type": "display_data"
    },
    {
     "data": {
      "text/html": [
       "<pre style=\"white-space:pre;overflow-x:auto;line-height:normal;font-family:Menlo,'DejaVu Sans Mono',consolas,'Courier New',monospace\"><span style=\"color: #00ff00; text-decoration-color: #00ff00\">─────────────────────── </span><span style=\"color: #808000; text-decoration-color: #808000; font-weight: bold\">Analisis Data Spending_Category</span><span style=\"color: #00ff00; text-decoration-color: #00ff00\"> ────────────────────────</span>\n",
       "</pre>\n"
      ],
      "text/plain": [
       "\u001b[92m─────────────────────── \u001b[0m\u001b[1;33mAnalisis Data Spending_Category\u001b[0m\u001b[92m ────────────────────────\u001b[0m\n"
      ]
     },
     "metadata": {},
     "output_type": "display_data"
    },
    {
     "data": {
      "text/html": [
       "<pre style=\"white-space:pre;overflow-x:auto;line-height:normal;font-family:Menlo,'DejaVu Sans Mono',consolas,'Courier New',monospace\">Medium Spender <span style=\"font-weight: bold\">(</span><span style=\"color: #008080; text-decoration-color: #008080; font-weight: bold\">100</span>-$5k<span style=\"font-weight: bold\">)</span>: <span style=\"color: #008080; text-decoration-color: #008080; font-weight: bold\">12568</span> data <span style=\"font-weight: bold\">(</span><span style=\"color: #008080; text-decoration-color: #008080; font-weight: bold\">62.84</span>%<span style=\"font-weight: bold\">)</span>\n",
       "</pre>\n"
      ],
      "text/plain": [
       "Medium Spender \u001b[1m(\u001b[0m\u001b[1;36m100\u001b[0m-$5k\u001b[1m)\u001b[0m: \u001b[1;36m12568\u001b[0m data \u001b[1m(\u001b[0m\u001b[1;36m62.84\u001b[0m%\u001b[1m)\u001b[0m\n"
      ]
     },
     "metadata": {},
     "output_type": "display_data"
    },
    {
     "data": {
      "text/html": [
       "<pre style=\"white-space:pre;overflow-x:auto;line-height:normal;font-family:Menlo,'DejaVu Sans Mono',consolas,'Courier New',monospace\">High Spender <span style=\"font-weight: bold\">(</span>$5k-$10k<span style=\"font-weight: bold\">)</span>: <span style=\"color: #008080; text-decoration-color: #008080; font-weight: bold\">4036</span> data <span style=\"font-weight: bold\">(</span><span style=\"color: #008080; text-decoration-color: #008080; font-weight: bold\">20.18</span>%<span style=\"font-weight: bold\">)</span>\n",
       "</pre>\n"
      ],
      "text/plain": [
       "High Spender \u001b[1m(\u001b[0m$5k-$10k\u001b[1m)\u001b[0m: \u001b[1;36m4036\u001b[0m data \u001b[1m(\u001b[0m\u001b[1;36m20.18\u001b[0m%\u001b[1m)\u001b[0m\n"
      ]
     },
     "metadata": {},
     "output_type": "display_data"
    },
    {
     "data": {
      "text/html": [
       "<pre style=\"white-space:pre;overflow-x:auto;line-height:normal;font-family:Menlo,'DejaVu Sans Mono',consolas,'Courier New',monospace\">Low Spender <span style=\"font-weight: bold\">(</span><span style=\"color: #008080; text-decoration-color: #008080; font-weight: bold\">0</span>-$<span style=\"color: #008080; text-decoration-color: #008080; font-weight: bold\">500</span><span style=\"font-weight: bold\">)</span>: <span style=\"color: #008080; text-decoration-color: #008080; font-weight: bold\">3013</span> data <span style=\"font-weight: bold\">(</span><span style=\"color: #008080; text-decoration-color: #008080; font-weight: bold\">15.07</span>%<span style=\"font-weight: bold\">)</span>\n",
       "</pre>\n"
      ],
      "text/plain": [
       "Low Spender \u001b[1m(\u001b[0m\u001b[1;36m0\u001b[0m-$\u001b[1;36m500\u001b[0m\u001b[1m)\u001b[0m: \u001b[1;36m3013\u001b[0m data \u001b[1m(\u001b[0m\u001b[1;36m15.07\u001b[0m%\u001b[1m)\u001b[0m\n"
      ]
     },
     "metadata": {},
     "output_type": "display_data"
    },
    {
     "data": {
      "text/html": [
       "<pre style=\"white-space:pre;overflow-x:auto;line-height:normal;font-family:Menlo,'DejaVu Sans Mono',consolas,'Courier New',monospace\">Luxury Spender <span style=\"font-weight: bold\">(</span>$10k+<span style=\"font-weight: bold\">)</span>: <span style=\"color: #008080; text-decoration-color: #008080; font-weight: bold\">383</span> data <span style=\"font-weight: bold\">(</span><span style=\"color: #008080; text-decoration-color: #008080; font-weight: bold\">1.92</span>%<span style=\"font-weight: bold\">)</span>\n",
       "</pre>\n"
      ],
      "text/plain": [
       "Luxury Spender \u001b[1m(\u001b[0m$10k+\u001b[1m)\u001b[0m: \u001b[1;36m383\u001b[0m data \u001b[1m(\u001b[0m\u001b[1;36m1.92\u001b[0m%\u001b[1m)\u001b[0m\n"
      ]
     },
     "metadata": {},
     "output_type": "display_data"
    },
    {
     "data": {
      "text/html": [
       "<pre style=\"white-space:pre;overflow-x:auto;line-height:normal;font-family:Menlo,'DejaVu Sans Mono',consolas,'Courier New',monospace\">Kategori <span style=\"color: #008000; text-decoration-color: #008000\">'Medium Spender (100-$5k)'</span> cukup dominan <span style=\"font-weight: bold\">(</span><span style=\"color: #008080; text-decoration-color: #008080; font-weight: bold\">62.84</span>%<span style=\"font-weight: bold\">)</span>.\n",
       "</pre>\n"
      ],
      "text/plain": [
       "Kategori \u001b[32m'Medium Spender \u001b[0m\u001b[32m(\u001b[0m\u001b[32m100-$5k\u001b[0m\u001b[32m)\u001b[0m\u001b[32m'\u001b[0m cukup dominan \u001b[1m(\u001b[0m\u001b[1;36m62.84\u001b[0m%\u001b[1m)\u001b[0m.\n"
      ]
     },
     "metadata": {},
     "output_type": "display_data"
    },
    {
     "data": {
      "text/html": [
       "<pre style=\"white-space:pre;overflow-x:auto;line-height:normal;font-family:Menlo,'DejaVu Sans Mono',consolas,'Courier New',monospace\"><span style=\"color: #00ff00; text-decoration-color: #00ff00\">────────────────────── </span><span style=\"color: #808000; text-decoration-color: #808000; font-weight: bold\">Analisis Data Item_Price_Category</span><span style=\"color: #00ff00; text-decoration-color: #00ff00\"> ───────────────────────</span>\n",
       "</pre>\n"
      ],
      "text/plain": [
       "\u001b[92m────────────────────── \u001b[0m\u001b[1;33mAnalisis Data Item_Price_Category\u001b[0m\u001b[92m ───────────────────────\u001b[0m\n"
      ]
     },
     "metadata": {},
     "output_type": "display_data"
    },
    {
     "data": {
      "text/html": [
       "<pre style=\"white-space:pre;overflow-x:auto;line-height:normal;font-family:Menlo,'DejaVu Sans Mono',consolas,'Courier New',monospace\">Standard Item <span style=\"font-weight: bold\">(</span>$<span style=\"color: #008080; text-decoration-color: #008080; font-weight: bold\">100</span>-$<span style=\"color: #008080; text-decoration-color: #008080; font-weight: bold\">500</span><span style=\"font-weight: bold\">)</span>: <span style=\"color: #008080; text-decoration-color: #008080; font-weight: bold\">8043</span> data <span style=\"font-weight: bold\">(</span><span style=\"color: #008080; text-decoration-color: #008080; font-weight: bold\">40.22</span>%<span style=\"font-weight: bold\">)</span>\n",
       "</pre>\n"
      ],
      "text/plain": [
       "Standard Item \u001b[1m(\u001b[0m$\u001b[1;36m100\u001b[0m-$\u001b[1;36m500\u001b[0m\u001b[1m)\u001b[0m: \u001b[1;36m8043\u001b[0m data \u001b[1m(\u001b[0m\u001b[1;36m40.22\u001b[0m%\u001b[1m)\u001b[0m\n"
      ]
     },
     "metadata": {},
     "output_type": "display_data"
    },
    {
     "data": {
      "text/html": [
       "<pre style=\"white-space:pre;overflow-x:auto;line-height:normal;font-family:Menlo,'DejaVu Sans Mono',consolas,'Courier New',monospace\">Premium Item <span style=\"font-weight: bold\">(</span>$<span style=\"color: #008080; text-decoration-color: #008080; font-weight: bold\">500</span>-$1k<span style=\"font-weight: bold\">)</span>: <span style=\"color: #008080; text-decoration-color: #008080; font-weight: bold\">7998</span> data <span style=\"font-weight: bold\">(</span><span style=\"color: #008080; text-decoration-color: #008080; font-weight: bold\">39.99</span>%<span style=\"font-weight: bold\">)</span>\n",
       "</pre>\n"
      ],
      "text/plain": [
       "Premium Item \u001b[1m(\u001b[0m$\u001b[1;36m500\u001b[0m-$1k\u001b[1m)\u001b[0m: \u001b[1;36m7998\u001b[0m data \u001b[1m(\u001b[0m\u001b[1;36m39.99\u001b[0m%\u001b[1m)\u001b[0m\n"
      ]
     },
     "metadata": {},
     "output_type": "display_data"
    },
    {
     "data": {
      "text/html": [
       "<pre style=\"white-space:pre;overflow-x:auto;line-height:normal;font-family:Menlo,'DejaVu Sans Mono',consolas,'Courier New',monospace\">Luxury Item <span style=\"font-weight: bold\">(</span>$1k+<span style=\"font-weight: bold\">)</span>: <span style=\"color: #008080; text-decoration-color: #008080; font-weight: bold\">1987</span> data <span style=\"font-weight: bold\">(</span><span style=\"color: #008080; text-decoration-color: #008080; font-weight: bold\">9.93</span>%<span style=\"font-weight: bold\">)</span>\n",
       "</pre>\n"
      ],
      "text/plain": [
       "Luxury Item \u001b[1m(\u001b[0m$1k+\u001b[1m)\u001b[0m: \u001b[1;36m1987\u001b[0m data \u001b[1m(\u001b[0m\u001b[1;36m9.93\u001b[0m%\u001b[1m)\u001b[0m\n"
      ]
     },
     "metadata": {},
     "output_type": "display_data"
    },
    {
     "data": {
      "text/html": [
       "<pre style=\"white-space:pre;overflow-x:auto;line-height:normal;font-family:Menlo,'DejaVu Sans Mono',consolas,'Courier New',monospace\">Budget Item <span style=\"font-weight: bold\">(</span><span style=\"color: #008080; text-decoration-color: #008080; font-weight: bold\">0</span>-$<span style=\"color: #008080; text-decoration-color: #008080; font-weight: bold\">100</span><span style=\"font-weight: bold\">)</span>: <span style=\"color: #008080; text-decoration-color: #008080; font-weight: bold\">1972</span> data <span style=\"font-weight: bold\">(</span><span style=\"color: #008080; text-decoration-color: #008080; font-weight: bold\">9.86</span>%<span style=\"font-weight: bold\">)</span>\n",
       "</pre>\n"
      ],
      "text/plain": [
       "Budget Item \u001b[1m(\u001b[0m\u001b[1;36m0\u001b[0m-$\u001b[1;36m100\u001b[0m\u001b[1m)\u001b[0m: \u001b[1;36m1972\u001b[0m data \u001b[1m(\u001b[0m\u001b[1;36m9.86\u001b[0m%\u001b[1m)\u001b[0m\n"
      ]
     },
     "metadata": {},
     "output_type": "display_data"
    },
    {
     "data": {
      "text/html": [
       "<pre style=\"white-space:pre;overflow-x:auto;line-height:normal;font-family:Menlo,'DejaVu Sans Mono',consolas,'Courier New',monospace\">Kategori <span style=\"color: #008000; text-decoration-color: #008000\">'Standard Item ($100-$500)'</span> cukup dominan <span style=\"font-weight: bold\">(</span><span style=\"color: #008080; text-decoration-color: #008080; font-weight: bold\">40.22</span>%<span style=\"font-weight: bold\">)</span>.\n",
       "</pre>\n"
      ],
      "text/plain": [
       "Kategori \u001b[32m'Standard Item \u001b[0m\u001b[32m(\u001b[0m\u001b[32m$100-$500\u001b[0m\u001b[32m)\u001b[0m\u001b[32m'\u001b[0m cukup dominan \u001b[1m(\u001b[0m\u001b[1;36m40.22\u001b[0m%\u001b[1m)\u001b[0m.\n"
      ]
     },
     "metadata": {},
     "output_type": "display_data"
    },
    {
     "data": {
      "text/html": [
       "<pre style=\"white-space:pre;overflow-x:auto;line-height:normal;font-family:Menlo,'DejaVu Sans Mono',consolas,'Courier New',monospace\"><span style=\"color: #00ff00; text-decoration-color: #00ff00\">──────────────────── </span><span style=\"color: #808000; text-decoration-color: #808000; font-weight: bold\">Analisis Data Addons_Spending_Category</span><span style=\"color: #00ff00; text-decoration-color: #00ff00\"> ────────────────────</span>\n",
       "</pre>\n"
      ],
      "text/plain": [
       "\u001b[92m──────────────────── \u001b[0m\u001b[1;33mAnalisis Data Addons_Spending_Category\u001b[0m\u001b[92m ────────────────────\u001b[0m\n"
      ]
     },
     "metadata": {},
     "output_type": "display_data"
    },
    {
     "data": {
      "text/html": [
       "<pre style=\"white-space:pre;overflow-x:auto;line-height:normal;font-family:Menlo,'DejaVu Sans Mono',consolas,'Courier New',monospace\">Low Add-ons Spender <span style=\"font-weight: bold\">(</span><span style=\"color: #008080; text-decoration-color: #008080; font-weight: bold\">0</span>-$<span style=\"color: #008080; text-decoration-color: #008080; font-weight: bold\">50</span><span style=\"font-weight: bold\">)</span>: <span style=\"color: #008080; text-decoration-color: #008080; font-weight: bold\">9803</span> data <span style=\"font-weight: bold\">(</span><span style=\"color: #008080; text-decoration-color: #008080; font-weight: bold\">49.02</span>%<span style=\"font-weight: bold\">)</span>\n",
       "</pre>\n"
      ],
      "text/plain": [
       "Low Add-ons Spender \u001b[1m(\u001b[0m\u001b[1;36m0\u001b[0m-$\u001b[1;36m50\u001b[0m\u001b[1m)\u001b[0m: \u001b[1;36m9803\u001b[0m data \u001b[1m(\u001b[0m\u001b[1;36m49.02\u001b[0m%\u001b[1m)\u001b[0m\n"
      ]
     },
     "metadata": {},
     "output_type": "display_data"
    },
    {
     "data": {
      "text/html": [
       "<pre style=\"white-space:pre;overflow-x:auto;line-height:normal;font-family:Menlo,'DejaVu Sans Mono',consolas,'Courier New',monospace\">Medium Add-ons Spender <span style=\"font-weight: bold\">(</span>$<span style=\"color: #008080; text-decoration-color: #008080; font-weight: bold\">51</span>-$<span style=\"color: #008080; text-decoration-color: #008080; font-weight: bold\">100</span><span style=\"font-weight: bold\">)</span>: <span style=\"color: #008080; text-decoration-color: #008080; font-weight: bold\">5839</span> data <span style=\"font-weight: bold\">(</span><span style=\"color: #008080; text-decoration-color: #008080; font-weight: bold\">29.2</span>%<span style=\"font-weight: bold\">)</span>\n",
       "</pre>\n"
      ],
      "text/plain": [
       "Medium Add-ons Spender \u001b[1m(\u001b[0m$\u001b[1;36m51\u001b[0m-$\u001b[1;36m100\u001b[0m\u001b[1m)\u001b[0m: \u001b[1;36m5839\u001b[0m data \u001b[1m(\u001b[0m\u001b[1;36m29.2\u001b[0m%\u001b[1m)\u001b[0m\n"
      ]
     },
     "metadata": {},
     "output_type": "display_data"
    },
    {
     "data": {
      "text/html": [
       "<pre style=\"white-space:pre;overflow-x:auto;line-height:normal;font-family:Menlo,'DejaVu Sans Mono',consolas,'Courier New',monospace\">High Add-ons Spender <span style=\"font-weight: bold\">(</span>$<span style=\"color: #008080; text-decoration-color: #008080; font-weight: bold\">101</span>-$<span style=\"color: #008080; text-decoration-color: #008080; font-weight: bold\">200</span><span style=\"font-weight: bold\">)</span>: <span style=\"color: #008080; text-decoration-color: #008080; font-weight: bold\">3814</span> data <span style=\"font-weight: bold\">(</span><span style=\"color: #008080; text-decoration-color: #008080; font-weight: bold\">19.07</span>%<span style=\"font-weight: bold\">)</span>\n",
       "</pre>\n"
      ],
      "text/plain": [
       "High Add-ons Spender \u001b[1m(\u001b[0m$\u001b[1;36m101\u001b[0m-$\u001b[1;36m200\u001b[0m\u001b[1m)\u001b[0m: \u001b[1;36m3814\u001b[0m data \u001b[1m(\u001b[0m\u001b[1;36m19.07\u001b[0m%\u001b[1m)\u001b[0m\n"
      ]
     },
     "metadata": {},
     "output_type": "display_data"
    },
    {
     "data": {
      "text/html": [
       "<pre style=\"white-space:pre;overflow-x:auto;line-height:normal;font-family:Menlo,'DejaVu Sans Mono',consolas,'Courier New',monospace\">Luxury Add-ons Spender <span style=\"font-weight: bold\">(</span>$<span style=\"color: #008080; text-decoration-color: #008080; font-weight: bold\">200</span>+<span style=\"font-weight: bold\">)</span>: <span style=\"color: #008080; text-decoration-color: #008080; font-weight: bold\">544</span> data <span style=\"font-weight: bold\">(</span><span style=\"color: #008080; text-decoration-color: #008080; font-weight: bold\">2.72</span>%<span style=\"font-weight: bold\">)</span>\n",
       "</pre>\n"
      ],
      "text/plain": [
       "Luxury Add-ons Spender \u001b[1m(\u001b[0m$\u001b[1;36m200\u001b[0m+\u001b[1m)\u001b[0m: \u001b[1;36m544\u001b[0m data \u001b[1m(\u001b[0m\u001b[1;36m2.72\u001b[0m%\u001b[1m)\u001b[0m\n"
      ]
     },
     "metadata": {},
     "output_type": "display_data"
    },
    {
     "data": {
      "text/html": [
       "<pre style=\"white-space:pre;overflow-x:auto;line-height:normal;font-family:Menlo,'DejaVu Sans Mono',consolas,'Courier New',monospace\">Kategori <span style=\"color: #008000; text-decoration-color: #008000\">'Low Add-ons Spender (0-$50)'</span> cukup dominan <span style=\"font-weight: bold\">(</span><span style=\"color: #008080; text-decoration-color: #008080; font-weight: bold\">49.02</span>%<span style=\"font-weight: bold\">)</span>.\n",
       "</pre>\n"
      ],
      "text/plain": [
       "Kategori \u001b[32m'Low Add-ons Spender \u001b[0m\u001b[32m(\u001b[0m\u001b[32m0-$50\u001b[0m\u001b[32m)\u001b[0m\u001b[32m'\u001b[0m cukup dominan \u001b[1m(\u001b[0m\u001b[1;36m49.02\u001b[0m%\u001b[1m)\u001b[0m.\n"
      ]
     },
     "metadata": {},
     "output_type": "display_data"
    },
    {
     "data": {
      "text/html": [
       "<pre style=\"white-space:pre;overflow-x:auto;line-height:normal;font-family:Menlo,'DejaVu Sans Mono',consolas,'Courier New',monospace\"><span style=\"color: #00ff00; text-decoration-color: #00ff00\">───────────────────────── </span><span style=\"color: #808000; text-decoration-color: #808000; font-weight: bold\">Analisis Data Purchase Month</span><span style=\"color: #00ff00; text-decoration-color: #00ff00\"> ─────────────────────────</span>\n",
       "</pre>\n"
      ],
      "text/plain": [
       "\u001b[92m───────────────────────── \u001b[0m\u001b[1;33mAnalisis Data Purchase Month\u001b[0m\u001b[92m ─────────────────────────\u001b[0m\n"
      ]
     },
     "metadata": {},
     "output_type": "display_data"
    },
    {
     "data": {
      "text/html": [
       "<pre style=\"white-space:pre;overflow-x:auto;line-height:normal;font-family:Menlo,'DejaVu Sans Mono',consolas,'Courier New',monospace\">January: <span style=\"color: #008080; text-decoration-color: #008080; font-weight: bold\">2049</span> data <span style=\"font-weight: bold\">(</span><span style=\"color: #008080; text-decoration-color: #008080; font-weight: bold\">10.24</span>%<span style=\"font-weight: bold\">)</span>\n",
       "</pre>\n"
      ],
      "text/plain": [
       "January: \u001b[1;36m2049\u001b[0m data \u001b[1m(\u001b[0m\u001b[1;36m10.24\u001b[0m%\u001b[1m)\u001b[0m\n"
      ]
     },
     "metadata": {},
     "output_type": "display_data"
    },
    {
     "data": {
      "text/html": [
       "<pre style=\"white-space:pre;overflow-x:auto;line-height:normal;font-family:Menlo,'DejaVu Sans Mono',consolas,'Courier New',monospace\">May: <span style=\"color: #008080; text-decoration-color: #008080; font-weight: bold\">2048</span> data <span style=\"font-weight: bold\">(</span><span style=\"color: #008080; text-decoration-color: #008080; font-weight: bold\">10.24</span>%<span style=\"font-weight: bold\">)</span>\n",
       "</pre>\n"
      ],
      "text/plain": [
       "May: \u001b[1;36m2048\u001b[0m data \u001b[1m(\u001b[0m\u001b[1;36m10.24\u001b[0m%\u001b[1m)\u001b[0m\n"
      ]
     },
     "metadata": {},
     "output_type": "display_data"
    },
    {
     "data": {
      "text/html": [
       "<pre style=\"white-space:pre;overflow-x:auto;line-height:normal;font-family:Menlo,'DejaVu Sans Mono',consolas,'Courier New',monospace\">August: <span style=\"color: #008080; text-decoration-color: #008080; font-weight: bold\">2018</span> data <span style=\"font-weight: bold\">(</span><span style=\"color: #008080; text-decoration-color: #008080; font-weight: bold\">10.09</span>%<span style=\"font-weight: bold\">)</span>\n",
       "</pre>\n"
      ],
      "text/plain": [
       "August: \u001b[1;36m2018\u001b[0m data \u001b[1m(\u001b[0m\u001b[1;36m10.09\u001b[0m%\u001b[1m)\u001b[0m\n"
      ]
     },
     "metadata": {},
     "output_type": "display_data"
    },
    {
     "data": {
      "text/html": [
       "<pre style=\"white-space:pre;overflow-x:auto;line-height:normal;font-family:Menlo,'DejaVu Sans Mono',consolas,'Courier New',monospace\">June: <span style=\"color: #008080; text-decoration-color: #008080; font-weight: bold\">1999</span> data <span style=\"font-weight: bold\">(</span><span style=\"color: #008080; text-decoration-color: #008080; font-weight: bold\">9.99</span>%<span style=\"font-weight: bold\">)</span>\n",
       "</pre>\n"
      ],
      "text/plain": [
       "June: \u001b[1;36m1999\u001b[0m data \u001b[1m(\u001b[0m\u001b[1;36m9.99\u001b[0m%\u001b[1m)\u001b[0m\n"
      ]
     },
     "metadata": {},
     "output_type": "display_data"
    },
    {
     "data": {
      "text/html": [
       "<pre style=\"white-space:pre;overflow-x:auto;line-height:normal;font-family:Menlo,'DejaVu Sans Mono',consolas,'Courier New',monospace\">July: <span style=\"color: #008080; text-decoration-color: #008080; font-weight: bold\">1989</span> data <span style=\"font-weight: bold\">(</span><span style=\"color: #008080; text-decoration-color: #008080; font-weight: bold\">9.94</span>%<span style=\"font-weight: bold\">)</span>\n",
       "</pre>\n"
      ],
      "text/plain": [
       "July: \u001b[1;36m1989\u001b[0m data \u001b[1m(\u001b[0m\u001b[1;36m9.94\u001b[0m%\u001b[1m)\u001b[0m\n"
      ]
     },
     "metadata": {},
     "output_type": "display_data"
    },
    {
     "data": {
      "text/html": [
       "<pre style=\"white-space:pre;overflow-x:auto;line-height:normal;font-family:Menlo,'DejaVu Sans Mono',consolas,'Courier New',monospace\">March: <span style=\"color: #008080; text-decoration-color: #008080; font-weight: bold\">1957</span> data <span style=\"font-weight: bold\">(</span><span style=\"color: #008080; text-decoration-color: #008080; font-weight: bold\">9.78</span>%<span style=\"font-weight: bold\">)</span>\n",
       "</pre>\n"
      ],
      "text/plain": [
       "March: \u001b[1;36m1957\u001b[0m data \u001b[1m(\u001b[0m\u001b[1;36m9.78\u001b[0m%\u001b[1m)\u001b[0m\n"
      ]
     },
     "metadata": {},
     "output_type": "display_data"
    },
    {
     "data": {
      "text/html": [
       "<pre style=\"white-space:pre;overflow-x:auto;line-height:normal;font-family:Menlo,'DejaVu Sans Mono',consolas,'Courier New',monospace\">April: <span style=\"color: #008080; text-decoration-color: #008080; font-weight: bold\">1932</span> data <span style=\"font-weight: bold\">(</span><span style=\"color: #008080; text-decoration-color: #008080; font-weight: bold\">9.66</span>%<span style=\"font-weight: bold\">)</span>\n",
       "</pre>\n"
      ],
      "text/plain": [
       "April: \u001b[1;36m1932\u001b[0m data \u001b[1m(\u001b[0m\u001b[1;36m9.66\u001b[0m%\u001b[1m)\u001b[0m\n"
      ]
     },
     "metadata": {},
     "output_type": "display_data"
    },
    {
     "data": {
      "text/html": [
       "<pre style=\"white-space:pre;overflow-x:auto;line-height:normal;font-family:Menlo,'DejaVu Sans Mono',consolas,'Courier New',monospace\">February: <span style=\"color: #008080; text-decoration-color: #008080; font-weight: bold\">1818</span> data <span style=\"font-weight: bold\">(</span><span style=\"color: #008080; text-decoration-color: #008080; font-weight: bold\">9.09</span>%<span style=\"font-weight: bold\">)</span>\n",
       "</pre>\n"
      ],
      "text/plain": [
       "February: \u001b[1;36m1818\u001b[0m data \u001b[1m(\u001b[0m\u001b[1;36m9.09\u001b[0m%\u001b[1m)\u001b[0m\n"
      ]
     },
     "metadata": {},
     "output_type": "display_data"
    },
    {
     "data": {
      "text/html": [
       "<pre style=\"white-space:pre;overflow-x:auto;line-height:normal;font-family:Menlo,'DejaVu Sans Mono',consolas,'Courier New',monospace\">September: <span style=\"color: #008080; text-decoration-color: #008080; font-weight: bold\">1682</span> data <span style=\"font-weight: bold\">(</span><span style=\"color: #008080; text-decoration-color: #008080; font-weight: bold\">8.41</span>%<span style=\"font-weight: bold\">)</span>\n",
       "</pre>\n"
      ],
      "text/plain": [
       "September: \u001b[1;36m1682\u001b[0m data \u001b[1m(\u001b[0m\u001b[1;36m8.41\u001b[0m%\u001b[1m)\u001b[0m\n"
      ]
     },
     "metadata": {},
     "output_type": "display_data"
    },
    {
     "data": {
      "text/html": [
       "<pre style=\"white-space:pre;overflow-x:auto;line-height:normal;font-family:Menlo,'DejaVu Sans Mono',consolas,'Courier New',monospace\">October: <span style=\"color: #008080; text-decoration-color: #008080; font-weight: bold\">911</span> data <span style=\"font-weight: bold\">(</span><span style=\"color: #008080; text-decoration-color: #008080; font-weight: bold\">4.56</span>%<span style=\"font-weight: bold\">)</span>\n",
       "</pre>\n"
      ],
      "text/plain": [
       "October: \u001b[1;36m911\u001b[0m data \u001b[1m(\u001b[0m\u001b[1;36m4.56\u001b[0m%\u001b[1m)\u001b[0m\n"
      ]
     },
     "metadata": {},
     "output_type": "display_data"
    },
    {
     "data": {
      "text/html": [
       "<pre style=\"white-space:pre;overflow-x:auto;line-height:normal;font-family:Menlo,'DejaVu Sans Mono',consolas,'Courier New',monospace\">December: <span style=\"color: #008080; text-decoration-color: #008080; font-weight: bold\">800</span> data <span style=\"font-weight: bold\">(</span><span style=\"color: #008080; text-decoration-color: #008080; font-weight: bold\">4.0</span>%<span style=\"font-weight: bold\">)</span>\n",
       "</pre>\n"
      ],
      "text/plain": [
       "December: \u001b[1;36m800\u001b[0m data \u001b[1m(\u001b[0m\u001b[1;36m4.0\u001b[0m%\u001b[1m)\u001b[0m\n"
      ]
     },
     "metadata": {},
     "output_type": "display_data"
    },
    {
     "data": {
      "text/html": [
       "<pre style=\"white-space:pre;overflow-x:auto;line-height:normal;font-family:Menlo,'DejaVu Sans Mono',consolas,'Courier New',monospace\">November: <span style=\"color: #008080; text-decoration-color: #008080; font-weight: bold\">797</span> data <span style=\"font-weight: bold\">(</span><span style=\"color: #008080; text-decoration-color: #008080; font-weight: bold\">3.98</span>%<span style=\"font-weight: bold\">)</span>\n",
       "</pre>\n"
      ],
      "text/plain": [
       "November: \u001b[1;36m797\u001b[0m data \u001b[1m(\u001b[0m\u001b[1;36m3.98\u001b[0m%\u001b[1m)\u001b[0m\n"
      ]
     },
     "metadata": {},
     "output_type": "display_data"
    },
    {
     "data": {
      "text/html": [
       "<pre style=\"white-space:pre;overflow-x:auto;line-height:normal;font-family:Menlo,'DejaVu Sans Mono',consolas,'Courier New',monospace\">Distribusi kategori relatif merata, tidak ada yang terlalu dominan.\n",
       "</pre>\n"
      ],
      "text/plain": [
       "Distribusi kategori relatif merata, tidak ada yang terlalu dominan.\n"
      ]
     },
     "metadata": {},
     "output_type": "display_data"
    }
   ],
   "source": [
    "# Loop untuk semua kolom kategorikal\n",
    "exclude_cols = [\"SKU\", \"Purchase Date\", \"Customer ID\", \"Add-ons Purchased\"]\n",
    "categorical_analyze = [col for col in categorical_columns if col not in exclude_cols]\n",
    "for col in categorical_analyze:\n",
    "    Console(width=terminal_width).rule(f\"[bold yellow]Analisis Data {col}\")\n",
    "\n",
    "    value_counts = df[col].value_counts()\n",
    "    percentages = (df[col].value_counts(normalize=True) * 100).round(2)\n",
    "    for idx, val in value_counts.items():\n",
    "        print(f\"{idx}: {val} data ({percentages[idx]}%)\")\n",
    "\n",
    "    # Deskripsi sederhana\n",
    "    top_category = value_counts.index[0]\n",
    "    top_percentage = percentages.iloc[0]\n",
    "    if top_percentage > 70:\n",
    "        print(f\"Kategori '{top_category}' sangat dominan ({top_percentage}%).\")\n",
    "    elif top_percentage > 40:\n",
    "        print(f\"Kategori '{top_category}' cukup dominan ({top_percentage}%).\")\n",
    "    else:\n",
    "        print(f\"Distribusi kategori relatif merata, tidak ada yang terlalu dominan.\")"
   ]
  }
 ],
 "metadata": {
  "kernelspec": {
   "display_name": "Python 3",
   "language": "python",
   "name": "python3"
  },
  "language_info": {
   "codemirror_mode": {
    "name": "ipython",
    "version": 3
   },
   "file_extension": ".py",
   "mimetype": "text/x-python",
   "name": "python",
   "nbconvert_exporter": "python",
   "pygments_lexer": "ipython3",
   "version": "3.13.2"
  }
 },
 "nbformat": 4,
 "nbformat_minor": 5
}
