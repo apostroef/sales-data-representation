{
 "cells": [
  {
   "cell_type": "markdown",
   "metadata": {},
   "source": [
    "# Statistical Analysis of Customer Purchase Data\n",
    "\n",
    "This notebook contains the Python code for performing several non-parametric statistical tests on the provided customer dataset. Since the data is not normally distributed, we will use the following tests:\n",
    "\n",
    "1.  **Chi-Square Test of Independence**: To check for an association between `Loyalty Member` and `Order Status`.\n",
    "2.  **Mann-Whitney U Test**: To compare the `Total Price` between `Genders`.\n",
    "3.  **Spearman Correlation Matrix**: To assess the monotonic relationships between all numerical variables."
   ]
  },
  {
   "cell_type": "markdown",
   "metadata": {},
   "source": [
    "## 1. Setup and Data Preparation\n",
    "\n",
    "First, let's import the necessary libraries and create a sample DataFrame that mirrors the structure of the dataset."
   ]
  },
  {
   "cell_type": "code",
   "execution_count": 1,
   "metadata": {},
   "outputs": [
    {
     "name": "stdout",
     "output_type": "stream",
     "text": [
      "Dataset Preview:\n"
     ]
    },
    {
     "data": {
      "text/html": [
       "<div>\n",
       "<style scoped>\n",
       "    .dataframe tbody tr th:only-of-type {\n",
       "        vertical-align: middle;\n",
       "    }\n",
       "\n",
       "    .dataframe tbody tr th {\n",
       "        vertical-align: top;\n",
       "    }\n",
       "\n",
       "    .dataframe thead th {\n",
       "        text-align: right;\n",
       "    }\n",
       "</style>\n",
       "<table border=\"1\" class=\"dataframe\">\n",
       "  <thead>\n",
       "    <tr style=\"text-align: right;\">\n",
       "      <th></th>\n",
       "      <th>Customer ID</th>\n",
       "      <th>Age</th>\n",
       "      <th>Gender</th>\n",
       "      <th>Loyalty Member</th>\n",
       "      <th>Product Type</th>\n",
       "      <th>SKU</th>\n",
       "      <th>Rating</th>\n",
       "      <th>Order Status</th>\n",
       "      <th>Payment Method</th>\n",
       "      <th>Total Price</th>\n",
       "      <th>Unit Price</th>\n",
       "      <th>Quantity</th>\n",
       "      <th>Purchase Date</th>\n",
       "      <th>Shipping Type</th>\n",
       "      <th>Add-ons Purchased</th>\n",
       "      <th>Add-on Total</th>\n",
       "    </tr>\n",
       "  </thead>\n",
       "  <tbody>\n",
       "    <tr>\n",
       "      <th>0</th>\n",
       "      <td>1000</td>\n",
       "      <td>53</td>\n",
       "      <td>Male</td>\n",
       "      <td>No</td>\n",
       "      <td>Smartphone</td>\n",
       "      <td>SKU1004</td>\n",
       "      <td>2</td>\n",
       "      <td>Cancelled</td>\n",
       "      <td>Credit Card</td>\n",
       "      <td>5538.33</td>\n",
       "      <td>791.19</td>\n",
       "      <td>7</td>\n",
       "      <td>2024-03-20</td>\n",
       "      <td>Standard</td>\n",
       "      <td>Accessory,Accessory,Accessory</td>\n",
       "      <td>40.21</td>\n",
       "    </tr>\n",
       "    <tr>\n",
       "      <th>1</th>\n",
       "      <td>1000</td>\n",
       "      <td>53</td>\n",
       "      <td>Male</td>\n",
       "      <td>No</td>\n",
       "      <td>Tablet</td>\n",
       "      <td>SKU1002</td>\n",
       "      <td>3</td>\n",
       "      <td>Completed</td>\n",
       "      <td>Paypal</td>\n",
       "      <td>741.09</td>\n",
       "      <td>247.03</td>\n",
       "      <td>3</td>\n",
       "      <td>2024-04-20</td>\n",
       "      <td>Overnight</td>\n",
       "      <td>Impulse Item</td>\n",
       "      <td>26.09</td>\n",
       "    </tr>\n",
       "    <tr>\n",
       "      <th>2</th>\n",
       "      <td>1002</td>\n",
       "      <td>41</td>\n",
       "      <td>Male</td>\n",
       "      <td>No</td>\n",
       "      <td>Laptop</td>\n",
       "      <td>SKU1005</td>\n",
       "      <td>3</td>\n",
       "      <td>Completed</td>\n",
       "      <td>Credit Card</td>\n",
       "      <td>1855.84</td>\n",
       "      <td>463.96</td>\n",
       "      <td>4</td>\n",
       "      <td>2023-10-17</td>\n",
       "      <td>Express</td>\n",
       "      <td>NaN</td>\n",
       "      <td>0.00</td>\n",
       "    </tr>\n",
       "    <tr>\n",
       "      <th>3</th>\n",
       "      <td>1002</td>\n",
       "      <td>41</td>\n",
       "      <td>Male</td>\n",
       "      <td>Yes</td>\n",
       "      <td>Smartphone</td>\n",
       "      <td>SKU1004</td>\n",
       "      <td>2</td>\n",
       "      <td>Completed</td>\n",
       "      <td>Cash</td>\n",
       "      <td>3164.76</td>\n",
       "      <td>791.19</td>\n",
       "      <td>4</td>\n",
       "      <td>2024-08-09</td>\n",
       "      <td>Overnight</td>\n",
       "      <td>Impulse Item,Impulse Item</td>\n",
       "      <td>60.16</td>\n",
       "    </tr>\n",
       "    <tr>\n",
       "      <th>4</th>\n",
       "      <td>1003</td>\n",
       "      <td>75</td>\n",
       "      <td>Male</td>\n",
       "      <td>Yes</td>\n",
       "      <td>Smartphone</td>\n",
       "      <td>SKU1001</td>\n",
       "      <td>5</td>\n",
       "      <td>Completed</td>\n",
       "      <td>Cash</td>\n",
       "      <td>41.50</td>\n",
       "      <td>20.75</td>\n",
       "      <td>2</td>\n",
       "      <td>2024-05-21</td>\n",
       "      <td>Express</td>\n",
       "      <td>Accessory</td>\n",
       "      <td>35.56</td>\n",
       "    </tr>\n",
       "  </tbody>\n",
       "</table>\n",
       "</div>"
      ],
      "text/plain": [
       "   Customer ID  Age Gender Loyalty Member Product Type      SKU  Rating  \\\n",
       "0         1000   53   Male             No   Smartphone  SKU1004       2   \n",
       "1         1000   53   Male             No       Tablet  SKU1002       3   \n",
       "2         1002   41   Male             No       Laptop  SKU1005       3   \n",
       "3         1002   41   Male            Yes   Smartphone  SKU1004       2   \n",
       "4         1003   75   Male            Yes   Smartphone  SKU1001       5   \n",
       "\n",
       "  Order Status Payment Method  Total Price  Unit Price  Quantity  \\\n",
       "0    Cancelled    Credit Card      5538.33      791.19         7   \n",
       "1    Completed         Paypal       741.09      247.03         3   \n",
       "2    Completed    Credit Card      1855.84      463.96         4   \n",
       "3    Completed           Cash      3164.76      791.19         4   \n",
       "4    Completed           Cash        41.50       20.75         2   \n",
       "\n",
       "  Purchase Date Shipping Type              Add-ons Purchased  Add-on Total  \n",
       "0    2024-03-20      Standard  Accessory,Accessory,Accessory         40.21  \n",
       "1    2024-04-20     Overnight                   Impulse Item         26.09  \n",
       "2    2023-10-17       Express                            NaN          0.00  \n",
       "3    2024-08-09     Overnight      Impulse Item,Impulse Item         60.16  \n",
       "4    2024-05-21       Express                      Accessory         35.56  "
      ]
     },
     "execution_count": 1,
     "metadata": {},
     "output_type": "execute_result"
    }
   ],
   "source": [
    "import pandas as pd\n",
    "import numpy as np\n",
    "import scipy.stats as stats\n",
    "import seaborn as sns\n",
    "import matplotlib.pyplot as plt\n",
    "\n",
    "# In a real scenario, you would load from a file like this:\n",
    "df = pd.read_csv('Electronic-Sales.csv')\n",
    "\n",
    "print(\"Dataset Preview:\")\n",
    "df.head()"
   ]
  },
  {
   "cell_type": "markdown",
   "metadata": {},
   "source": [
    "---"
   ]
  },
  {
   "cell_type": "markdown",
   "metadata": {},
   "source": [
    "## 2. Chi-Square Test of Independence\n",
    "\n",
    "We want to test if there is a statistically significant association between being a `Loyalty Member` and the `Order Status`."
   ]
  },
  {
   "cell_type": "markdown",
   "metadata": {},
   "source": [
    "### Hypotheses to be Tested\n",
    "\n",
    "* **Null Hypothesis ($H_0$)**: There is no association between a customer's loyalty status and their order status. The two variables are independent.\n",
    "* **Alternative Hypothesis ($H_1$)**: There is an association between a customer's loyalty status and their order status. The two variables are not independent."
   ]
  },
  {
   "cell_type": "code",
   "execution_count": 2,
   "metadata": {},
   "outputs": [
    {
     "name": "stdout",
     "output_type": "stream",
     "text": [
      "Contingency Table:\n",
      "Order Status    Cancelled  Completed\n",
      "Loyalty Member                      \n",
      "No                   5145      10512\n",
      "Yes                  1423       2920\n",
      "\n",
      "Chi-Square Statistic: 0.0100\n",
      "P-value: 0.9203\n",
      "Degrees of Freedom: 1\n",
      "\n",
      "--- Interpretation ---\n",
      "Since the p-value (0.9203) is greater than 0.05, we fail to reject the null hypothesis.\n",
      "There is no statistically significant association between loyalty status and order status.\n"
     ]
    }
   ],
   "source": [
    "# Create a contingency table (crosstab)\n",
    "contingency_table = pd.crosstab(df['Loyalty Member'], df['Order Status'])\n",
    "\n",
    "print(\"Contingency Table:\")\n",
    "print(contingency_table)\n",
    "\n",
    "# Perform the Chi-Square test\n",
    "chi2, p_value, dof, expected = stats.chi2_contingency(contingency_table)\n",
    "\n",
    "print(f\"\\nChi-Square Statistic: {chi2:.4f}\")\n",
    "print(f\"P-value: {p_value:.4f}\")\n",
    "print(f\"Degrees of Freedom: {dof}\")\n",
    "\n",
    "# Interpret the result\n",
    "alpha = 0.05\n",
    "print(\"\\n--- Interpretation ---\")\n",
    "if p_value < alpha:\n",
    "    print(f\"Since the p-value ({p_value:.4f}) is less than {alpha}, we reject the null hypothesis.\")\n",
    "    print(\"There is a statistically significant association between loyalty status and order status.\")\n",
    "else:\n",
    "    print(f\"Since the p-value ({p_value:.4f}) is greater than {alpha}, we fail to reject the null hypothesis.\")\n",
    "    print(\"There is no statistically significant association between loyalty status and order status.\")"
   ]
  },
  {
   "cell_type": "markdown",
   "metadata": {},
   "source": [
    "---"
   ]
  },
  {
   "cell_type": "markdown",
   "metadata": {},
   "source": [
    "## 3. Mann-Whitney U Test\n",
    "\n",
    "Here, we will test if there is a significant difference in the `Total Price` of purchases between male and female customers."
   ]
  },
  {
   "cell_type": "markdown",
   "metadata": {},
   "source": [
    "### Hypotheses to be Tested\n",
    "\n",
    "* **Null Hypothesis ($H_0$)**: The distribution of `Total Price` is the same for both male and female customers.\n",
    "* **Alternative Hypothesis ($H_1$)**: The distribution of `Total Price` is different for male and female customers."
   ]
  },
  {
   "cell_type": "code",
   "execution_count": 5,
   "metadata": {},
   "outputs": [
    {
     "name": "stdout",
     "output_type": "stream",
     "text": [
      "Mann-Whitney U Statistic: 49724761.0000\n",
      "P-value: 0.5294\n",
      "\n",
      "--- Interpretation ---\n",
      "Since the p-value (0.5294) is greater than 0.05, we fail to reject the null hypothesis.\n",
      "There is no statistically significant difference in the total purchase price between genders.\n"
     ]
    }
   ],
   "source": [
    "# Separate the data into two groups based on Gender\n",
    "male_prices = df[df['Gender'] == 'Male']['Total Price']\n",
    "female_prices = df[df['Gender'] == 'Female']['Total Price']\n",
    "\n",
    "# Perform the Mann-Whitney U test\n",
    "u_statistic, p_value = stats.mannwhitneyu(male_prices, female_prices, alternative='two-sided')\n",
    "\n",
    "print(f\"Mann-Whitney U Statistic: {u_statistic:.4f}\")\n",
    "print(f\"P-value: {p_value:.4f}\")\n",
    "\n",
    "# Interpret the result\n",
    "alpha = 0.05\n",
    "print(\"\\n--- Interpretation ---\")\n",
    "if p_value < alpha:\n",
    "    print(f\"Since the p-value ({p_value:.4f}) is less than {alpha}, we reject the null hypothesis.\")\n",
    "    print(\"There is a statistically significant difference in the total purchase price between genders.\")\n",
    "else:\n",
    "    print(f\"Since the p-value ({p_value:.4f}) is greater than {alpha}, we fail to reject the null hypothesis.\")\n",
    "    print(\"There is no statistically significant difference in the total purchase price between genders.\")"
   ]
  },
  {
   "cell_type": "markdown",
   "metadata": {},
   "source": [
    "---"
   ]
  },
  {
   "cell_type": "markdown",
   "metadata": {},
   "source": [
    "## 4. Spearman Correlation Matrix\n",
    "\n",
    "Finally, we will compute the Spearman correlation matrix to understand the monotonic relationships between all numerical and ordinal variables in the dataset. This is an exploratory analysis to identify which variables tend to move together."
   ]
  },
  {
   "cell_type": "markdown",
   "metadata": {},
   "source": [
    "### Goal of the Analysis\n",
    "\n",
    "The goal is to calculate the Spearman correlation coefficient ($\\\\rho$) for each pair of numerical/ordinal variables. The coefficient measures the strength and direction of a monotonic relationship.\n",
    "\n",
    "* A value near **+1** indicates a strong positive monotonic relationship.\n",
    "* A value near **-1** indicates a strong negative monotonic relationship.\n",
    "* A value near **0** indicates a weak or no monotonic relationship."
   ]
  },
  {
   "cell_type": "code",
   "execution_count": 4,
   "metadata": {},
   "outputs": [
    {
     "data": {
      "image/png": "[encoded data removed]",
      "text/plain": [
       "<Figure size 1000x800 with 2 Axes>"
      ]
     },
     "metadata": {},
     "output_type": "display_data"
    },
    {
     "name": "stdout",
     "output_type": "stream",
     "text": [
      "\n",
      "Correlation Matrix Table:\n"
     ]
    },
    {
     "data": {
      "text/html": [
       "<div>\n",
       "<style scoped>\n",
       "    .dataframe tbody tr th:only-of-type {\n",
       "        vertical-align: middle;\n",
       "    }\n",
       "\n",
       "    .dataframe tbody tr th {\n",
       "        vertical-align: top;\n",
       "    }\n",
       "\n",
       "    .dataframe thead th {\n",
       "        text-align: right;\n",
       "    }\n",
       "</style>\n",
       "<table border=\"1\" class=\"dataframe\">\n",
       "  <thead>\n",
       "    <tr style=\"text-align: right;\">\n",
       "      <th></th>\n",
       "      <th>Age</th>\n",
       "      <th>Rating</th>\n",
       "      <th>Total Price</th>\n",
       "      <th>Unit Price</th>\n",
       "      <th>Quantity</th>\n",
       "      <th>Add-on Total</th>\n",
       "    </tr>\n",
       "  </thead>\n",
       "  <tbody>\n",
       "    <tr>\n",
       "      <th>Age</th>\n",
       "      <td>1.000000</td>\n",
       "      <td>0.003297</td>\n",
       "      <td>0.000794</td>\n",
       "      <td>-0.001693</td>\n",
       "      <td>0.008530</td>\n",
       "      <td>-0.006354</td>\n",
       "    </tr>\n",
       "    <tr>\n",
       "      <th>Rating</th>\n",
       "      <td>0.003297</td>\n",
       "      <td>1.000000</td>\n",
       "      <td>-0.290200</td>\n",
       "      <td>-0.324208</td>\n",
       "      <td>-0.008819</td>\n",
       "      <td>-0.034000</td>\n",
       "    </tr>\n",
       "    <tr>\n",
       "      <th>Total Price</th>\n",
       "      <td>0.000794</td>\n",
       "      <td>-0.290200</td>\n",
       "      <td>1.000000</td>\n",
       "      <td>0.672498</td>\n",
       "      <td>0.658001</td>\n",
       "      <td>0.071672</td>\n",
       "    </tr>\n",
       "    <tr>\n",
       "      <th>Unit Price</th>\n",
       "      <td>-0.001693</td>\n",
       "      <td>-0.324208</td>\n",
       "      <td>0.672498</td>\n",
       "      <td>1.000000</td>\n",
       "      <td>0.003045</td>\n",
       "      <td>0.055251</td>\n",
       "    </tr>\n",
       "    <tr>\n",
       "      <th>Quantity</th>\n",
       "      <td>0.008530</td>\n",
       "      <td>-0.008819</td>\n",
       "      <td>0.658001</td>\n",
       "      <td>0.003045</td>\n",
       "      <td>1.000000</td>\n",
       "      <td>-0.001515</td>\n",
       "    </tr>\n",
       "    <tr>\n",
       "      <th>Add-on Total</th>\n",
       "      <td>-0.006354</td>\n",
       "      <td>-0.034000</td>\n",
       "      <td>0.071672</td>\n",
       "      <td>0.055251</td>\n",
       "      <td>-0.001515</td>\n",
       "      <td>1.000000</td>\n",
       "    </tr>\n",
       "  </tbody>\n",
       "</table>\n",
       "</div>"
      ],
      "text/plain": [
       "                   Age    Rating  Total Price  Unit Price  Quantity  \\\n",
       "Age           1.000000  0.003297     0.000794   -0.001693  0.008530   \n",
       "Rating        0.003297  1.000000    -0.290200   -0.324208 -0.008819   \n",
       "Total Price   0.000794 -0.290200     1.000000    0.672498  0.658001   \n",
       "Unit Price   -0.001693 -0.324208     0.672498    1.000000  0.003045   \n",
       "Quantity      0.008530 -0.008819     0.658001    0.003045  1.000000   \n",
       "Add-on Total -0.006354 -0.034000     0.071672    0.055251 -0.001515   \n",
       "\n",
       "              Add-on Total  \n",
       "Age              -0.006354  \n",
       "Rating           -0.034000  \n",
       "Total Price       0.071672  \n",
       "Unit Price        0.055251  \n",
       "Quantity         -0.001515  \n",
       "Add-on Total      1.000000  "
      ]
     },
     "execution_count": 4,
     "metadata": {},
     "output_type": "execute_result"
    }
   ],
   "source": [
    "# Select only the numerical and ordinal columns for the correlation matrix\n",
    "numerical_cols = ['Age', 'Rating', 'Total Price', 'Unit Price', 'Quantity', 'Add-on Total']\n",
    "df_numerical = df[numerical_cols]\n",
    "\n",
    "# Calculate the Spearman correlation matrix\n",
    "corr_matrix = df_numerical.corr(method='spearman')\n",
    "\n",
    "# Visualize the correlation matrix using a heatmap\n",
    "plt.figure(figsize=(10, 8))\n",
    "sns.heatmap(corr_matrix, annot=True, cmap='coolwarm', fmt=\".2f\", linewidths=.5)\n",
    "plt.title('Spearman Correlation Matrix of Customer Data')\n",
    "plt.show()\n",
    "\n",
    "print(\"\\nCorrelation Matrix Table:\")\n",
    "corr_matrix"
   ]
  }
 ],
 "metadata": {
  "kernelspec": {
   "display_name": "Python 3",
   "language": "python",
   "name": "python3"
  },
  "language_info": {
   "codemirror_mode": {
    "name": "ipython",
    "version": 3
   },
   "file_extension": ".py",
   "mimetype": "text/x-python",
   "name": "python",
   "nbconvert_exporter": "python",
   "pygments_lexer": "ipython3",
   "version": "3.10.11"
  }
 },
 "nbformat": 4,
 "nbformat_minor": 4
}
