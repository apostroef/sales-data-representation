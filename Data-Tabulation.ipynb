{
 "cells": [
  {
   "cell_type": "code",
   "execution_count": 38,
   "id": "af089ec1",
   "metadata": {},
   "outputs": [],
   "source": [
    "import re\n",
    "import numpy as np\n",
    "import pandas as pd\n",
    "import shutil\n",
    "import matplotlib.pyplot as plt\n",
    "import seaborn as sns\n",
    "from rich import print\n",
    "from rich.table import Table\n",
    "from rich.console import Console\n",
    "\n",
    "pd.set_option(\"display.max_columns\", None)\n",
    "pd.set_option(\"display.max_rows\", None)\n",
    "terminal_width = shutil.get_terminal_size().columns\n",
    "df = pd.read_csv(\"labeled_customer_data.csv\")"
   ]
  },
  {
   "cell_type": "code",
   "execution_count": null,
   "id": "5cad2199",
   "metadata": {},
   "outputs": [
    {
     "data": {
      "text/html": [
       "<pre style=\"white-space:pre;overflow-x:auto;line-height:normal;font-family:Menlo,'DejaVu Sans Mono',consolas,'Courier New',monospace\"><span style=\"color: #808000; text-decoration-color: #808000; font-weight: bold\">        Tabulasi Gender        </span>\n",
       "┏━━━━━━━━┳━━━━━━━━━━━━┳━━━━━━━┓\n",
       "┃<span style=\"font-weight: bold\"> count  </span>┃<span style=\"font-weight: bold\"> Percentage </span>┃<span style=\"font-weight: bold\">       </span>┃\n",
       "┡━━━━━━━━╇━━━━━━━━━━━━╇━━━━━━━┩\n",
       "│<span style=\"color: #c0c0c0; text-decoration-color: #c0c0c0; font-weight: bold\"> Female </span>│<span style=\"color: #c0c0c0; text-decoration-color: #c0c0c0; font-weight: bold\">   9835.0   </span>│ 49.18 │\n",
       "├────────┼────────────┼───────┤\n",
       "│<span style=\"color: #c0c0c0; text-decoration-color: #c0c0c0; font-weight: bold\">  Male  </span>│<span style=\"color: #c0c0c0; text-decoration-color: #c0c0c0; font-weight: bold\">  10164.0   </span>│ 50.82 │\n",
       "├────────┼────────────┼───────┤\n",
       "│<span style=\"color: #c0c0c0; text-decoration-color: #c0c0c0; font-weight: bold\"> Total  </span>│<span style=\"color: #c0c0c0; text-decoration-color: #c0c0c0; font-weight: bold\">  19999.0   </span>│ 100.0 │\n",
       "└────────┴────────────┴───────┘\n",
       "</pre>\n"
      ],
      "text/plain": [
       "\u001b[1;33m        Tabulasi Gender        \u001b[0m\n",
       "┏━━━━━━━━┳━━━━━━━━━━━━┳━━━━━━━┓\n",
       "┃\u001b[1m \u001b[0m\u001b[1mcount \u001b[0m\u001b[1m \u001b[0m┃\u001b[1m \u001b[0m\u001b[1mPercentage\u001b[0m\u001b[1m \u001b[0m┃\u001b[1m \u001b[0m\u001b[1m     \u001b[0m\u001b[1m \u001b[0m┃\n",
       "┡━━━━━━━━╇━━━━━━━━━━━━╇━━━━━━━┩\n",
       "│\u001b[1;37m \u001b[0m\u001b[1;37mFemale\u001b[0m\u001b[1;37m \u001b[0m│\u001b[1;37m \u001b[0m\u001b[1;37m  9835.0  \u001b[0m\u001b[1;37m \u001b[0m│ 49.18 │\n",
       "├────────┼────────────┼───────┤\n",
       "│\u001b[1;37m \u001b[0m\u001b[1;37m Male \u001b[0m\u001b[1;37m \u001b[0m│\u001b[1;37m \u001b[0m\u001b[1;37m 10164.0  \u001b[0m\u001b[1;37m \u001b[0m│ 50.82 │\n",
       "├────────┼────────────┼───────┤\n",
       "│\u001b[1;37m \u001b[0m\u001b[1;37mTotal \u001b[0m\u001b[1;37m \u001b[0m│\u001b[1;37m \u001b[0m\u001b[1;37m 19999.0  \u001b[0m\u001b[1;37m \u001b[0m│ 100.0 │\n",
       "└────────┴────────────┴───────┘\n"
      ]
     },
     "metadata": {},
     "output_type": "display_data"
    },
    {
     "data": {
      "text/html": [
       "<pre style=\"white-space:pre;overflow-x:auto;line-height:normal;font-family:Menlo,'DejaVu Sans Mono',consolas,'Courier New',monospace\"><span style=\"color: #808000; text-decoration-color: #808000; font-weight: bold\">                                      Tabulasi Utama Berdasarkan Product Type                                      </span>\n",
       "┏━━━━━━━━━━━━━┳━━━━━━━━━━━━━━┳━━━━━━━━━━━━━━━┳━━━━━━━━━━━━━━━━━┳━━━━━━━━━━┳━━━━━━━━━━━━━━━━━━━━┳━━━━━━━━━━━━━━━━━━┓\n",
       "┃<span style=\"font-weight: bold\"> Product Ty… </span>┃<span style=\"font-weight: bold\"> Total_Reven… </span>┃<span style=\"font-weight: bold\"> Average_Rati… </span>┃<span style=\"font-weight: bold\"> Average_Quanti… </span>┃<span style=\"font-weight: bold\"> Buyer_A… </span>┃<span style=\"font-weight: bold\"> Average_Addon_Tot… </span>┃<span style=\"font-weight: bold\"> Transaction_Cou… </span>┃\n",
       "┡━━━━━━━━━━━━━╇━━━━━━━━━━━━━━╇━━━━━━━━━━━━━━━╇━━━━━━━━━━━━━━━━━╇━━━━━━━━━━╇━━━━━━━━━━━━━━━━━━━━╇━━━━━━━━━━━━━━━━━━┩\n",
       "│<span style=\"color: #c0c0c0; text-decoration-color: #c0c0c0; font-weight: bold\"> Headphones  </span>│<span style=\"color: #c0c0c0; text-decoration-color: #c0c0c0; font-weight: bold\">   $4,041k    </span>│<span style=\"color: #c0c0c0; text-decoration-color: #c0c0c0; font-weight: bold\">     2.99      </span>│<span style=\"color: #c0c0c0; text-decoration-color: #c0c0c0; font-weight: bold\">      5.56       </span>│<span style=\"color: #c0c0c0; text-decoration-color: #c0c0c0; font-weight: bold\">   48.2   </span>│<span style=\"color: #c0c0c0; text-decoration-color: #c0c0c0; font-weight: bold\">       $82.64       </span>│<span style=\"color: #c0c0c0; text-decoration-color: #c0c0c0; font-weight: bold\">       2011       </span>│\n",
       "├─────────────┼──────────────┼───────────────┼─────────────────┼──────────┼────────────────────┼──────────────────┤\n",
       "│<span style=\"color: #c0c0c0; text-decoration-color: #c0c0c0; font-weight: bold\">   Laptop    </span>│<span style=\"color: #c0c0c0; text-decoration-color: #c0c0c0; font-weight: bold\">   $12,296k   </span>│<span style=\"color: #c0c0c0; text-decoration-color: #c0c0c0; font-weight: bold\">     2.98      </span>│<span style=\"color: #c0c0c0; text-decoration-color: #c0c0c0; font-weight: bold\">      5.43       </span>│<span style=\"color: #c0c0c0; text-decoration-color: #c0c0c0; font-weight: bold\">   48.8   </span>│<span style=\"color: #c0c0c0; text-decoration-color: #c0c0c0; font-weight: bold\">       $62.93       </span>│<span style=\"color: #c0c0c0; text-decoration-color: #c0c0c0; font-weight: bold\">       3973       </span>│\n",
       "├─────────────┼──────────────┼───────────────┼─────────────────┼──────────┼────────────────────┼──────────────────┤\n",
       "│<span style=\"color: #c0c0c0; text-decoration-color: #c0c0c0; font-weight: bold\"> Smartphone  </span>│<span style=\"color: #c0c0c0; text-decoration-color: #c0c0c0; font-weight: bold\">   $21,517k   </span>│<span style=\"color: #c0c0c0; text-decoration-color: #c0c0c0; font-weight: bold\">     3.32      </span>│<span style=\"color: #c0c0c0; text-decoration-color: #c0c0c0; font-weight: bold\">      5.46       </span>│<span style=\"color: #c0c0c0; text-decoration-color: #c0c0c0; font-weight: bold\">   49.1   </span>│<span style=\"color: #c0c0c0; text-decoration-color: #c0c0c0; font-weight: bold\">       $55.37       </span>│<span style=\"color: #c0c0c0; text-decoration-color: #c0c0c0; font-weight: bold\">       5978       </span>│\n",
       "├─────────────┼──────────────┼───────────────┼─────────────────┼──────────┼────────────────────┼──────────────────┤\n",
       "│<span style=\"color: #c0c0c0; text-decoration-color: #c0c0c0; font-weight: bold\"> Smartwatch  </span>│<span style=\"color: #c0c0c0; text-decoration-color: #c0c0c0; font-weight: bold\">   $14,036k   </span>│<span style=\"color: #c0c0c0; text-decoration-color: #c0c0c0; font-weight: bold\">     2.99      </span>│<span style=\"color: #c0c0c0; text-decoration-color: #c0c0c0; font-weight: bold\">       5.5       </span>│<span style=\"color: #c0c0c0; text-decoration-color: #c0c0c0; font-weight: bold\">   49.3   </span>│<span style=\"color: #c0c0c0; text-decoration-color: #c0c0c0; font-weight: bold\">       $61.37       </span>│<span style=\"color: #c0c0c0; text-decoration-color: #c0c0c0; font-weight: bold\">       3934       </span>│\n",
       "├─────────────┼──────────────┼───────────────┼─────────────────┼──────────┼────────────────────┼──────────────────┤\n",
       "│<span style=\"color: #c0c0c0; text-decoration-color: #c0c0c0; font-weight: bold\">   Tablet    </span>│<span style=\"color: #c0c0c0; text-decoration-color: #c0c0c0; font-weight: bold\">   $11,712k   </span>│<span style=\"color: #c0c0c0; text-decoration-color: #c0c0c0; font-weight: bold\">     3.02      </span>│<span style=\"color: #c0c0c0; text-decoration-color: #c0c0c0; font-weight: bold\">      5.52       </span>│<span style=\"color: #c0c0c0; text-decoration-color: #c0c0c0; font-weight: bold\">   49.1   </span>│<span style=\"color: #c0c0c0; text-decoration-color: #c0c0c0; font-weight: bold\">       $62.44       </span>│<span style=\"color: #c0c0c0; text-decoration-color: #c0c0c0; font-weight: bold\">       4104       </span>│\n",
       "└─────────────┴──────────────┴───────────────┴─────────────────┴──────────┴────────────────────┴──────────────────┘\n",
       "</pre>\n"
      ],
      "text/plain": [
       "\u001b[1;33m                                      Tabulasi Utama Berdasarkan Product Type                                      \u001b[0m\n",
       "┏━━━━━━━━━━━━━┳━━━━━━━━━━━━━━┳━━━━━━━━━━━━━━━┳━━━━━━━━━━━━━━━━━┳━━━━━━━━━━┳━━━━━━━━━━━━━━━━━━━━┳━━━━━━━━━━━━━━━━━━┓\n",
       "┃\u001b[1m \u001b[0m\u001b[1mProduct Ty…\u001b[0m\u001b[1m \u001b[0m┃\u001b[1m \u001b[0m\u001b[1mTotal_Reven…\u001b[0m\u001b[1m \u001b[0m┃\u001b[1m \u001b[0m\u001b[1mAverage_Rati…\u001b[0m\u001b[1m \u001b[0m┃\u001b[1m \u001b[0m\u001b[1mAverage_Quanti…\u001b[0m\u001b[1m \u001b[0m┃\u001b[1m \u001b[0m\u001b[1mBuyer_A…\u001b[0m\u001b[1m \u001b[0m┃\u001b[1m \u001b[0m\u001b[1mAverage_Addon_Tot…\u001b[0m\u001b[1m \u001b[0m┃\u001b[1m \u001b[0m\u001b[1mTransaction_Cou…\u001b[0m\u001b[1m \u001b[0m┃\n",
       "┡━━━━━━━━━━━━━╇━━━━━━━━━━━━━━╇━━━━━━━━━━━━━━━╇━━━━━━━━━━━━━━━━━╇━━━━━━━━━━╇━━━━━━━━━━━━━━━━━━━━╇━━━━━━━━━━━━━━━━━━┩\n",
       "│\u001b[1;37m \u001b[0m\u001b[1;37mHeadphones \u001b[0m\u001b[1;37m \u001b[0m│\u001b[1;37m \u001b[0m\u001b[1;37m  $4,041k   \u001b[0m\u001b[1;37m \u001b[0m│\u001b[1;37m \u001b[0m\u001b[1;37m    2.99     \u001b[0m\u001b[1;37m \u001b[0m│\u001b[1;37m \u001b[0m\u001b[1;37m     5.56      \u001b[0m\u001b[1;37m \u001b[0m│\u001b[1;37m \u001b[0m\u001b[1;37m  48.2  \u001b[0m\u001b[1;37m \u001b[0m│\u001b[1;37m \u001b[0m\u001b[1;37m      $82.64      \u001b[0m\u001b[1;37m \u001b[0m│\u001b[1;37m \u001b[0m\u001b[1;37m      2011      \u001b[0m\u001b[1;37m \u001b[0m│\n",
       "├─────────────┼──────────────┼───────────────┼─────────────────┼──────────┼────────────────────┼──────────────────┤\n",
       "│\u001b[1;37m \u001b[0m\u001b[1;37m  Laptop   \u001b[0m\u001b[1;37m \u001b[0m│\u001b[1;37m \u001b[0m\u001b[1;37m  $12,296k  \u001b[0m\u001b[1;37m \u001b[0m│\u001b[1;37m \u001b[0m\u001b[1;37m    2.98     \u001b[0m\u001b[1;37m \u001b[0m│\u001b[1;37m \u001b[0m\u001b[1;37m     5.43      \u001b[0m\u001b[1;37m \u001b[0m│\u001b[1;37m \u001b[0m\u001b[1;37m  48.8  \u001b[0m\u001b[1;37m \u001b[0m│\u001b[1;37m \u001b[0m\u001b[1;37m      $62.93      \u001b[0m\u001b[1;37m \u001b[0m│\u001b[1;37m \u001b[0m\u001b[1;37m      3973      \u001b[0m\u001b[1;37m \u001b[0m│\n",
       "├─────────────┼──────────────┼───────────────┼─────────────────┼──────────┼────────────────────┼──────────────────┤\n",
       "│\u001b[1;37m \u001b[0m\u001b[1;37mSmartphone \u001b[0m\u001b[1;37m \u001b[0m│\u001b[1;37m \u001b[0m\u001b[1;37m  $21,517k  \u001b[0m\u001b[1;37m \u001b[0m│\u001b[1;37m \u001b[0m\u001b[1;37m    3.32     \u001b[0m\u001b[1;37m \u001b[0m│\u001b[1;37m \u001b[0m\u001b[1;37m     5.46      \u001b[0m\u001b[1;37m \u001b[0m│\u001b[1;37m \u001b[0m\u001b[1;37m  49.1  \u001b[0m\u001b[1;37m \u001b[0m│\u001b[1;37m \u001b[0m\u001b[1;37m      $55.37      \u001b[0m\u001b[1;37m \u001b[0m│\u001b[1;37m \u001b[0m\u001b[1;37m      5978      \u001b[0m\u001b[1;37m \u001b[0m│\n",
       "├─────────────┼──────────────┼───────────────┼─────────────────┼──────────┼────────────────────┼──────────────────┤\n",
       "│\u001b[1;37m \u001b[0m\u001b[1;37mSmartwatch \u001b[0m\u001b[1;37m \u001b[0m│\u001b[1;37m \u001b[0m\u001b[1;37m  $14,036k  \u001b[0m\u001b[1;37m \u001b[0m│\u001b[1;37m \u001b[0m\u001b[1;37m    2.99     \u001b[0m\u001b[1;37m \u001b[0m│\u001b[1;37m \u001b[0m\u001b[1;37m      5.5      \u001b[0m\u001b[1;37m \u001b[0m│\u001b[1;37m \u001b[0m\u001b[1;37m  49.3  \u001b[0m\u001b[1;37m \u001b[0m│\u001b[1;37m \u001b[0m\u001b[1;37m      $61.37      \u001b[0m\u001b[1;37m \u001b[0m│\u001b[1;37m \u001b[0m\u001b[1;37m      3934      \u001b[0m\u001b[1;37m \u001b[0m│\n",
       "├─────────────┼──────────────┼───────────────┼─────────────────┼──────────┼────────────────────┼──────────────────┤\n",
       "│\u001b[1;37m \u001b[0m\u001b[1;37m  Tablet   \u001b[0m\u001b[1;37m \u001b[0m│\u001b[1;37m \u001b[0m\u001b[1;37m  $11,712k  \u001b[0m\u001b[1;37m \u001b[0m│\u001b[1;37m \u001b[0m\u001b[1;37m    3.02     \u001b[0m\u001b[1;37m \u001b[0m│\u001b[1;37m \u001b[0m\u001b[1;37m     5.52      \u001b[0m\u001b[1;37m \u001b[0m│\u001b[1;37m \u001b[0m\u001b[1;37m  49.1  \u001b[0m\u001b[1;37m \u001b[0m│\u001b[1;37m \u001b[0m\u001b[1;37m      $62.44      \u001b[0m\u001b[1;37m \u001b[0m│\u001b[1;37m \u001b[0m\u001b[1;37m      4104      \u001b[0m\u001b[1;37m \u001b[0m│\n",
       "└─────────────┴──────────────┴───────────────┴─────────────────┴──────────┴────────────────────┴──────────────────┘\n"
      ]
     },
     "metadata": {},
     "output_type": "display_data"
    },
    {
     "data": {
      "text/html": [
       "<pre style=\"white-space:pre;overflow-x:auto;line-height:normal;font-family:Menlo,'DejaVu Sans Mono',consolas,'Courier New',monospace\"><span style=\"color: #808000; text-decoration-color: #808000; font-weight: bold\">                                                                                   Distribusi Frekuensi Shipping Type                                                                                   </span>\n",
       "┏━━━━━━━━━━━━━━━━━━━━┳━━━━━━━━━━━━━━━━━━━┳━━━━━━━━━━━━━━━━━┳━━━━━━━━━━━━━━━━┳━━━━━━━━━━━━━━━┳━━━━━━━━━━━━━━━━━━┳━━━━━━━━━━━━━━━━━┳━━━━━━━━━━━━━━━━━┳━━━━━━━━━━━━━━━━┳━━━━━━━━━━━━━━━━━┳━━━━━━━━━━━━━━━━┓\n",
       "┃<span style=\"font-weight: bold\">     Age_Group      </span>┃<span style=\"font-weight: bold\"> Expedited (Femal… </span>┃<span style=\"font-weight: bold\"> Expedited (Mal… </span>┃<span style=\"font-weight: bold\"> Express (Fema… </span>┃<span style=\"font-weight: bold\"> Express (Mal… </span>┃<span style=\"font-weight: bold\"> Overnight (Fema… </span>┃<span style=\"font-weight: bold\"> Overnight (Mal… </span>┃<span style=\"font-weight: bold\"> Same Day (Fema… </span>┃<span style=\"font-weight: bold\"> Same Day (Mal… </span>┃<span style=\"font-weight: bold\"> Standard (Fema… </span>┃<span style=\"font-weight: bold\"> Standard (Mal… </span>┃\n",
       "┡━━━━━━━━━━━━━━━━━━━━╇━━━━━━━━━━━━━━━━━━━╇━━━━━━━━━━━━━━━━━╇━━━━━━━━━━━━━━━━╇━━━━━━━━━━━━━━━╇━━━━━━━━━━━━━━━━━━╇━━━━━━━━━━━━━━━━━╇━━━━━━━━━━━━━━━━━╇━━━━━━━━━━━━━━━━╇━━━━━━━━━━━━━━━━━╇━━━━━━━━━━━━━━━━┩\n",
       "│<span style=\"color: #c0c0c0; text-decoration-color: #c0c0c0; font-weight: bold\"> 18-30 (Young Adul… </span>│<span style=\"color: #c0c0c0; text-decoration-color: #c0c0c0; font-weight: bold\">        331        </span>│<span style=\"color: #c0c0c0; text-decoration-color: #c0c0c0; font-weight: bold\">       354       </span>│<span style=\"color: #c0c0c0; text-decoration-color: #c0c0c0; font-weight: bold\">      339       </span>│<span style=\"color: #c0c0c0; text-decoration-color: #c0c0c0; font-weight: bold\">      332      </span>│<span style=\"color: #c0c0c0; text-decoration-color: #c0c0c0; font-weight: bold\">       345        </span>│<span style=\"color: #c0c0c0; text-decoration-color: #c0c0c0; font-weight: bold\">       326       </span>│<span style=\"color: #c0c0c0; text-decoration-color: #c0c0c0; font-weight: bold\">       329       </span>│<span style=\"color: #c0c0c0; text-decoration-color: #c0c0c0; font-weight: bold\">      360       </span>│<span style=\"color: #c0c0c0; text-decoration-color: #c0c0c0; font-weight: bold\">       702       </span>│<span style=\"color: #c0c0c0; text-decoration-color: #c0c0c0; font-weight: bold\">      650       </span>│\n",
       "├────────────────────┼───────────────────┼─────────────────┼────────────────┼───────────────┼──────────────────┼─────────────────┼─────────────────┼────────────────┼─────────────────┼────────────────┤\n",
       "│<span style=\"color: #c0c0c0; text-decoration-color: #c0c0c0; font-weight: bold\"> 31-44 (Middle Age) </span>│<span style=\"color: #c0c0c0; text-decoration-color: #c0c0c0; font-weight: bold\">        344        </span>│<span style=\"color: #c0c0c0; text-decoration-color: #c0c0c0; font-weight: bold\">       386       </span>│<span style=\"color: #c0c0c0; text-decoration-color: #c0c0c0; font-weight: bold\">      387       </span>│<span style=\"color: #c0c0c0; text-decoration-color: #c0c0c0; font-weight: bold\">      384      </span>│<span style=\"color: #c0c0c0; text-decoration-color: #c0c0c0; font-weight: bold\">       380        </span>│<span style=\"color: #c0c0c0; text-decoration-color: #c0c0c0; font-weight: bold\">       371       </span>│<span style=\"color: #c0c0c0; text-decoration-color: #c0c0c0; font-weight: bold\">       369       </span>│<span style=\"color: #c0c0c0; text-decoration-color: #c0c0c0; font-weight: bold\">      388       </span>│<span style=\"color: #c0c0c0; text-decoration-color: #c0c0c0; font-weight: bold\">       792       </span>│<span style=\"color: #c0c0c0; text-decoration-color: #c0c0c0; font-weight: bold\">      744       </span>│\n",
       "├────────────────────┼───────────────────┼─────────────────┼────────────────┼───────────────┼──────────────────┼─────────────────┼─────────────────┼────────────────┼─────────────────┼────────────────┤\n",
       "│<span style=\"color: #c0c0c0; text-decoration-color: #c0c0c0; font-weight: bold\"> 45-59 (Pre Senior) </span>│<span style=\"color: #c0c0c0; text-decoration-color: #c0c0c0; font-weight: bold\">        382        </span>│<span style=\"color: #c0c0c0; text-decoration-color: #c0c0c0; font-weight: bold\">       396       </span>│<span style=\"color: #c0c0c0; text-decoration-color: #c0c0c0; font-weight: bold\">      384       </span>│<span style=\"color: #c0c0c0; text-decoration-color: #c0c0c0; font-weight: bold\">      420      </span>│<span style=\"color: #c0c0c0; text-decoration-color: #c0c0c0; font-weight: bold\">       393        </span>│<span style=\"color: #c0c0c0; text-decoration-color: #c0c0c0; font-weight: bold\">       426       </span>│<span style=\"color: #c0c0c0; text-decoration-color: #c0c0c0; font-weight: bold\">       381       </span>│<span style=\"color: #c0c0c0; text-decoration-color: #c0c0c0; font-weight: bold\">      397       </span>│<span style=\"color: #c0c0c0; text-decoration-color: #c0c0c0; font-weight: bold\">       732       </span>│<span style=\"color: #c0c0c0; text-decoration-color: #c0c0c0; font-weight: bold\">      831       </span>│\n",
       "├────────────────────┼───────────────────┼─────────────────┼────────────────┼───────────────┼──────────────────┼─────────────────┼─────────────────┼────────────────┼─────────────────┼────────────────┤\n",
       "│<span style=\"color: #c0c0c0; text-decoration-color: #c0c0c0; font-weight: bold\">    60+ (Senior)    </span>│<span style=\"color: #c0c0c0; text-decoration-color: #c0c0c0; font-weight: bold\">        526        </span>│<span style=\"color: #c0c0c0; text-decoration-color: #c0c0c0; font-weight: bold\">       552       </span>│<span style=\"color: #c0c0c0; text-decoration-color: #c0c0c0; font-weight: bold\">      565       </span>│<span style=\"color: #c0c0c0; text-decoration-color: #c0c0c0; font-weight: bold\">      555      </span>│<span style=\"color: #c0c0c0; text-decoration-color: #c0c0c0; font-weight: bold\">       519        </span>│<span style=\"color: #c0c0c0; text-decoration-color: #c0c0c0; font-weight: bold\">       597       </span>│<span style=\"color: #c0c0c0; text-decoration-color: #c0c0c0; font-weight: bold\">       510       </span>│<span style=\"color: #c0c0c0; text-decoration-color: #c0c0c0; font-weight: bold\">      546       </span>│<span style=\"color: #c0c0c0; text-decoration-color: #c0c0c0; font-weight: bold\">      1125       </span>│<span style=\"color: #c0c0c0; text-decoration-color: #c0c0c0; font-weight: bold\">      1149      </span>│\n",
       "└────────────────────┴───────────────────┴─────────────────┴────────────────┴───────────────┴──────────────────┴─────────────────┴─────────────────┴────────────────┴─────────────────┴────────────────┘\n",
       "</pre>\n"
      ],
      "text/plain": [
       "\u001b[1;33m                                                                                   Distribusi Frekuensi Shipping Type                                                                                   \u001b[0m\n",
       "┏━━━━━━━━━━━━━━━━━━━━┳━━━━━━━━━━━━━━━━━━━┳━━━━━━━━━━━━━━━━━┳━━━━━━━━━━━━━━━━┳━━━━━━━━━━━━━━━┳━━━━━━━━━━━━━━━━━━┳━━━━━━━━━━━━━━━━━┳━━━━━━━━━━━━━━━━━┳━━━━━━━━━━━━━━━━┳━━━━━━━━━━━━━━━━━┳━━━━━━━━━━━━━━━━┓\n",
       "┃\u001b[1m \u001b[0m\u001b[1m    Age_Group     \u001b[0m\u001b[1m \u001b[0m┃\u001b[1m \u001b[0m\u001b[1mExpedited (Femal…\u001b[0m\u001b[1m \u001b[0m┃\u001b[1m \u001b[0m\u001b[1mExpedited (Mal…\u001b[0m\u001b[1m \u001b[0m┃\u001b[1m \u001b[0m\u001b[1mExpress (Fema…\u001b[0m\u001b[1m \u001b[0m┃\u001b[1m \u001b[0m\u001b[1mExpress (Mal…\u001b[0m\u001b[1m \u001b[0m┃\u001b[1m \u001b[0m\u001b[1mOvernight (Fema…\u001b[0m\u001b[1m \u001b[0m┃\u001b[1m \u001b[0m\u001b[1mOvernight (Mal…\u001b[0m\u001b[1m \u001b[0m┃\u001b[1m \u001b[0m\u001b[1mSame Day (Fema…\u001b[0m\u001b[1m \u001b[0m┃\u001b[1m \u001b[0m\u001b[1mSame Day (Mal…\u001b[0m\u001b[1m \u001b[0m┃\u001b[1m \u001b[0m\u001b[1mStandard (Fema…\u001b[0m\u001b[1m \u001b[0m┃\u001b[1m \u001b[0m\u001b[1mStandard (Mal…\u001b[0m\u001b[1m \u001b[0m┃\n",
       "┡━━━━━━━━━━━━━━━━━━━━╇━━━━━━━━━━━━━━━━━━━╇━━━━━━━━━━━━━━━━━╇━━━━━━━━━━━━━━━━╇━━━━━━━━━━━━━━━╇━━━━━━━━━━━━━━━━━━╇━━━━━━━━━━━━━━━━━╇━━━━━━━━━━━━━━━━━╇━━━━━━━━━━━━━━━━╇━━━━━━━━━━━━━━━━━╇━━━━━━━━━━━━━━━━┩\n",
       "│\u001b[1;37m \u001b[0m\u001b[1;37m18-30 (Young Adul…\u001b[0m\u001b[1;37m \u001b[0m│\u001b[1;37m \u001b[0m\u001b[1;37m       331       \u001b[0m\u001b[1;37m \u001b[0m│\u001b[1;37m \u001b[0m\u001b[1;37m      354      \u001b[0m\u001b[1;37m \u001b[0m│\u001b[1;37m \u001b[0m\u001b[1;37m     339      \u001b[0m\u001b[1;37m \u001b[0m│\u001b[1;37m \u001b[0m\u001b[1;37m     332     \u001b[0m\u001b[1;37m \u001b[0m│\u001b[1;37m \u001b[0m\u001b[1;37m      345       \u001b[0m\u001b[1;37m \u001b[0m│\u001b[1;37m \u001b[0m\u001b[1;37m      326      \u001b[0m\u001b[1;37m \u001b[0m│\u001b[1;37m \u001b[0m\u001b[1;37m      329      \u001b[0m\u001b[1;37m \u001b[0m│\u001b[1;37m \u001b[0m\u001b[1;37m     360      \u001b[0m\u001b[1;37m \u001b[0m│\u001b[1;37m \u001b[0m\u001b[1;37m      702      \u001b[0m\u001b[1;37m \u001b[0m│\u001b[1;37m \u001b[0m\u001b[1;37m     650      \u001b[0m\u001b[1;37m \u001b[0m│\n",
       "├────────────────────┼───────────────────┼─────────────────┼────────────────┼───────────────┼──────────────────┼─────────────────┼─────────────────┼────────────────┼─────────────────┼────────────────┤\n",
       "│\u001b[1;37m \u001b[0m\u001b[1;37m31-44 (Middle Age)\u001b[0m\u001b[1;37m \u001b[0m│\u001b[1;37m \u001b[0m\u001b[1;37m       344       \u001b[0m\u001b[1;37m \u001b[0m│\u001b[1;37m \u001b[0m\u001b[1;37m      386      \u001b[0m\u001b[1;37m \u001b[0m│\u001b[1;37m \u001b[0m\u001b[1;37m     387      \u001b[0m\u001b[1;37m \u001b[0m│\u001b[1;37m \u001b[0m\u001b[1;37m     384     \u001b[0m\u001b[1;37m \u001b[0m│\u001b[1;37m \u001b[0m\u001b[1;37m      380       \u001b[0m\u001b[1;37m \u001b[0m│\u001b[1;37m \u001b[0m\u001b[1;37m      371      \u001b[0m\u001b[1;37m \u001b[0m│\u001b[1;37m \u001b[0m\u001b[1;37m      369      \u001b[0m\u001b[1;37m \u001b[0m│\u001b[1;37m \u001b[0m\u001b[1;37m     388      \u001b[0m\u001b[1;37m \u001b[0m│\u001b[1;37m \u001b[0m\u001b[1;37m      792      \u001b[0m\u001b[1;37m \u001b[0m│\u001b[1;37m \u001b[0m\u001b[1;37m     744      \u001b[0m\u001b[1;37m \u001b[0m│\n",
       "├────────────────────┼───────────────────┼─────────────────┼────────────────┼───────────────┼──────────────────┼─────────────────┼─────────────────┼────────────────┼─────────────────┼────────────────┤\n",
       "│\u001b[1;37m \u001b[0m\u001b[1;37m45-59 (Pre Senior)\u001b[0m\u001b[1;37m \u001b[0m│\u001b[1;37m \u001b[0m\u001b[1;37m       382       \u001b[0m\u001b[1;37m \u001b[0m│\u001b[1;37m \u001b[0m\u001b[1;37m      396      \u001b[0m\u001b[1;37m \u001b[0m│\u001b[1;37m \u001b[0m\u001b[1;37m     384      \u001b[0m\u001b[1;37m \u001b[0m│\u001b[1;37m \u001b[0m\u001b[1;37m     420     \u001b[0m\u001b[1;37m \u001b[0m│\u001b[1;37m \u001b[0m\u001b[1;37m      393       \u001b[0m\u001b[1;37m \u001b[0m│\u001b[1;37m \u001b[0m\u001b[1;37m      426      \u001b[0m\u001b[1;37m \u001b[0m│\u001b[1;37m \u001b[0m\u001b[1;37m      381      \u001b[0m\u001b[1;37m \u001b[0m│\u001b[1;37m \u001b[0m\u001b[1;37m     397      \u001b[0m\u001b[1;37m \u001b[0m│\u001b[1;37m \u001b[0m\u001b[1;37m      732      \u001b[0m\u001b[1;37m \u001b[0m│\u001b[1;37m \u001b[0m\u001b[1;37m     831      \u001b[0m\u001b[1;37m \u001b[0m│\n",
       "├────────────────────┼───────────────────┼─────────────────┼────────────────┼───────────────┼──────────────────┼─────────────────┼─────────────────┼────────────────┼─────────────────┼────────────────┤\n",
       "│\u001b[1;37m \u001b[0m\u001b[1;37m   60+ (Senior)   \u001b[0m\u001b[1;37m \u001b[0m│\u001b[1;37m \u001b[0m\u001b[1;37m       526       \u001b[0m\u001b[1;37m \u001b[0m│\u001b[1;37m \u001b[0m\u001b[1;37m      552      \u001b[0m\u001b[1;37m \u001b[0m│\u001b[1;37m \u001b[0m\u001b[1;37m     565      \u001b[0m\u001b[1;37m \u001b[0m│\u001b[1;37m \u001b[0m\u001b[1;37m     555     \u001b[0m\u001b[1;37m \u001b[0m│\u001b[1;37m \u001b[0m\u001b[1;37m      519       \u001b[0m\u001b[1;37m \u001b[0m│\u001b[1;37m \u001b[0m\u001b[1;37m      597      \u001b[0m\u001b[1;37m \u001b[0m│\u001b[1;37m \u001b[0m\u001b[1;37m      510      \u001b[0m\u001b[1;37m \u001b[0m│\u001b[1;37m \u001b[0m\u001b[1;37m     546      \u001b[0m\u001b[1;37m \u001b[0m│\u001b[1;37m \u001b[0m\u001b[1;37m     1125      \u001b[0m\u001b[1;37m \u001b[0m│\u001b[1;37m \u001b[0m\u001b[1;37m     1149     \u001b[0m\u001b[1;37m \u001b[0m│\n",
       "└────────────────────┴───────────────────┴─────────────────┴────────────────┴───────────────┴──────────────────┴─────────────────┴─────────────────┴────────────────┴─────────────────┴────────────────┘\n"
      ]
     },
     "metadata": {},
     "output_type": "display_data"
    },
    {
     "data": {
      "text/html": [
       "<pre style=\"white-space:pre;overflow-x:auto;line-height:normal;font-family:Menlo,'DejaVu Sans Mono',consolas,'Courier New',monospace\"><span style=\"color: #00ff00; text-decoration-color: #00ff00\">─ </span><span style=\"color: #808000; text-decoration-color: #808000; font-weight: bold\">Distribusi Frekuensi Payment Method terhadap Kelompok Usia Perempuan dan La…</span><span style=\"color: #00ff00; text-decoration-color: #00ff00\"> ─</span>\n",
       "</pre>\n"
      ],
      "text/plain": [
       "\u001b[92m─ \u001b[0m\u001b[1;33mDistribusi Frekuensi Payment Method terhadap Kelompok Usia Perempuan dan La…\u001b[0m\u001b[92m ─\u001b[0m\n"
      ]
     },
     "metadata": {},
     "output_type": "display_data"
    },
    {
     "data": {
      "text/html": [
       "<pre style=\"white-space:pre;overflow-x:auto;line-height:normal;font-family:Menlo,'DejaVu Sans Mono',consolas,'Courier New',monospace\">Payment Method       Bank Transfer  Cash  Credit Card  Debit Card  PayPal  \\\n",
       "Age_Group                                                                   \n",
       "<span style=\"color: #008080; text-decoration-color: #008080; font-weight: bold\">18</span>-<span style=\"color: #008080; text-decoration-color: #008080; font-weight: bold\">30</span> <span style=\"font-weight: bold\">(</span>Young Adult<span style=\"font-weight: bold\">)</span>            <span style=\"color: #008080; text-decoration-color: #008080; font-weight: bold\">323</span>   <span style=\"color: #008080; text-decoration-color: #008080; font-weight: bold\">251</span>          <span style=\"color: #008080; text-decoration-color: #008080; font-weight: bold\">618</span>         <span style=\"color: #008080; text-decoration-color: #008080; font-weight: bold\">269</span>     <span style=\"color: #008080; text-decoration-color: #008080; font-weight: bold\">353</span>   \n",
       "<span style=\"color: #008080; text-decoration-color: #008080; font-weight: bold\">31</span>-<span style=\"color: #008080; text-decoration-color: #008080; font-weight: bold\">44</span> <span style=\"font-weight: bold\">(</span>Middle Age<span style=\"font-weight: bold\">)</span>             <span style=\"color: #008080; text-decoration-color: #008080; font-weight: bold\">366</span>   <span style=\"color: #008080; text-decoration-color: #008080; font-weight: bold\">300</span>          <span style=\"color: #008080; text-decoration-color: #008080; font-weight: bold\">627</span>         <span style=\"color: #008080; text-decoration-color: #008080; font-weight: bold\">291</span>     <span style=\"color: #008080; text-decoration-color: #008080; font-weight: bold\">401</span>   \n",
       "<span style=\"color: #008080; text-decoration-color: #008080; font-weight: bold\">45</span>-<span style=\"color: #008080; text-decoration-color: #008080; font-weight: bold\">59</span> <span style=\"font-weight: bold\">(</span>Pre Senior<span style=\"font-weight: bold\">)</span>             <span style=\"color: #008080; text-decoration-color: #008080; font-weight: bold\">392</span>   <span style=\"color: #008080; text-decoration-color: #008080; font-weight: bold\">303</span>          <span style=\"color: #008080; text-decoration-color: #008080; font-weight: bold\">660</span>         <span style=\"color: #008080; text-decoration-color: #008080; font-weight: bold\">268</span>     <span style=\"color: #008080; text-decoration-color: #008080; font-weight: bold\">374</span>   \n",
       "<span style=\"color: #008080; text-decoration-color: #008080; font-weight: bold\">60</span>+ <span style=\"font-weight: bold\">(</span>Senior<span style=\"font-weight: bold\">)</span>                   <span style=\"color: #008080; text-decoration-color: #008080; font-weight: bold\">511</span>   <span style=\"color: #008080; text-decoration-color: #008080; font-weight: bold\">433</span>          <span style=\"color: #008080; text-decoration-color: #008080; font-weight: bold\">966</span>         <span style=\"color: #008080; text-decoration-color: #008080; font-weight: bold\">404</span>     <span style=\"color: #008080; text-decoration-color: #008080; font-weight: bold\">524</span>   \n",
       "\n",
       "Payment Method       Paypal  \n",
       "Age_Group                    \n",
       "<span style=\"color: #008080; text-decoration-color: #008080; font-weight: bold\">18</span>-<span style=\"color: #008080; text-decoration-color: #008080; font-weight: bold\">30</span> <span style=\"font-weight: bold\">(</span>Young Adult<span style=\"font-weight: bold\">)</span>     <span style=\"color: #008080; text-decoration-color: #008080; font-weight: bold\">232</span>  \n",
       "<span style=\"color: #008080; text-decoration-color: #008080; font-weight: bold\">31</span>-<span style=\"color: #008080; text-decoration-color: #008080; font-weight: bold\">44</span> <span style=\"font-weight: bold\">(</span>Middle Age<span style=\"font-weight: bold\">)</span>      <span style=\"color: #008080; text-decoration-color: #008080; font-weight: bold\">287</span>  \n",
       "<span style=\"color: #008080; text-decoration-color: #008080; font-weight: bold\">45</span>-<span style=\"color: #008080; text-decoration-color: #008080; font-weight: bold\">59</span> <span style=\"font-weight: bold\">(</span>Pre Senior<span style=\"font-weight: bold\">)</span>      <span style=\"color: #008080; text-decoration-color: #008080; font-weight: bold\">275</span>  \n",
       "<span style=\"color: #008080; text-decoration-color: #008080; font-weight: bold\">60</span>+ <span style=\"font-weight: bold\">(</span>Senior<span style=\"font-weight: bold\">)</span>            <span style=\"color: #008080; text-decoration-color: #008080; font-weight: bold\">407</span>  \n",
       "</pre>\n"
      ],
      "text/plain": [
       "Payment Method       Bank Transfer  Cash  Credit Card  Debit Card  PayPal  \\\n",
       "Age_Group                                                                   \n",
       "\u001b[1;36m18\u001b[0m-\u001b[1;36m30\u001b[0m \u001b[1m(\u001b[0mYoung Adult\u001b[1m)\u001b[0m            \u001b[1;36m323\u001b[0m   \u001b[1;36m251\u001b[0m          \u001b[1;36m618\u001b[0m         \u001b[1;36m269\u001b[0m     \u001b[1;36m353\u001b[0m   \n",
       "\u001b[1;36m31\u001b[0m-\u001b[1;36m44\u001b[0m \u001b[1m(\u001b[0mMiddle Age\u001b[1m)\u001b[0m             \u001b[1;36m366\u001b[0m   \u001b[1;36m300\u001b[0m          \u001b[1;36m627\u001b[0m         \u001b[1;36m291\u001b[0m     \u001b[1;36m401\u001b[0m   \n",
       "\u001b[1;36m45\u001b[0m-\u001b[1;36m59\u001b[0m \u001b[1m(\u001b[0mPre Senior\u001b[1m)\u001b[0m             \u001b[1;36m392\u001b[0m   \u001b[1;36m303\u001b[0m          \u001b[1;36m660\u001b[0m         \u001b[1;36m268\u001b[0m     \u001b[1;36m374\u001b[0m   \n",
       "\u001b[1;36m60\u001b[0m+ \u001b[1m(\u001b[0mSenior\u001b[1m)\u001b[0m                   \u001b[1;36m511\u001b[0m   \u001b[1;36m433\u001b[0m          \u001b[1;36m966\u001b[0m         \u001b[1;36m404\u001b[0m     \u001b[1;36m524\u001b[0m   \n",
       "\n",
       "Payment Method       Paypal  \n",
       "Age_Group                    \n",
       "\u001b[1;36m18\u001b[0m-\u001b[1;36m30\u001b[0m \u001b[1m(\u001b[0mYoung Adult\u001b[1m)\u001b[0m     \u001b[1;36m232\u001b[0m  \n",
       "\u001b[1;36m31\u001b[0m-\u001b[1;36m44\u001b[0m \u001b[1m(\u001b[0mMiddle Age\u001b[1m)\u001b[0m      \u001b[1;36m287\u001b[0m  \n",
       "\u001b[1;36m45\u001b[0m-\u001b[1;36m59\u001b[0m \u001b[1m(\u001b[0mPre Senior\u001b[1m)\u001b[0m      \u001b[1;36m275\u001b[0m  \n",
       "\u001b[1;36m60\u001b[0m+ \u001b[1m(\u001b[0mSenior\u001b[1m)\u001b[0m            \u001b[1;36m407\u001b[0m  \n"
      ]
     },
     "metadata": {},
     "output_type": "display_data"
    },
    {
     "data": {
      "text/html": [
       "<pre style=\"white-space:pre;overflow-x:auto;line-height:normal;font-family:Menlo,'DejaVu Sans Mono',consolas,'Courier New',monospace\">Payment Method       Bank Transfer  Cash  Credit Card  Debit Card  PayPal  \\\n",
       "Age_Group                                                                   \n",
       "<span style=\"color: #008080; text-decoration-color: #008080; font-weight: bold\">18</span>-<span style=\"color: #008080; text-decoration-color: #008080; font-weight: bold\">30</span> <span style=\"font-weight: bold\">(</span>Young Adult<span style=\"font-weight: bold\">)</span>            <span style=\"color: #008080; text-decoration-color: #008080; font-weight: bold\">352</span>   <span style=\"color: #008080; text-decoration-color: #008080; font-weight: bold\">232</span>          <span style=\"color: #008080; text-decoration-color: #008080; font-weight: bold\">601</span>         <span style=\"color: #008080; text-decoration-color: #008080; font-weight: bold\">229</span>     <span style=\"color: #008080; text-decoration-color: #008080; font-weight: bold\">336</span>   \n",
       "<span style=\"color: #008080; text-decoration-color: #008080; font-weight: bold\">31</span>-<span style=\"color: #008080; text-decoration-color: #008080; font-weight: bold\">44</span> <span style=\"font-weight: bold\">(</span>Middle Age<span style=\"font-weight: bold\">)</span>             <span style=\"color: #008080; text-decoration-color: #008080; font-weight: bold\">410</span>   <span style=\"color: #008080; text-decoration-color: #008080; font-weight: bold\">261</span>          <span style=\"color: #008080; text-decoration-color: #008080; font-weight: bold\">653</span>         <span style=\"color: #008080; text-decoration-color: #008080; font-weight: bold\">310</span>     <span style=\"color: #008080; text-decoration-color: #008080; font-weight: bold\">379</span>   \n",
       "<span style=\"color: #008080; text-decoration-color: #008080; font-weight: bold\">45</span>-<span style=\"color: #008080; text-decoration-color: #008080; font-weight: bold\">59</span> <span style=\"font-weight: bold\">(</span>Pre Senior<span style=\"font-weight: bold\">)</span>             <span style=\"color: #008080; text-decoration-color: #008080; font-weight: bold\">428</span>   <span style=\"color: #008080; text-decoration-color: #008080; font-weight: bold\">299</span>          <span style=\"color: #008080; text-decoration-color: #008080; font-weight: bold\">738</span>         <span style=\"color: #008080; text-decoration-color: #008080; font-weight: bold\">288</span>     <span style=\"color: #008080; text-decoration-color: #008080; font-weight: bold\">383</span>   \n",
       "<span style=\"color: #008080; text-decoration-color: #008080; font-weight: bold\">60</span>+ <span style=\"font-weight: bold\">(</span>Senior<span style=\"font-weight: bold\">)</span>                   <span style=\"color: #008080; text-decoration-color: #008080; font-weight: bold\">588</span>   <span style=\"color: #008080; text-decoration-color: #008080; font-weight: bold\">413</span>         <span style=\"color: #008080; text-decoration-color: #008080; font-weight: bold\">1005</span>         <span style=\"color: #008080; text-decoration-color: #008080; font-weight: bold\">412</span>     <span style=\"color: #008080; text-decoration-color: #008080; font-weight: bold\">534</span>   \n",
       "\n",
       "Payment Method       Paypal  \n",
       "Age_Group                    \n",
       "<span style=\"color: #008080; text-decoration-color: #008080; font-weight: bold\">18</span>-<span style=\"color: #008080; text-decoration-color: #008080; font-weight: bold\">30</span> <span style=\"font-weight: bold\">(</span>Young Adult<span style=\"font-weight: bold\">)</span>     <span style=\"color: #008080; text-decoration-color: #008080; font-weight: bold\">272</span>  \n",
       "<span style=\"color: #008080; text-decoration-color: #008080; font-weight: bold\">31</span>-<span style=\"color: #008080; text-decoration-color: #008080; font-weight: bold\">44</span> <span style=\"font-weight: bold\">(</span>Middle Age<span style=\"font-weight: bold\">)</span>      <span style=\"color: #008080; text-decoration-color: #008080; font-weight: bold\">260</span>  \n",
       "<span style=\"color: #008080; text-decoration-color: #008080; font-weight: bold\">45</span>-<span style=\"color: #008080; text-decoration-color: #008080; font-weight: bold\">59</span> <span style=\"font-weight: bold\">(</span>Pre Senior<span style=\"font-weight: bold\">)</span>      <span style=\"color: #008080; text-decoration-color: #008080; font-weight: bold\">334</span>  \n",
       "<span style=\"color: #008080; text-decoration-color: #008080; font-weight: bold\">60</span>+ <span style=\"font-weight: bold\">(</span>Senior<span style=\"font-weight: bold\">)</span>            <span style=\"color: #008080; text-decoration-color: #008080; font-weight: bold\">447</span>  \n",
       "</pre>\n"
      ],
      "text/plain": [
       "Payment Method       Bank Transfer  Cash  Credit Card  Debit Card  PayPal  \\\n",
       "Age_Group                                                                   \n",
       "\u001b[1;36m18\u001b[0m-\u001b[1;36m30\u001b[0m \u001b[1m(\u001b[0mYoung Adult\u001b[1m)\u001b[0m            \u001b[1;36m352\u001b[0m   \u001b[1;36m232\u001b[0m          \u001b[1;36m601\u001b[0m         \u001b[1;36m229\u001b[0m     \u001b[1;36m336\u001b[0m   \n",
       "\u001b[1;36m31\u001b[0m-\u001b[1;36m44\u001b[0m \u001b[1m(\u001b[0mMiddle Age\u001b[1m)\u001b[0m             \u001b[1;36m410\u001b[0m   \u001b[1;36m261\u001b[0m          \u001b[1;36m653\u001b[0m         \u001b[1;36m310\u001b[0m     \u001b[1;36m379\u001b[0m   \n",
       "\u001b[1;36m45\u001b[0m-\u001b[1;36m59\u001b[0m \u001b[1m(\u001b[0mPre Senior\u001b[1m)\u001b[0m             \u001b[1;36m428\u001b[0m   \u001b[1;36m299\u001b[0m          \u001b[1;36m738\u001b[0m         \u001b[1;36m288\u001b[0m     \u001b[1;36m383\u001b[0m   \n",
       "\u001b[1;36m60\u001b[0m+ \u001b[1m(\u001b[0mSenior\u001b[1m)\u001b[0m                   \u001b[1;36m588\u001b[0m   \u001b[1;36m413\u001b[0m         \u001b[1;36m1005\u001b[0m         \u001b[1;36m412\u001b[0m     \u001b[1;36m534\u001b[0m   \n",
       "\n",
       "Payment Method       Paypal  \n",
       "Age_Group                    \n",
       "\u001b[1;36m18\u001b[0m-\u001b[1;36m30\u001b[0m \u001b[1m(\u001b[0mYoung Adult\u001b[1m)\u001b[0m     \u001b[1;36m272\u001b[0m  \n",
       "\u001b[1;36m31\u001b[0m-\u001b[1;36m44\u001b[0m \u001b[1m(\u001b[0mMiddle Age\u001b[1m)\u001b[0m      \u001b[1;36m260\u001b[0m  \n",
       "\u001b[1;36m45\u001b[0m-\u001b[1;36m59\u001b[0m \u001b[1m(\u001b[0mPre Senior\u001b[1m)\u001b[0m      \u001b[1;36m334\u001b[0m  \n",
       "\u001b[1;36m60\u001b[0m+ \u001b[1m(\u001b[0mSenior\u001b[1m)\u001b[0m            \u001b[1;36m447\u001b[0m  \n"
      ]
     },
     "metadata": {},
     "output_type": "display_data"
    },
    {
     "data": {
      "text/html": [
       "<pre style=\"white-space:pre;overflow-x:auto;line-height:normal;font-family:Menlo,'DejaVu Sans Mono',consolas,'Courier New',monospace\"><span style=\"color: #00ff00; text-decoration-color: #00ff00\">─ </span><span style=\"color: #808000; text-decoration-color: #808000; font-weight: bold\">Distribusi Frekuensi Product Type terhadap Kelompok Usia Perempuan dan Laki…</span><span style=\"color: #00ff00; text-decoration-color: #00ff00\"> ─</span>\n",
       "</pre>\n"
      ],
      "text/plain": [
       "\u001b[92m─ \u001b[0m\u001b[1;33mDistribusi Frekuensi Product Type terhadap Kelompok Usia Perempuan dan Laki…\u001b[0m\u001b[92m ─\u001b[0m\n"
      ]
     },
     "metadata": {},
     "output_type": "display_data"
    },
    {
     "data": {
      "text/html": [
       "<pre style=\"white-space:pre;overflow-x:auto;line-height:normal;font-family:Menlo,'DejaVu Sans Mono',consolas,'Courier New',monospace\">Distribusi Frekuensi Product Type untuk Kelompok Usia Perempuan:\n",
       "</pre>\n"
      ],
      "text/plain": [
       "Distribusi Frekuensi Product Type untuk Kelompok Usia Perempuan:\n"
      ]
     },
     "metadata": {},
     "output_type": "display_data"
    },
    {
     "data": {
      "text/html": [
       "<pre style=\"white-space:pre;overflow-x:auto;line-height:normal;font-family:Menlo,'DejaVu Sans Mono',consolas,'Courier New',monospace\">Product Type         Headphones  Laptop  Smartphone  Smartwatch  Tablet\n",
       "Age_Group                                                              \n",
       "<span style=\"color: #008080; text-decoration-color: #008080; font-weight: bold\">18</span>-<span style=\"color: #008080; text-decoration-color: #008080; font-weight: bold\">30</span> <span style=\"font-weight: bold\">(</span>Young Adult<span style=\"font-weight: bold\">)</span>         <span style=\"color: #008080; text-decoration-color: #008080; font-weight: bold\">207</span>     <span style=\"color: #008080; text-decoration-color: #008080; font-weight: bold\">420</span>         <span style=\"color: #008080; text-decoration-color: #008080; font-weight: bold\">606</span>         <span style=\"color: #008080; text-decoration-color: #008080; font-weight: bold\">400</span>     <span style=\"color: #008080; text-decoration-color: #008080; font-weight: bold\">413</span>\n",
       "<span style=\"color: #008080; text-decoration-color: #008080; font-weight: bold\">31</span>-<span style=\"color: #008080; text-decoration-color: #008080; font-weight: bold\">44</span> <span style=\"font-weight: bold\">(</span>Middle Age<span style=\"font-weight: bold\">)</span>          <span style=\"color: #008080; text-decoration-color: #008080; font-weight: bold\">211</span>     <span style=\"color: #008080; text-decoration-color: #008080; font-weight: bold\">444</span>         <span style=\"color: #008080; text-decoration-color: #008080; font-weight: bold\">708</span>         <span style=\"color: #008080; text-decoration-color: #008080; font-weight: bold\">441</span>     <span style=\"color: #008080; text-decoration-color: #008080; font-weight: bold\">468</span>\n",
       "<span style=\"color: #008080; text-decoration-color: #008080; font-weight: bold\">45</span>-<span style=\"color: #008080; text-decoration-color: #008080; font-weight: bold\">59</span> <span style=\"font-weight: bold\">(</span>Pre Senior<span style=\"font-weight: bold\">)</span>          <span style=\"color: #008080; text-decoration-color: #008080; font-weight: bold\">241</span>     <span style=\"color: #008080; text-decoration-color: #008080; font-weight: bold\">469</span>         <span style=\"color: #008080; text-decoration-color: #008080; font-weight: bold\">685</span>         <span style=\"color: #008080; text-decoration-color: #008080; font-weight: bold\">416</span>     <span style=\"color: #008080; text-decoration-color: #008080; font-weight: bold\">461</span>\n",
       "<span style=\"color: #008080; text-decoration-color: #008080; font-weight: bold\">60</span>+ <span style=\"font-weight: bold\">(</span>Senior<span style=\"font-weight: bold\">)</span>                <span style=\"color: #008080; text-decoration-color: #008080; font-weight: bold\">308</span>     <span style=\"color: #008080; text-decoration-color: #008080; font-weight: bold\">638</span>         <span style=\"color: #008080; text-decoration-color: #008080; font-weight: bold\">981</span>         <span style=\"color: #008080; text-decoration-color: #008080; font-weight: bold\">644</span>     <span style=\"color: #008080; text-decoration-color: #008080; font-weight: bold\">674</span>\n",
       "</pre>\n"
      ],
      "text/plain": [
       "Product Type         Headphones  Laptop  Smartphone  Smartwatch  Tablet\n",
       "Age_Group                                                              \n",
       "\u001b[1;36m18\u001b[0m-\u001b[1;36m30\u001b[0m \u001b[1m(\u001b[0mYoung Adult\u001b[1m)\u001b[0m         \u001b[1;36m207\u001b[0m     \u001b[1;36m420\u001b[0m         \u001b[1;36m606\u001b[0m         \u001b[1;36m400\u001b[0m     \u001b[1;36m413\u001b[0m\n",
       "\u001b[1;36m31\u001b[0m-\u001b[1;36m44\u001b[0m \u001b[1m(\u001b[0mMiddle Age\u001b[1m)\u001b[0m          \u001b[1;36m211\u001b[0m     \u001b[1;36m444\u001b[0m         \u001b[1;36m708\u001b[0m         \u001b[1;36m441\u001b[0m     \u001b[1;36m468\u001b[0m\n",
       "\u001b[1;36m45\u001b[0m-\u001b[1;36m59\u001b[0m \u001b[1m(\u001b[0mPre Senior\u001b[1m)\u001b[0m          \u001b[1;36m241\u001b[0m     \u001b[1;36m469\u001b[0m         \u001b[1;36m685\u001b[0m         \u001b[1;36m416\u001b[0m     \u001b[1;36m461\u001b[0m\n",
       "\u001b[1;36m60\u001b[0m+ \u001b[1m(\u001b[0mSenior\u001b[1m)\u001b[0m                \u001b[1;36m308\u001b[0m     \u001b[1;36m638\u001b[0m         \u001b[1;36m981\u001b[0m         \u001b[1;36m644\u001b[0m     \u001b[1;36m674\u001b[0m\n"
      ]
     },
     "metadata": {},
     "output_type": "display_data"
    },
    {
     "data": {
      "text/html": [
       "<pre style=\"white-space:pre;overflow-x:auto;line-height:normal;font-family:Menlo,'DejaVu Sans Mono',consolas,'Courier New',monospace\">Distribusi Frekuensi Product Type untuk Kelompok Usia Laki-laki:\n",
       "</pre>\n"
      ],
      "text/plain": [
       "Distribusi Frekuensi Product Type untuk Kelompok Usia Laki-laki:\n"
      ]
     },
     "metadata": {},
     "output_type": "display_data"
    },
    {
     "data": {
      "text/html": [
       "<pre style=\"white-space:pre;overflow-x:auto;line-height:normal;font-family:Menlo,'DejaVu Sans Mono',consolas,'Courier New',monospace\">Product Type         Headphones  Laptop  Smartphone  Smartwatch  Tablet\n",
       "Age_Group                                                              \n",
       "<span style=\"color: #008080; text-decoration-color: #008080; font-weight: bold\">18</span>-<span style=\"color: #008080; text-decoration-color: #008080; font-weight: bold\">30</span> <span style=\"font-weight: bold\">(</span>Young Adult<span style=\"font-weight: bold\">)</span>         <span style=\"color: #008080; text-decoration-color: #008080; font-weight: bold\">233</span>     <span style=\"color: #008080; text-decoration-color: #008080; font-weight: bold\">390</span>         <span style=\"color: #008080; text-decoration-color: #008080; font-weight: bold\">570</span>         <span style=\"color: #008080; text-decoration-color: #008080; font-weight: bold\">397</span>     <span style=\"color: #008080; text-decoration-color: #008080; font-weight: bold\">432</span>\n",
       "<span style=\"color: #008080; text-decoration-color: #008080; font-weight: bold\">31</span>-<span style=\"color: #008080; text-decoration-color: #008080; font-weight: bold\">44</span> <span style=\"font-weight: bold\">(</span>Middle Age<span style=\"font-weight: bold\">)</span>          <span style=\"color: #008080; text-decoration-color: #008080; font-weight: bold\">251</span>     <span style=\"color: #008080; text-decoration-color: #008080; font-weight: bold\">472</span>         <span style=\"color: #008080; text-decoration-color: #008080; font-weight: bold\">647</span>         <span style=\"color: #008080; text-decoration-color: #008080; font-weight: bold\">447</span>     <span style=\"color: #008080; text-decoration-color: #008080; font-weight: bold\">456</span>\n",
       "<span style=\"color: #008080; text-decoration-color: #008080; font-weight: bold\">45</span>-<span style=\"color: #008080; text-decoration-color: #008080; font-weight: bold\">59</span> <span style=\"font-weight: bold\">(</span>Pre Senior<span style=\"font-weight: bold\">)</span>          <span style=\"color: #008080; text-decoration-color: #008080; font-weight: bold\">228</span>     <span style=\"color: #008080; text-decoration-color: #008080; font-weight: bold\">502</span>         <span style=\"color: #008080; text-decoration-color: #008080; font-weight: bold\">779</span>         <span style=\"color: #008080; text-decoration-color: #008080; font-weight: bold\">483</span>     <span style=\"color: #008080; text-decoration-color: #008080; font-weight: bold\">478</span>\n",
       "<span style=\"color: #008080; text-decoration-color: #008080; font-weight: bold\">60</span>+ <span style=\"font-weight: bold\">(</span>Senior<span style=\"font-weight: bold\">)</span>                <span style=\"color: #008080; text-decoration-color: #008080; font-weight: bold\">332</span>     <span style=\"color: #008080; text-decoration-color: #008080; font-weight: bold\">637</span>        <span style=\"color: #008080; text-decoration-color: #008080; font-weight: bold\">1002</span>         <span style=\"color: #008080; text-decoration-color: #008080; font-weight: bold\">706</span>     <span style=\"color: #008080; text-decoration-color: #008080; font-weight: bold\">722</span>\n",
       "</pre>\n"
      ],
      "text/plain": [
       "Product Type         Headphones  Laptop  Smartphone  Smartwatch  Tablet\n",
       "Age_Group                                                              \n",
       "\u001b[1;36m18\u001b[0m-\u001b[1;36m30\u001b[0m \u001b[1m(\u001b[0mYoung Adult\u001b[1m)\u001b[0m         \u001b[1;36m233\u001b[0m     \u001b[1;36m390\u001b[0m         \u001b[1;36m570\u001b[0m         \u001b[1;36m397\u001b[0m     \u001b[1;36m432\u001b[0m\n",
       "\u001b[1;36m31\u001b[0m-\u001b[1;36m44\u001b[0m \u001b[1m(\u001b[0mMiddle Age\u001b[1m)\u001b[0m          \u001b[1;36m251\u001b[0m     \u001b[1;36m472\u001b[0m         \u001b[1;36m647\u001b[0m         \u001b[1;36m447\u001b[0m     \u001b[1;36m456\u001b[0m\n",
       "\u001b[1;36m45\u001b[0m-\u001b[1;36m59\u001b[0m \u001b[1m(\u001b[0mPre Senior\u001b[1m)\u001b[0m          \u001b[1;36m228\u001b[0m     \u001b[1;36m502\u001b[0m         \u001b[1;36m779\u001b[0m         \u001b[1;36m483\u001b[0m     \u001b[1;36m478\u001b[0m\n",
       "\u001b[1;36m60\u001b[0m+ \u001b[1m(\u001b[0mSenior\u001b[1m)\u001b[0m                \u001b[1;36m332\u001b[0m     \u001b[1;36m637\u001b[0m        \u001b[1;36m1002\u001b[0m         \u001b[1;36m706\u001b[0m     \u001b[1;36m722\u001b[0m\n"
      ]
     },
     "metadata": {},
     "output_type": "display_data"
    }
   ],
   "source": [
    "# Tabulating Data\n",
    "# 1. Tabel Tabulasi Gender\n",
    "gender_crosstabe = pd.crosstab(index=df[\"Gender\"], columns=\"count\")\n",
    "gender_crosstabe[\"Percentage\"] = (\n",
    "    gender_crosstabe[\"count\"] / gender_crosstabe[\"count\"].sum() * 100\n",
    ").round(2)\n",
    "total_row = pd.DataFrame(\n",
    "    {\n",
    "        \"gender\":[gender_crosstabe]\"count\": [gender_crosstabe[\"count\"].sum()],\n",
    "        \"Percentage\": [gender_crosstabe[\"Percentage\"].sum()],\n",
    "    },\n",
    "    index=[\"Total\"],\n",
    ")\n",
    "gender_crosstabe = pd.concat([gender_crosstabe, total_row])\n",
    "\n",
    "# Display using rich Table\n",
    "gender_table = Table(\n",
    "    title=\"Tabulasi Gender\",\n",
    "    title_style=\"bold yellow\",\n",
    "    show_lines=True,\n",
    ")\n",
    "for col in gender_crosstabe.columns:\n",
    "    gender_table.add_column(col, style=\"white bold\", justify=\"center\")\n",
    "for idx, row in gender_crosstabe.iterrows():\n",
    "    gender_table.add_row(str(idx), *[str(item) for item in row])\n",
    "console = Console(width=terminal_width)\n",
    "console.print(gender_table)\n",
    "\n",
    "# 2. Tabel Tabulasi Age-Group\n",
    "# 3. Tabel Tabulasi Product Type\n",
    "summary_df = (\n",
    "    df.groupby(\"Product Type\")\n",
    "    .agg(\n",
    "        Total_Revenue=(\"Total Price\", \"sum\"),\n",
    "        Average_Rating=(\"Rating\", \"mean\"),\n",
    "        Average_Quantity=(\"Quantity\", \"mean\"),\n",
    "        Buyer_Age=(\"Age\", \"mean\"),\n",
    "        Average_Addon_Total=(\"Add-on Total\", \"mean\"),\n",
    "        Transaction_Count=(\"Product Type\", \"count\"),\n",
    "    )\n",
    "    .reset_index()\n",
    ")\n",
    "\n",
    "# Formatting\n",
    "summary_df[\"Total_Revenue\"] = summary_df[\"Total_Revenue\"].apply(\n",
    "    lambda x: f\"${x/1000:,.0f}k\"\n",
    ")\n",
    "summary_df[\"Average_Rating\"] = summary_df[\"Average_Rating\"].round(2)\n",
    "summary_df[\"Average_Quantity\"] = summary_df[\"Average_Quantity\"].round(2)\n",
    "summary_df[\"Buyer_Age\"] = summary_df[\"Buyer_Age\"].round(1)\n",
    "summary_df[\"Average_Addon_Total\"] = summary_df[\"Average_Addon_Total\"].apply(\n",
    "    lambda x: f\"${x:.2f}\"\n",
    ")\n",
    "\n",
    "table = Table(\n",
    "    title=\"Tabulasi Utama Berdasarkan Product Type\",\n",
    "    title_style=\"bold yellow\",\n",
    "    show_lines=True,\n",
    ")\n",
    "for column in summary_df.columns:\n",
    "    table.add_column(column, style=\"white bold\", justify=\"center\", no_wrap=True)\n",
    "for _, row in summary_df.iterrows():\n",
    "    table.add_row(*[str(item) for item in row])\n",
    "console = Console()\n",
    "console.print(table)\n",
    "\n",
    "# Filter Gender\n",
    "filtered_female_df = df[(df[\"Gender\"] == \"Female\") & (df[\"Age_Group\"])]\n",
    "filtered_male_df = df[(df[\"Gender\"] == \"Male\") & (df[\"Age_Group\"])]\n",
    "\n",
    "# 2. Tabel Distribusi Frekuensi Shipping Type terhadap Kelompok Umur Perempuan dan Laki-Laki\n",
    "crosstab_df = pd.crosstab(\n",
    "    index=df[\"Age_Group\"], columns=[df[\"Shipping Type\"], df[\"Gender\"]]\n",
    ")\n",
    "crosstab_df.columns = [f\"{col[0]} ({col[1]})\" for col in crosstab_df.columns]\n",
    "crosstab_df.reset_index(inplace=True)\n",
    "console = Console(width=200)\n",
    "table = Table(\n",
    "    title=\"Distribusi Frekuensi Shipping Type\",\n",
    "    title_style=\"bold yellow\",\n",
    "    show_lines=True,\n",
    "    expand=True,\n",
    ")\n",
    "for column in crosstab_df.columns:\n",
    "    table.add_column(column, style=\"white bold\", justify=\"center\", no_wrap=True)\n",
    "for _, row in crosstab_df.iterrows():\n",
    "    table.add_row(*[str(item) for item in row])\n",
    "console.print(table)\n",
    "\n",
    "# 3. Tabel Distribusi Frekuensi Payment Method terhadap Kelompok Umur Perempuan dan Laki-laki\n",
    "Console(width=terminal_width).rule(\n",
    "    \"[bold yellow]Distribusi Frekuensi Payment Method terhadap Kelompok Usia Perempuan dan Laki-laki\"\n",
    ")\n",
    "female_payment = pd.crosstab(\n",
    "    index=filtered_female_df[\"Age_Group\"], columns=filtered_female_df[\"Payment Method\"]\n",
    ")\n",
    "print(female_payment.head(5))\n",
    "male_payment = pd.crosstab(\n",
    "    index=filtered_male_df[\"Age_Group\"], columns=filtered_male_df[\"Payment Method\"]\n",
    ")\n",
    "print(male_payment.head(5))\n",
    "\n",
    "# 4. Tabel Distribusi Frekuensi Product Type terhadap Kelompok Umur Perempuan dan Laki-laki\n",
    "Console(width=terminal_width).rule(\n",
    "    \"[bold yellow]Distribusi Frekuensi Product Type terhadap Kelompok Usia Perempuan dan Laki-laki\"\n",
    ")\n",
    "female_shipping = pd.crosstab(\n",
    "    index=filtered_female_df[\"Age_Group\"], columns=filtered_female_df[\"Product Type\"]\n",
    ")\n",
    "male_product = pd.crosstab(\n",
    "    index=filtered_male_df[\"Age_Group\"], columns=filtered_male_df[\"Product Type\"]\n",
    ")\n",
    "print(\"Distribusi Frekuensi Product Type untuk Kelompok Usia Perempuan:\")\n",
    "print(female_shipping)\n",
    "print(\"Distribusi Frekuensi Product Type untuk Kelompok Usia Laki-laki:\")\n",
    "print(male_product)"
   ]
  },
  {
   "cell_type": "code",
   "execution_count": null,
   "id": "93043ce3",
   "metadata": {},
   "outputs": [],
   "source": []
  }
 ],
 "metadata": {
  "kernelspec": {
   "display_name": "Python 3",
   "language": "python",
   "name": "python3"
  },
  "language_info": {
   "codemirror_mode": {
    "name": "ipython",
    "version": 3
   },
   "file_extension": ".py",
   "mimetype": "text/x-python",
   "name": "python",
   "nbconvert_exporter": "python",
   "pygments_lexer": "ipython3",
   "version": "3.13.2"
  }
 },
 "nbformat": 4,
 "nbformat_minor": 5
}
